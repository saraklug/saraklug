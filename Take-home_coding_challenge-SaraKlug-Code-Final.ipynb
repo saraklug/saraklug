{
 "cells": [
  {
   "cell_type": "code",
   "execution_count": 1,
   "metadata": {},
   "outputs": [],
   "source": [
    "import glob\n",
    "import pandas as pd\n",
    "import numpy as np\n",
    "import seaborn as sns\n",
    "import matplotlib.pyplot as plt\n",
    "import warnings\n",
    "warnings.filterwarnings(\"ignore\")"
   ]
  },
  {
   "cell_type": "code",
   "execution_count": 2,
   "metadata": {},
   "outputs": [],
   "source": [
    "pd.set_option('display.max_columns', None)\n",
    "pd.set_option('display.expand_frame_repr', False)\n",
    "pd.set_option('max_colwidth', None)"
   ]
  },
  {
   "cell_type": "markdown",
   "metadata": {},
   "source": [
    "### Data import"
   ]
  },
  {
   "cell_type": "code",
   "execution_count": 3,
   "metadata": {},
   "outputs": [
    {
     "data": {
      "text/html": [
       "<div>\n",
       "<style scoped>\n",
       "    .dataframe tbody tr th:only-of-type {\n",
       "        vertical-align: middle;\n",
       "    }\n",
       "\n",
       "    .dataframe tbody tr th {\n",
       "        vertical-align: top;\n",
       "    }\n",
       "\n",
       "    .dataframe thead th {\n",
       "        text-align: right;\n",
       "    }\n",
       "</style>\n",
       "<table border=\"1\" class=\"dataframe\">\n",
       "  <thead>\n",
       "    <tr style=\"text-align: right;\">\n",
       "      <th></th>\n",
       "      <th>domain_userid</th>\n",
       "      <th>network_userid</th>\n",
       "      <th>domain_sessionid</th>\n",
       "      <th>useragent</th>\n",
       "      <th>os_name</th>\n",
       "      <th>os_family</th>\n",
       "      <th>br_name</th>\n",
       "      <th>br_family</th>\n",
       "      <th>br_version</th>\n",
       "      <th>br_type</th>\n",
       "      <th>derived_tstamp</th>\n",
       "      <th>collector_tstamp</th>\n",
       "      <th>page_urlscheme</th>\n",
       "      <th>page_urlhost</th>\n",
       "      <th>page_urlport</th>\n",
       "      <th>page_urlpath</th>\n",
       "      <th>refr_urlscheme</th>\n",
       "      <th>refr_urlhost</th>\n",
       "      <th>refr_urlport</th>\n",
       "      <th>refr_urlpath</th>\n",
       "      <th>app_id</th>\n",
       "      <th>user_ipaddress</th>\n",
       "      <th>page_view_id</th>\n",
       "      <th>member_id</th>\n",
       "      <th>member_type</th>\n",
       "      <th>article_id</th>\n",
       "      <th>article_type</th>\n",
       "      <th>article_primary_category</th>\n",
       "    </tr>\n",
       "  </thead>\n",
       "  <tbody>\n",
       "    <tr>\n",
       "      <th>0</th>\n",
       "      <td>4c787d9b-def2-48df-8175-0194a70d4d2e</td>\n",
       "      <td>10126034-d193-40f9-8d43-08eeb4fa1c55</td>\n",
       "      <td>f9918862-c713-4be9-9aa2-6669ed8e97a0</td>\n",
       "      <td>Mozilla/5.0 (iPhone; CPU iPhone OS 13_5_1 like Mac OS X) AppleWebKit/605.1.15 (KHTML, like Gecko) Mobile/15E148 [FBAN/FBIOS;FBAV/278.0.0.38.115;FBBV/229103054;FBDV/iPhone11,2;FBMD/iPhone;FBSN/iOS;FBSV/13.5.1;FBSS/3;FBID/phone;FBLC/en_GB;FBOP/5;FBRV/233116984]</td>\n",
       "      <td>Mac OS X (iPhone)</td>\n",
       "      <td>iOS</td>\n",
       "      <td>Apple WebKit</td>\n",
       "      <td>Apple WebKit</td>\n",
       "      <td>NaN</td>\n",
       "      <td>Browser</td>\n",
       "      <td>2020-09-02 05:31:32.623 UTC</td>\n",
       "      <td>2020-09-02 05:31:32.631 UTC</td>\n",
       "      <td>https</td>\n",
       "      <td>subscribe.smh.com.au</td>\n",
       "      <td>80</td>\n",
       "      <td>/</td>\n",
       "      <td>https</td>\n",
       "      <td>www.facebook.com</td>\n",
       "      <td>80.0</td>\n",
       "      <td>/</td>\n",
       "      <td>smh-web</td>\n",
       "      <td>lHArjWn1sYOQukFaQFJbFQotZwlCt2PLD3GPmptn4g4=</td>\n",
       "      <td>A1CF875B-3A58-40D2-9B3B-6C4C230300BE</td>\n",
       "      <td>0AAQhPrQmHuvKC08RFgkT68fGVirRQfhzeaoZL6FS6Y=</td>\n",
       "      <td>Non-Subscriber</td>\n",
       "      <td>NaN</td>\n",
       "      <td>BUNDLES</td>\n",
       "      <td>NaN</td>\n",
       "    </tr>\n",
       "    <tr>\n",
       "      <th>1</th>\n",
       "      <td>069128fe-9b68-4add-aa40-a80b25296c0f</td>\n",
       "      <td>69214b7c-61cf-499e-b106-79ba83cd6e69</td>\n",
       "      <td>1c40bf63-c772-48f3-afee-d610de9c2197</td>\n",
       "      <td>Mozilla/5.0 (iPhone; CPU iPhone OS 13_6_1 like Mac OS X) AppleWebKit/605.1.15 (KHTML, like Gecko) Mobile/15E148 [FBAN/FBIOS;FBAV/284.0.0.53.102;FBBV/239566903;FBDV/iPhone11,8;FBMD/iPhone;FBSN/iOS;FBSV/13.6.1;FBSS/2;FBID/phone;FBLC/en_GB;FBOP/5;FBRV/241187076]</td>\n",
       "      <td>Mac OS X (iPhone)</td>\n",
       "      <td>iOS</td>\n",
       "      <td>Apple WebKit</td>\n",
       "      <td>Apple WebKit</td>\n",
       "      <td>NaN</td>\n",
       "      <td>Browser</td>\n",
       "      <td>2020-09-02 07:02:05.672 UTC</td>\n",
       "      <td>2020-09-02 07:02:05.678 UTC</td>\n",
       "      <td>https</td>\n",
       "      <td>subscribe.smh.com.au</td>\n",
       "      <td>80</td>\n",
       "      <td>/</td>\n",
       "      <td>https</td>\n",
       "      <td>www.facebook.com</td>\n",
       "      <td>80.0</td>\n",
       "      <td>/</td>\n",
       "      <td>smh-web</td>\n",
       "      <td>Ko5v+2V6wwo4avp/6tCb96GInTiirs7G+ZtIDK0AiS8=</td>\n",
       "      <td>8566CD91-47DD-4ABD-A985-876DB9A2DB11</td>\n",
       "      <td>0AAQhPrQmHuvKC08RFgkT68fGVirRQfhzeaoZL6FS6Y=</td>\n",
       "      <td>Non-Subscriber</td>\n",
       "      <td>NaN</td>\n",
       "      <td>BUNDLES</td>\n",
       "      <td>NaN</td>\n",
       "    </tr>\n",
       "    <tr>\n",
       "      <th>2</th>\n",
       "      <td>54d88719-c586-4e17-a10d-d55d40aa8ec7</td>\n",
       "      <td>0cf831c9-e2f7-4554-a084-d0080c597130</td>\n",
       "      <td>4a6b3c4e-742c-42b4-82c4-7eb44c57d18f</td>\n",
       "      <td>Mozilla/5.0 (iPhone; CPU iPhone OS 13_6_1 like Mac OS X) AppleWebKit/605.1.15 (KHTML, like Gecko) Mobile/15E148 [FBAN/FBIOS;FBAV/285.0.0.58.116;FBBV/241286868;FBDV/iPhone10,1;FBMD/iPhone;FBSN/iOS;FBSV/13.6.1;FBSS/2;FBID/phone;FBLC/en_GB;FBOP/5;FBRV/242232675]</td>\n",
       "      <td>Mac OS X (iPhone)</td>\n",
       "      <td>iOS</td>\n",
       "      <td>Apple WebKit</td>\n",
       "      <td>Apple WebKit</td>\n",
       "      <td>NaN</td>\n",
       "      <td>Browser</td>\n",
       "      <td>2020-09-02 09:34:26.496 UTC</td>\n",
       "      <td>2020-09-02 09:34:26.497 UTC</td>\n",
       "      <td>https</td>\n",
       "      <td>www.smh.com.au</td>\n",
       "      <td>80</td>\n",
       "      <td>/national/covid-19-data-centre-coronavirus-by-the-numbers-20200401-p54g4w.html</td>\n",
       "      <td>http</td>\n",
       "      <td>l.facebook.com</td>\n",
       "      <td>80.0</td>\n",
       "      <td>/l.php</td>\n",
       "      <td>smh-web</td>\n",
       "      <td>HyR7dH9fWnHIti4IhqcoT+vfYUVngUudtiXjtDAZEcw=</td>\n",
       "      <td>8CD988BA-A702-4954-AEA5-AD356A8B08DB</td>\n",
       "      <td>0AAQhPrQmHuvKC08RFgkT68fGVirRQfhzeaoZL6FS6Y=</td>\n",
       "      <td>Non-Subscriber</td>\n",
       "      <td>P54G4W</td>\n",
       "      <td>BESPOKE</td>\n",
       "      <td>CORONAVIRUS PANDEMIC</td>\n",
       "    </tr>\n",
       "    <tr>\n",
       "      <th>3</th>\n",
       "      <td>22d45b46-8f1d-4323-a9fe-c4fb64f3a9b1</td>\n",
       "      <td>af414736-ef29-46ec-b793-3211a6febd35</td>\n",
       "      <td>490ab8b1-dd7e-4295-adbb-7dbcc11fa230</td>\n",
       "      <td>Mozilla/5.0 (iPhone; CPU iPhone OS 13_6_1 like Mac OS X) AppleWebKit/605.1.15 (KHTML, like Gecko) Mobile/15E148 [FBAN/FBIOS;FBAV/285.0.0.58.116;FBBV/241286868;FBDV/iPhone10,3;FBMD/iPhone;FBSN/iOS;FBSV/13.6.1;FBSS/3;FBID/phone;FBLC/en_GB;FBOP/5;FBRV/242176790]</td>\n",
       "      <td>Mac OS X (iPhone)</td>\n",
       "      <td>iOS</td>\n",
       "      <td>Apple WebKit</td>\n",
       "      <td>Apple WebKit</td>\n",
       "      <td>NaN</td>\n",
       "      <td>Browser</td>\n",
       "      <td>2020-09-02 06:57:58.248 UTC</td>\n",
       "      <td>2020-09-02 06:57:58.594 UTC</td>\n",
       "      <td>https</td>\n",
       "      <td>www.smh.com.au</td>\n",
       "      <td>80</td>\n",
       "      <td>/</td>\n",
       "      <td>http</td>\n",
       "      <td>l.facebook.com</td>\n",
       "      <td>80.0</td>\n",
       "      <td>/l.php</td>\n",
       "      <td>smh-web</td>\n",
       "      <td>8oVjt+1jHJfCWcNLt1x0m3/OR8KO3t6Qdo84CywfvJk=</td>\n",
       "      <td>92A1022F-6F13-41F6-91CE-DC3EFC9F5BD3</td>\n",
       "      <td>0AAQhPrQmHuvKC08RFgkT68fGVirRQfhzeaoZL6FS6Y=</td>\n",
       "      <td>Non-Subscriber</td>\n",
       "      <td>NaN</td>\n",
       "      <td>HOMEPAGE</td>\n",
       "      <td>NaN</td>\n",
       "    </tr>\n",
       "    <tr>\n",
       "      <th>4</th>\n",
       "      <td>5cc4c8de-9764-497a-9c6d-e88a9f2f8314</td>\n",
       "      <td>3a3acdf8-d833-4e54-88b5-83c7c2820e35</td>\n",
       "      <td>5317512c-f741-4671-8c9d-156aff3ef779</td>\n",
       "      <td>Mozilla/5.0 (iPhone; CPU iPhone OS 13_6 like Mac OS X) AppleWebKit/605.1.15 (KHTML, like Gecko) Mobile/15E148 [FBAN/FBIOS;FBAV/269.0.0.65.121;FBBV/212944159;FBDV/iPhone11,8;FBMD/iPhone;FBSN/iOS;FBSV/13.6;FBSS/2;FBID/phone;FBLC/en_Qaau_GB;FBOP/5;FBRV/215437040]</td>\n",
       "      <td>Mac OS X (iPhone)</td>\n",
       "      <td>iOS</td>\n",
       "      <td>Apple WebKit</td>\n",
       "      <td>Apple WebKit</td>\n",
       "      <td>NaN</td>\n",
       "      <td>Browser</td>\n",
       "      <td>2020-09-02 05:32:06.778 UTC</td>\n",
       "      <td>2020-09-02 05:32:06.785 UTC</td>\n",
       "      <td>https</td>\n",
       "      <td>subscribe.smh.com.au</td>\n",
       "      <td>80</td>\n",
       "      <td>/</td>\n",
       "      <td>https</td>\n",
       "      <td>www.facebook.com</td>\n",
       "      <td>80.0</td>\n",
       "      <td>/</td>\n",
       "      <td>smh-web</td>\n",
       "      <td>CeSRXwk1Xx7Yg8k+wv++FTw4E/oRMfZxhJ0/PVCH3sU=</td>\n",
       "      <td>D58D994C-C9D1-4FBD-9B8A-64EA4BE951B2</td>\n",
       "      <td>0AAQhPrQmHuvKC08RFgkT68fGVirRQfhzeaoZL6FS6Y=</td>\n",
       "      <td>Non-Subscriber</td>\n",
       "      <td>NaN</td>\n",
       "      <td>BUNDLES</td>\n",
       "      <td>NaN</td>\n",
       "    </tr>\n",
       "  </tbody>\n",
       "</table>\n",
       "</div>"
      ],
      "text/plain": [
       "                          domain_userid                        network_userid                      domain_sessionid                                                                                                                                                                                                                                                             useragent            os_name os_family       br_name     br_family br_version  br_type               derived_tstamp             collector_tstamp page_urlscheme          page_urlhost  page_urlport                                                                    page_urlpath refr_urlscheme      refr_urlhost  refr_urlport refr_urlpath   app_id                                user_ipaddress                          page_view_id                                     member_id     member_type article_id article_type article_primary_category\n",
       "0  4c787d9b-def2-48df-8175-0194a70d4d2e  10126034-d193-40f9-8d43-08eeb4fa1c55  f9918862-c713-4be9-9aa2-6669ed8e97a0   Mozilla/5.0 (iPhone; CPU iPhone OS 13_5_1 like Mac OS X) AppleWebKit/605.1.15 (KHTML, like Gecko) Mobile/15E148 [FBAN/FBIOS;FBAV/278.0.0.38.115;FBBV/229103054;FBDV/iPhone11,2;FBMD/iPhone;FBSN/iOS;FBSV/13.5.1;FBSS/3;FBID/phone;FBLC/en_GB;FBOP/5;FBRV/233116984]  Mac OS X (iPhone)       iOS  Apple WebKit  Apple WebKit        NaN  Browser  2020-09-02 05:31:32.623 UTC  2020-09-02 05:31:32.631 UTC          https  subscribe.smh.com.au            80                                                                               /          https  www.facebook.com          80.0            /  smh-web  lHArjWn1sYOQukFaQFJbFQotZwlCt2PLD3GPmptn4g4=  A1CF875B-3A58-40D2-9B3B-6C4C230300BE  0AAQhPrQmHuvKC08RFgkT68fGVirRQfhzeaoZL6FS6Y=  Non-Subscriber        NaN      BUNDLES                      NaN\n",
       "1  069128fe-9b68-4add-aa40-a80b25296c0f  69214b7c-61cf-499e-b106-79ba83cd6e69  1c40bf63-c772-48f3-afee-d610de9c2197   Mozilla/5.0 (iPhone; CPU iPhone OS 13_6_1 like Mac OS X) AppleWebKit/605.1.15 (KHTML, like Gecko) Mobile/15E148 [FBAN/FBIOS;FBAV/284.0.0.53.102;FBBV/239566903;FBDV/iPhone11,8;FBMD/iPhone;FBSN/iOS;FBSV/13.6.1;FBSS/2;FBID/phone;FBLC/en_GB;FBOP/5;FBRV/241187076]  Mac OS X (iPhone)       iOS  Apple WebKit  Apple WebKit        NaN  Browser  2020-09-02 07:02:05.672 UTC  2020-09-02 07:02:05.678 UTC          https  subscribe.smh.com.au            80                                                                               /          https  www.facebook.com          80.0            /  smh-web  Ko5v+2V6wwo4avp/6tCb96GInTiirs7G+ZtIDK0AiS8=  8566CD91-47DD-4ABD-A985-876DB9A2DB11  0AAQhPrQmHuvKC08RFgkT68fGVirRQfhzeaoZL6FS6Y=  Non-Subscriber        NaN      BUNDLES                      NaN\n",
       "2  54d88719-c586-4e17-a10d-d55d40aa8ec7  0cf831c9-e2f7-4554-a084-d0080c597130  4a6b3c4e-742c-42b4-82c4-7eb44c57d18f   Mozilla/5.0 (iPhone; CPU iPhone OS 13_6_1 like Mac OS X) AppleWebKit/605.1.15 (KHTML, like Gecko) Mobile/15E148 [FBAN/FBIOS;FBAV/285.0.0.58.116;FBBV/241286868;FBDV/iPhone10,1;FBMD/iPhone;FBSN/iOS;FBSV/13.6.1;FBSS/2;FBID/phone;FBLC/en_GB;FBOP/5;FBRV/242232675]  Mac OS X (iPhone)       iOS  Apple WebKit  Apple WebKit        NaN  Browser  2020-09-02 09:34:26.496 UTC  2020-09-02 09:34:26.497 UTC          https        www.smh.com.au            80  /national/covid-19-data-centre-coronavirus-by-the-numbers-20200401-p54g4w.html           http    l.facebook.com          80.0       /l.php  smh-web  HyR7dH9fWnHIti4IhqcoT+vfYUVngUudtiXjtDAZEcw=  8CD988BA-A702-4954-AEA5-AD356A8B08DB  0AAQhPrQmHuvKC08RFgkT68fGVirRQfhzeaoZL6FS6Y=  Non-Subscriber     P54G4W      BESPOKE     CORONAVIRUS PANDEMIC\n",
       "3  22d45b46-8f1d-4323-a9fe-c4fb64f3a9b1  af414736-ef29-46ec-b793-3211a6febd35  490ab8b1-dd7e-4295-adbb-7dbcc11fa230   Mozilla/5.0 (iPhone; CPU iPhone OS 13_6_1 like Mac OS X) AppleWebKit/605.1.15 (KHTML, like Gecko) Mobile/15E148 [FBAN/FBIOS;FBAV/285.0.0.58.116;FBBV/241286868;FBDV/iPhone10,3;FBMD/iPhone;FBSN/iOS;FBSV/13.6.1;FBSS/3;FBID/phone;FBLC/en_GB;FBOP/5;FBRV/242176790]  Mac OS X (iPhone)       iOS  Apple WebKit  Apple WebKit        NaN  Browser  2020-09-02 06:57:58.248 UTC  2020-09-02 06:57:58.594 UTC          https        www.smh.com.au            80                                                                               /           http    l.facebook.com          80.0       /l.php  smh-web  8oVjt+1jHJfCWcNLt1x0m3/OR8KO3t6Qdo84CywfvJk=  92A1022F-6F13-41F6-91CE-DC3EFC9F5BD3  0AAQhPrQmHuvKC08RFgkT68fGVirRQfhzeaoZL6FS6Y=  Non-Subscriber        NaN     HOMEPAGE                      NaN\n",
       "4  5cc4c8de-9764-497a-9c6d-e88a9f2f8314  3a3acdf8-d833-4e54-88b5-83c7c2820e35  5317512c-f741-4671-8c9d-156aff3ef779  Mozilla/5.0 (iPhone; CPU iPhone OS 13_6 like Mac OS X) AppleWebKit/605.1.15 (KHTML, like Gecko) Mobile/15E148 [FBAN/FBIOS;FBAV/269.0.0.65.121;FBBV/212944159;FBDV/iPhone11,8;FBMD/iPhone;FBSN/iOS;FBSV/13.6;FBSS/2;FBID/phone;FBLC/en_Qaau_GB;FBOP/5;FBRV/215437040]  Mac OS X (iPhone)       iOS  Apple WebKit  Apple WebKit        NaN  Browser  2020-09-02 05:32:06.778 UTC  2020-09-02 05:32:06.785 UTC          https  subscribe.smh.com.au            80                                                                               /          https  www.facebook.com          80.0            /  smh-web  CeSRXwk1Xx7Yg8k+wv++FTw4E/oRMfZxhJ0/PVCH3sU=  D58D994C-C9D1-4FBD-9B8A-64EA4BE951B2  0AAQhPrQmHuvKC08RFgkT68fGVirRQfhzeaoZL6FS6Y=  Non-Subscriber        NaN      BUNDLES                      NaN"
      ]
     },
     "execution_count": 3,
     "metadata": {},
     "output_type": "execute_result"
    }
   ],
   "source": [
    "# Load data\n",
    "files = glob.glob(\"Dataset/Data files/data_raw_data00000000000*\")\n",
    "dfs = [pd.read_csv(f) for f in files]\n",
    "events = pd.concat(dfs,ignore_index=True)\n",
    "events.head()"
   ]
  },
  {
   "cell_type": "markdown",
   "metadata": {},
   "source": [
    "### Looking at the data\n",
    "Below shows a selection of data discovery tasks"
   ]
  },
  {
   "cell_type": "code",
   "execution_count": 4,
   "metadata": {},
   "outputs": [
    {
     "data": {
      "text/plain": [
       "(3659406, 28)"
      ]
     },
     "execution_count": 4,
     "metadata": {},
     "output_type": "execute_result"
    }
   ],
   "source": [
    "events.shape"
   ]
  },
  {
   "cell_type": "code",
   "execution_count": 5,
   "metadata": {},
   "outputs": [
    {
     "name": "stdout",
     "output_type": "stream",
     "text": [
      "domain_userid                     0\n",
      "network_userid                   28\n",
      "domain_sessionid                  0\n",
      "useragent                         0\n",
      "os_name                           0\n",
      "os_family                         0\n",
      "br_name                           0\n",
      "br_family                         0\n",
      "br_version                   251308\n",
      "br_type                           0\n",
      "derived_tstamp                    0\n",
      "collector_tstamp                  0\n",
      "page_urlscheme                    0\n",
      "page_urlhost                      0\n",
      "page_urlport                      0\n",
      "page_urlpath                      0\n",
      "refr_urlscheme              1322786\n",
      "refr_urlhost                1322817\n",
      "refr_urlport                1322785\n",
      "refr_urlpath                1434924\n",
      "app_id                            0\n",
      "user_ipaddress                    0\n",
      "page_view_id                   1520\n",
      "member_id                         0\n",
      "member_type                       0\n",
      "article_id                  2253631\n",
      "article_type                   4150\n",
      "article_primary_category    2354892\n",
      "dtype: int64\n"
     ]
    }
   ],
   "source": [
    "# Columns with NaN values\n",
    "print(events.isnull().sum())"
   ]
  },
  {
   "cell_type": "code",
   "execution_count": 6,
   "metadata": {},
   "outputs": [
    {
     "name": "stdout",
     "output_type": "stream",
     "text": [
      "HOMEPAGE                2022018\n",
      "ARTICLE                 1130366\n",
      "INDEX                    222799\n",
      "LIVE ARTICLE             192771\n",
      "VIDEO                     31698\n",
      "FEATUREARTICLE            30084\n",
      "BESPOKE                   10057\n",
      "BUNDLES                    2750\n",
      "SEARCH                     2447\n",
      "PUZZLE                     2130\n",
      "ERROR                      1626\n",
      "PHOTOGALLERY               1419\n",
      "LOGIN                      1096\n",
      "SUBSCRIPTION                791\n",
      "SUBSCRIPTIONS               564\n",
      "CONCIERGE                   510\n",
      "PROFILE DETAILS             458\n",
      "SUBSCRIPTION DETAILS        350\n",
      "SUBSCRIPTION FUNNEL         327\n",
      "BILLING INFORMATION         229\n",
      "SIGNUPS                     198\n",
      "PAYMENT METHOD              193\n",
      "LOGIN DETAILS               173\n",
      "NEWSLETTERS                  87\n",
      "CONTACT METHOD               57\n",
      "CHANGE PACKAGE               39\n",
      "SMH BUNDLES                  14\n",
      "SOUNDSLIDE                    5\n",
      "Name: article_type, dtype: int64\n"
     ]
    }
   ],
   "source": [
    "# Look at the frequency distribution of categories within a feature\n",
    "print(events['article_type'].value_counts())"
   ]
  },
  {
   "cell_type": "markdown",
   "metadata": {},
   "source": [
    "Looked at events with a null article_type - they seem to mostly be things like interactive pages, support center overview or signup pages. It could be useful to add article types so these could be easier tracked if required."
   ]
  },
  {
   "cell_type": "code",
   "execution_count": 7,
   "metadata": {},
   "outputs": [
    {
     "data": {
      "text/plain": [
       "array(['/interactive/2020/coronavirus/what-is-within-5km-radius/index.html',\n",
       "       '/signup_newsletter/40', '/',\n",
       "       '/channel/zHE9EWDHf1XPuz3Phk0YIg/members/signups/confirmation',\n",
       "       '/support-centre/subscription-benefits/',\n",
       "       '//faqs/can-access-todays-paper/', '/signup_newsletter',\n",
       "       '/support-centre/overview/', '/faqs/can-access-todays-paper/',\n",
       "       '/support-centre/newspaper-deliveries/', '/read-todays-paper/',\n",
       "       '/support-centre/manage-billing-and-accounts/', '/app.html',\n",
       "       '/support-centre/todays-paper/',\n",
       "       '/events-offers/spend-thursdays-palace-cinemas/',\n",
       "       '/subscription-features/',\n",
       "       '/faqs/newspaper-wasnt-delivered-today-3/',\n",
       "       '/signup_newsletter/10108', '/events-offers/', '/delivery-update/',\n",
       "       '/members/sessions/applenews/gigya_create',\n",
       "       '/signup_newsletter/10103', '/app',\n",
       "       '/faqs/going-away-temporarily-suspend-newspaper-delivery/',\n",
       "       '/members/sessions/applenews/new',\n",
       "       '/interactive/2020/coronavirus/what-is-within-5km-radius/',\n",
       "       '/interactive/2020/coronavirus/standalone-hospital-project/index.html',\n",
       "       '/signup_newsletter/10088',\n",
       "       '/offers/watch-the-hsbc-waratahs-in-style',\n",
       "       '/comment/tennis-should-be-childs-play-for-bernard-tomic-20170709-gx7kd2',\n",
       "       '/signup_newsletter/2032', '/signup_newsletter/2031',\n",
       "       '/signup_newsletter/10026', '/about-us/',\n",
       "       '//faqs/im-trouble-logging/', '/support-centre/subscriber-hub/',\n",
       "       '/signup_newsletter/10086',\n",
       "       '/events-offers/virtual-classes-sydney-dance-company/',\n",
       "       '/business/peptechevogenix-merger-faces-big-sell-20070709-mqp.html',\n",
       "       '/business/roc-oil-merger-deal-sparks-push-for-asx-rule-change-20140711-3bsjt.html',\n",
       "       '/sport/margaret-river-pro-australias-julian-wilson-into-the-final-20160416-go7w36.html',\n",
       "       '/sport/golf/after-injury-jones-ready-to-attack-2014-20131104-2wxig.html',\n",
       "       '/signup_newsletter/10064', '/support-centre/using-our-website/',\n",
       "       '/interactive/2016/sydney2026/chapter1.html',\n",
       "       '/faqs/moved-can-update-delivery-address-3/',\n",
       "       '/support-centre/using-the-mobile-app/',\n",
       "       '/events-offers/exclusive-ticket-presale-offer-miff-68%C2%BD/',\n",
       "       '/events-offers/exclusive-ticket-presale-offer-miff-68%c2%bd/',\n",
       "       '/rugby-league/league-news/williams-not-about-change-his-style-20120514-1yndi.html',\n",
       "       '/world/chinese-court-hands-down-bo-xilai-verdict-20130922-2u7h2.html',\n",
       "       '/articles/smh-live-future-australian-stories/',\n",
       "       '/events-offers/city2surf-subscriber-recovery-hub/',\n",
       "       '/local-forecast/nsw/sydney', '/ipad-app/',\n",
       "       '/events-offers/fairfax-photos/', '/get-started/',\n",
       "       '/faqs/can-cancel-subscription/', '/support-centre/other/',\n",
       "       '/events-offers/exclusive-ticket-offer-aida-sydney-opera-house/',\n",
       "       '/faqs/can-access-todays-paper-2/'], dtype=object)"
      ]
     },
     "execution_count": 7,
     "metadata": {},
     "output_type": "execute_result"
    }
   ],
   "source": [
    "noarttype = events.loc[events['article_type'].isnull()]\n",
    "noarttype['page_urlpath'].unique()"
   ]
  },
  {
   "cell_type": "code",
   "execution_count": 8,
   "metadata": {},
   "outputs": [
    {
     "name": "stdout",
     "output_type": "stream",
     "text": [
      "Chrome               1957694\n",
      "Safari               1138339\n",
      "Firefox               235939\n",
      "Robot/Spider          144163\n",
      "Apple WebKit           75972\n",
      "Internet Explorer      65827\n",
      "Microsoft Edge         34900\n",
      "Unknown                 3792\n",
      "Opera                   1419\n",
      "Mozilla                 1186\n",
      "Vivaldi                  129\n",
      "Konqueror                 35\n",
      "Thunderbird                6\n",
      "SeaMonkey                  4\n",
      "CFNetwork                  1\n",
      "Name: br_family, dtype: int64\n"
     ]
    }
   ],
   "source": [
    "# Look at browser family type\n",
    "print(events['br_family'].value_counts())"
   ]
  },
  {
   "cell_type": "code",
   "execution_count": 9,
   "metadata": {},
   "outputs": [
    {
     "data": {
      "image/png": "[encoded data removed]",
      "text/plain": [
       "<Figure size 432x288 with 1 Axes>"
      ]
     },
     "metadata": {},
     "output_type": "display_data"
    }
   ],
   "source": [
    "# Take a look at the ratio of events that classify themselves as bots\n",
    "labels = events['br_type'].astype('category').cat.categories.tolist()\n",
    "counts = events['br_type'].value_counts()\n",
    "sizes = [counts[var_cat] for var_cat in labels]\n",
    "fig1, ax1 = plt.subplots()\n",
    "ax1.pie(sizes, labels=labels, autopct='%1.1f%%', shadow=True) #autopct is show the % on plot\n",
    "ax1.axis('equal')\n",
    "plt.show()"
   ]
  },
  {
   "cell_type": "markdown",
   "metadata": {},
   "source": [
    "Remove duplicate events:"
   ]
  },
  {
   "cell_type": "code",
   "execution_count": 10,
   "metadata": {},
   "outputs": [],
   "source": [
    "# Find completely duplicate records\n",
    "duplicateevents = events[events.duplicated()]"
   ]
  },
  {
   "cell_type": "code",
   "execution_count": 11,
   "metadata": {},
   "outputs": [
    {
     "data": {
      "text/plain": [
       "(259, 28)"
      ]
     },
     "execution_count": 11,
     "metadata": {},
     "output_type": "execute_result"
    }
   ],
   "source": [
    "duplicateevents.shape"
   ]
  },
  {
   "cell_type": "code",
   "execution_count": 12,
   "metadata": {},
   "outputs": [
    {
     "data": {
      "text/plain": [
       "(3659147, 28)"
      ]
     },
     "execution_count": 12,
     "metadata": {},
     "output_type": "execute_result"
    }
   ],
   "source": [
    "# Remove duplicate events from data set\n",
    "events.drop_duplicates(keep='first', inplace=True)\n",
    "events.shape"
   ]
  },
  {
   "cell_type": "markdown",
   "metadata": {},
   "source": [
    "#### Create a new column to hold user type\n",
    "Here I will save discovered information about bots, proxies, impossible users etc"
   ]
  },
  {
   "cell_type": "code",
   "execution_count": 13,
   "metadata": {},
   "outputs": [],
   "source": [
    "# Create a new column to hold user type\n",
    "events['user_type'] = np.nan"
   ]
  },
  {
   "cell_type": "markdown",
   "metadata": {},
   "source": [
    "### Finding bots"
   ]
  },
  {
   "cell_type": "markdown",
   "metadata": {},
   "source": [
    "#### Known bots\n",
    "First we look for bots that declare themselves as such.\n",
    "\n",
    "The browser name and family would be set to Robot/Spider and browser_type Robot. Alternatively the bot name may included in the useragent so I searched here for bot, spider and crawl to catch any with these strings in the useragent."
   ]
  },
  {
   "cell_type": "code",
   "execution_count": 14,
   "metadata": {},
   "outputs": [
    {
     "data": {
      "text/plain": [
       "Bot    146306\n",
       "Name: user_type, dtype: int64"
      ]
     },
     "execution_count": 14,
     "metadata": {},
     "output_type": "execute_result"
    }
   ],
   "source": [
    "# Search for declared bots as well as those with bot, crawl or spider in the useragent\n",
    "mask = (events['br_name'] == 'Robot/Spider') | (events['br_family'] == 'Robot/Spider') | (events['br_type'] == 'Robot') | (events['useragent'].str.contains(\"bot|spider|crawl\"))\n",
    "events.loc[mask, 'user_type'] = 'Bot'\n",
    "events['user_type'].value_counts()"
   ]
  },
  {
   "cell_type": "markdown",
   "metadata": {},
   "source": [
    "#### Compare with a database or list of known crawler user agents\n",
    "Here I use a list from https://github.com/monperrus/crawler-user-agents and assign not yet identified events with these user agents as probable bots"
   ]
  },
  {
   "cell_type": "code",
   "execution_count": 15,
   "metadata": {},
   "outputs": [
    {
     "data": {
      "text/plain": [
       "(516, 6)"
      ]
     },
     "execution_count": 15,
     "metadata": {},
     "output_type": "execute_result"
    }
   ],
   "source": [
    "# Load crawler-user-agents dataset\n",
    "useragents = pd.read_json(\"Dataset/Data files/crawler-user-agents.json\")\n",
    "useragents.shape"
   ]
  },
  {
   "cell_type": "code",
   "execution_count": 16,
   "metadata": {},
   "outputs": [],
   "source": [
    "# This takes a few minutes to run so would be worth looking for a more efficient method\n",
    "#mask = ((events['useragent'].str.contains('|'.join(useragents['pattern']), case=False)) & (events['user_type'] != 'Bot'))\n",
    "#events.loc[mask, 'user_type'] = 'Probable bot'\n",
    "# This is faster:\n",
    "import re\n",
    "pat = '|'.join(map(re.escape, useragents['pattern']))\n",
    "mask = ((events['useragent'].str.contains(pat)) & (events['user_type'] != 'Bot'))\n",
    "events.loc[mask, 'user_type'] = 'Probable bot'"
   ]
  },
  {
   "cell_type": "code",
   "execution_count": 17,
   "metadata": {},
   "outputs": [
    {
     "data": {
      "text/plain": [
       "Bot             146306\n",
       "Probable bot     15644\n",
       "Name: user_type, dtype: int64"
      ]
     },
     "execution_count": 17,
     "metadata": {},
     "output_type": "execute_result"
    }
   ],
   "source": [
    "events['user_type'].value_counts()"
   ]
  },
  {
   "cell_type": "markdown",
   "metadata": {},
   "source": [
    "#### Similar bot behaviour\n",
    "I also flagged events with a similar pattern to the known bots as being Probable bots, after finding that they were also bots or had suspicious user-agent strings that did not match known ones. None of them were Subscribers.\n",
    "\n",
    "This pattern was:\n",
    "\n",
    "- having null (NaN) values in 'refr_urlscheme', 'refr_urlhost', 'refr_urlport' and 'refr_urlpath'\n",
    "\n",
    "and\n",
    "\n",
    "- having Unknown 'os_name', 'os_family' and 'br_version's\n",
    "\n",
    "This found some more events that had not already been flagged as known or Probable bots."
   ]
  },
  {
   "cell_type": "code",
   "execution_count": 18,
   "metadata": {},
   "outputs": [
    {
     "data": {
      "text/plain": [
       "Bot             146306\n",
       "Probable bot     16875\n",
       "Name: user_type, dtype: int64"
      ]
     },
     "execution_count": 18,
     "metadata": {},
     "output_type": "execute_result"
    }
   ],
   "source": [
    "# Flag non bots that have similar pattern to known bots\n",
    "mask = ((events['refr_urlscheme'].isnull()) & (events['refr_urlhost'].isnull()) & (events['refr_urlport'].isnull()) & (events['refr_urlpath'].isnull()) & (events['user_type'] != \"Bot\") & (events['user_type'] != \"Probable bot\") & (events['os_name'] == 'Unknown') & (events['os_family'] == 'Unknown') & (events['br_version'].isnull()))\n",
    "events.loc[mask, 'user_type'] = 'Probable bot'\n",
    "events['user_type'].value_counts()"
   ]
  },
  {
   "cell_type": "markdown",
   "metadata": {},
   "source": [
    "Flag as potential bots events with the same cookie (domain_userid) as already identified bots"
   ]
  },
  {
   "cell_type": "code",
   "execution_count": 19,
   "metadata": {},
   "outputs": [
    {
     "data": {
      "text/plain": [
       "Bot             146306\n",
       "Probable bot     16917\n",
       "Name: user_type, dtype: int64"
      ]
     },
     "execution_count": 19,
     "metadata": {},
     "output_type": "execute_result"
    }
   ],
   "source": [
    "bots = events.loc[(events['user_type'] == 'Bot') | (events['user_type'] == 'Probable bot')]\n",
    "events.loc[(events.domain_userid.isin(bots['domain_userid']) & (events['user_type'] != \"Bot\") & (events['user_type'] != \"Probable bot\")), 'user_type'] = \"Probable bot\"\n",
    "events['user_type'].value_counts()"
   ]
  },
  {
   "cell_type": "markdown",
   "metadata": {},
   "source": [
    "I did a check and this already caught events with the same session ids and IP addresses as known bots. Then I checked if any of these were subscribers."
   ]
  },
  {
   "cell_type": "code",
   "execution_count": 20,
   "metadata": {},
   "outputs": [
    {
     "data": {
      "text/plain": [
       "(3, 29)"
      ]
     },
     "execution_count": 20,
     "metadata": {},
     "output_type": "execute_result"
    }
   ],
   "source": [
    "# Check if any are subscribers\n",
    "subbot = events.loc[((events['user_type'] == 'Probable bot') | (events['user_type'] == 'Bot')) & (events['member_type'] == 'Subscriber')]\n",
    "subbot.shape"
   ]
  },
  {
   "cell_type": "code",
   "execution_count": 21,
   "metadata": {},
   "outputs": [
    {
     "data": {
      "text/html": [
       "<div>\n",
       "<style scoped>\n",
       "    .dataframe tbody tr th:only-of-type {\n",
       "        vertical-align: middle;\n",
       "    }\n",
       "\n",
       "    .dataframe tbody tr th {\n",
       "        vertical-align: top;\n",
       "    }\n",
       "\n",
       "    .dataframe thead th {\n",
       "        text-align: right;\n",
       "    }\n",
       "</style>\n",
       "<table border=\"1\" class=\"dataframe\">\n",
       "  <thead>\n",
       "    <tr style=\"text-align: right;\">\n",
       "      <th></th>\n",
       "      <th>domain_userid</th>\n",
       "      <th>network_userid</th>\n",
       "      <th>domain_sessionid</th>\n",
       "      <th>useragent</th>\n",
       "      <th>os_name</th>\n",
       "      <th>os_family</th>\n",
       "      <th>br_name</th>\n",
       "      <th>br_family</th>\n",
       "      <th>br_version</th>\n",
       "      <th>br_type</th>\n",
       "      <th>derived_tstamp</th>\n",
       "      <th>collector_tstamp</th>\n",
       "      <th>page_urlscheme</th>\n",
       "      <th>page_urlhost</th>\n",
       "      <th>page_urlport</th>\n",
       "      <th>page_urlpath</th>\n",
       "      <th>refr_urlscheme</th>\n",
       "      <th>refr_urlhost</th>\n",
       "      <th>refr_urlport</th>\n",
       "      <th>refr_urlpath</th>\n",
       "      <th>app_id</th>\n",
       "      <th>user_ipaddress</th>\n",
       "      <th>page_view_id</th>\n",
       "      <th>member_id</th>\n",
       "      <th>member_type</th>\n",
       "      <th>article_id</th>\n",
       "      <th>article_type</th>\n",
       "      <th>article_primary_category</th>\n",
       "      <th>user_type</th>\n",
       "    </tr>\n",
       "  </thead>\n",
       "  <tbody>\n",
       "    <tr>\n",
       "      <th>788456</th>\n",
       "      <td>1508e11c-a9f0-4693-b690-7f51e0977ca7</td>\n",
       "      <td>415d9eba-5859-48d5-a40c-015f77dd3305</td>\n",
       "      <td>2765bb7a-a9ea-4498-ab5b-ffba0d4f7f13</td>\n",
       "      <td>[FBAN/FBIOS;FBDV/iPhone10,3;FBMD/iPhone;FBSN/iOS;FBSV/13.6.1;FBSS/3;FBID/phone;FBLC/en_GB;FBOP/5]</td>\n",
       "      <td>Unknown</td>\n",
       "      <td>Unknown</td>\n",
       "      <td>Unknown</td>\n",
       "      <td>Unknown</td>\n",
       "      <td>NaN</td>\n",
       "      <td>unknown</td>\n",
       "      <td>2020-09-01 21:39:00.031 UTC</td>\n",
       "      <td>2020-09-01 21:39:00.181 UTC</td>\n",
       "      <td>https</td>\n",
       "      <td>www.smh.com.au</td>\n",
       "      <td>80</td>\n",
       "      <td>/world/europe/unaccountable-experts-tony-abbott-calls-for-end-to-lockdowns-travel-bans-20200901-p55rh9.html</td>\n",
       "      <td>NaN</td>\n",
       "      <td>NaN</td>\n",
       "      <td>NaN</td>\n",
       "      <td>NaN</td>\n",
       "      <td>smh-web</td>\n",
       "      <td>iL5SOq3SB0ADQ/N/4vg40+po53TPYjG2tyC291Ov28c=</td>\n",
       "      <td>E4CF0AFE-430D-4298-BD98-72F4A8380FED</td>\n",
       "      <td>J27VPyWaPPfnkG02GKNvP0ZQLH1y6F9LAniaO3gy2m4=</td>\n",
       "      <td>Subscriber</td>\n",
       "      <td>P55RH9</td>\n",
       "      <td>ARTICLE</td>\n",
       "      <td>CORONAVIRUS PANDEMIC</td>\n",
       "      <td>Probable bot</td>\n",
       "    </tr>\n",
       "    <tr>\n",
       "      <th>793336</th>\n",
       "      <td>2c7e94f9-e5d1-42f9-81f6-5405a947045d</td>\n",
       "      <td>22edc463-f297-457d-81ec-2cadea0fda25</td>\n",
       "      <td>fbd31f7f-c410-4f04-bf8a-89d75b6c985d</td>\n",
       "      <td>Mozilla/5.0 (X11; Linux x86_64) AppleWebKit/537.36 (KHTML, like Gecko) HeadlessChrome/80.0.3987.0 Safari/537.36</td>\n",
       "      <td>Linux</td>\n",
       "      <td>Linux</td>\n",
       "      <td>Chrome 8</td>\n",
       "      <td>Chrome</td>\n",
       "      <td>80.0.3987.0</td>\n",
       "      <td>Browser</td>\n",
       "      <td>2020-09-02 20:57:26.807 UTC</td>\n",
       "      <td>2020-09-02 20:57:26.81 UTC</td>\n",
       "      <td>https</td>\n",
       "      <td>www.smh.com.au</td>\n",
       "      <td>80</td>\n",
       "      <td>/puzzles/crosswords/cryptic/2020-09-03</td>\n",
       "      <td>NaN</td>\n",
       "      <td>NaN</td>\n",
       "      <td>NaN</td>\n",
       "      <td>NaN</td>\n",
       "      <td>smh-web</td>\n",
       "      <td>SGCGqfCJm4g3s9fVS+ozsmFV/kEb+VL6guCxdP4ngws=</td>\n",
       "      <td>7BD61AC2-1D84-4FEE-806E-D1E3A85003F4</td>\n",
       "      <td>w/j/iNzUXsYb75Hm1hSi3uQZ87fIoYpYfhMnWMEDzqQ=</td>\n",
       "      <td>Subscriber</td>\n",
       "      <td>NaN</td>\n",
       "      <td>PUZZLE</td>\n",
       "      <td>NaN</td>\n",
       "      <td>Probable bot</td>\n",
       "    </tr>\n",
       "    <tr>\n",
       "      <th>1845425</th>\n",
       "      <td>54530d1e-4753-4a75-8189-139ee6acfd9f</td>\n",
       "      <td>0b131541-8096-45b1-b490-3116ead2046d</td>\n",
       "      <td>cbb2df10-73be-4082-8f09-0cfa7b73ac9f</td>\n",
       "      <td>Mozilla/5.0 (X11; Linux x86_64) AppleWebKit/537.36 (KHTML, like Gecko) HeadlessChrome/80.0.3987.0 Safari/537.36</td>\n",
       "      <td>Linux</td>\n",
       "      <td>Linux</td>\n",
       "      <td>Chrome 8</td>\n",
       "      <td>Chrome</td>\n",
       "      <td>80.0.3987.0</td>\n",
       "      <td>Browser</td>\n",
       "      <td>2020-09-01 20:54:43.204 UTC</td>\n",
       "      <td>2020-09-01 20:54:43.207 UTC</td>\n",
       "      <td>https</td>\n",
       "      <td>www.smh.com.au</td>\n",
       "      <td>80</td>\n",
       "      <td>/todays-newspaper</td>\n",
       "      <td>https</td>\n",
       "      <td>www.smh.com.au</td>\n",
       "      <td>80.0</td>\n",
       "      <td>/</td>\n",
       "      <td>smh-web</td>\n",
       "      <td>SGCGqfCJm4g3s9fVS+ozsmFV/kEb+VL6guCxdP4ngws=</td>\n",
       "      <td>10E000BF-024A-4D32-946B-CBEB44B589C2</td>\n",
       "      <td>w/j/iNzUXsYb75Hm1hSi3uQZ87fIoYpYfhMnWMEDzqQ=</td>\n",
       "      <td>Subscriber</td>\n",
       "      <td>NaN</td>\n",
       "      <td>INDEX</td>\n",
       "      <td>NaN</td>\n",
       "      <td>Probable bot</td>\n",
       "    </tr>\n",
       "  </tbody>\n",
       "</table>\n",
       "</div>"
      ],
      "text/plain": [
       "                                domain_userid                        network_userid                      domain_sessionid                                                                                                        useragent  os_name os_family   br_name br_family   br_version  br_type               derived_tstamp             collector_tstamp page_urlscheme    page_urlhost  page_urlport                                                                                                 page_urlpath refr_urlscheme    refr_urlhost  refr_urlport refr_urlpath   app_id                                user_ipaddress                          page_view_id                                     member_id member_type article_id article_type article_primary_category     user_type\n",
       "788456   1508e11c-a9f0-4693-b690-7f51e0977ca7  415d9eba-5859-48d5-a40c-015f77dd3305  2765bb7a-a9ea-4498-ab5b-ffba0d4f7f13                [FBAN/FBIOS;FBDV/iPhone10,3;FBMD/iPhone;FBSN/iOS;FBSV/13.6.1;FBSS/3;FBID/phone;FBLC/en_GB;FBOP/5]  Unknown   Unknown   Unknown   Unknown          NaN  unknown  2020-09-01 21:39:00.031 UTC  2020-09-01 21:39:00.181 UTC          https  www.smh.com.au            80  /world/europe/unaccountable-experts-tony-abbott-calls-for-end-to-lockdowns-travel-bans-20200901-p55rh9.html            NaN             NaN           NaN          NaN  smh-web  iL5SOq3SB0ADQ/N/4vg40+po53TPYjG2tyC291Ov28c=  E4CF0AFE-430D-4298-BD98-72F4A8380FED  J27VPyWaPPfnkG02GKNvP0ZQLH1y6F9LAniaO3gy2m4=  Subscriber     P55RH9      ARTICLE     CORONAVIRUS PANDEMIC  Probable bot\n",
       "793336   2c7e94f9-e5d1-42f9-81f6-5405a947045d  22edc463-f297-457d-81ec-2cadea0fda25  fbd31f7f-c410-4f04-bf8a-89d75b6c985d  Mozilla/5.0 (X11; Linux x86_64) AppleWebKit/537.36 (KHTML, like Gecko) HeadlessChrome/80.0.3987.0 Safari/537.36    Linux     Linux  Chrome 8    Chrome  80.0.3987.0  Browser  2020-09-02 20:57:26.807 UTC   2020-09-02 20:57:26.81 UTC          https  www.smh.com.au            80                                                                       /puzzles/crosswords/cryptic/2020-09-03            NaN             NaN           NaN          NaN  smh-web  SGCGqfCJm4g3s9fVS+ozsmFV/kEb+VL6guCxdP4ngws=  7BD61AC2-1D84-4FEE-806E-D1E3A85003F4  w/j/iNzUXsYb75Hm1hSi3uQZ87fIoYpYfhMnWMEDzqQ=  Subscriber        NaN       PUZZLE                      NaN  Probable bot\n",
       "1845425  54530d1e-4753-4a75-8189-139ee6acfd9f  0b131541-8096-45b1-b490-3116ead2046d  cbb2df10-73be-4082-8f09-0cfa7b73ac9f  Mozilla/5.0 (X11; Linux x86_64) AppleWebKit/537.36 (KHTML, like Gecko) HeadlessChrome/80.0.3987.0 Safari/537.36    Linux     Linux  Chrome 8    Chrome  80.0.3987.0  Browser  2020-09-01 20:54:43.204 UTC  2020-09-01 20:54:43.207 UTC          https  www.smh.com.au            80                                                                                            /todays-newspaper          https  www.smh.com.au          80.0            /  smh-web  SGCGqfCJm4g3s9fVS+ozsmFV/kEb+VL6guCxdP4ngws=  10E000BF-024A-4D32-946B-CBEB44B589C2  w/j/iNzUXsYb75Hm1hSi3uQZ87fIoYpYfhMnWMEDzqQ=  Subscriber        NaN        INDEX                      NaN  Probable bot"
      ]
     },
     "execution_count": 21,
     "metadata": {},
     "output_type": "execute_result"
    }
   ],
   "source": [
    "subbot"
   ]
  },
  {
   "cell_type": "markdown",
   "metadata": {},
   "source": [
    "Investigate these and remove from bot list if legitimate"
   ]
  },
  {
   "cell_type": "markdown",
   "metadata": {},
   "source": [
    "#### Events per session - further bot discovery\n",
    "Look at how many events there are per session to discover other bot behaviour (such as repeated regular access to the homepage over long periods of time or many rapid hits, which could indicate a DDoS (denial of service) attack)"
   ]
  },
  {
   "cell_type": "markdown",
   "metadata": {},
   "source": [
    "Compare typical session behaviour of bots with subscribers"
   ]
  },
  {
   "cell_type": "code",
   "execution_count": 22,
   "metadata": {},
   "outputs": [
    {
     "data": {
      "text/plain": [
       "count     46776.000000\n",
       "mean          3.488563\n",
       "std         505.153847\n",
       "min           1.000000\n",
       "25%           1.000000\n",
       "50%           1.000000\n",
       "75%           1.000000\n",
       "max      109254.000000\n",
       "Name: collector_tstamp, dtype: float64"
      ]
     },
     "execution_count": 22,
     "metadata": {},
     "output_type": "execute_result"
    }
   ],
   "source": [
    "botsessions = bots['collector_tstamp'].groupby(bots['domain_sessionid']).count()\n",
    "botsessions.describe()"
   ]
  },
  {
   "cell_type": "markdown",
   "metadata": {},
   "source": [
    "The session id with the most events and multiple IP addresses was used by various Google bots - these have already all been classified as either user_type Bot or Probable bot."
   ]
  },
  {
   "cell_type": "code",
   "execution_count": 23,
   "metadata": {},
   "outputs": [
    {
     "data": {
      "text/plain": [
       "count    490834.000000\n",
       "mean          2.119886\n",
       "std           3.846238\n",
       "min           1.000000\n",
       "25%           1.000000\n",
       "50%           1.000000\n",
       "75%           2.000000\n",
       "max         970.000000\n",
       "Name: collector_tstamp, dtype: float64"
      ]
     },
     "execution_count": 23,
     "metadata": {},
     "output_type": "execute_result"
    }
   ],
   "source": [
    "subscribers = events.loc[events['member_type'] == 'Subscriber']\n",
    "subsessions = subscribers['collector_tstamp'].groupby(subscribers['domain_sessionid']).count()\n",
    "subsessions.describe()"
   ]
  },
  {
   "cell_type": "markdown",
   "metadata": {},
   "source": [
    "This shows that a small number of sessions have a very high number of hits to the site compared to a normal subscriber. Let's look at non-bot non-subscribers and see if we can identify any with similarly high site hits."
   ]
  },
  {
   "cell_type": "code",
   "execution_count": 24,
   "metadata": {},
   "outputs": [
    {
     "data": {
      "text/plain": [
       "count    1.597375e+06\n",
       "mean     1.537156e+00\n",
       "std      3.075318e+00\n",
       "min      1.000000e+00\n",
       "25%      1.000000e+00\n",
       "50%      1.000000e+00\n",
       "75%      1.000000e+00\n",
       "max      5.630000e+02\n",
       "Name: collector_tstamp, dtype: float64"
      ]
     },
     "execution_count": 24,
     "metadata": {},
     "output_type": "execute_result"
    }
   ],
   "source": [
    "nonsubsnonbots = events.loc[(events['member_type'] != 'Subscriber') & (events['user_type'] != 'Bot') & (events['user_type'] != 'Probable bot')]\n",
    "nonsubsessions = nonsubsnonbots['collector_tstamp'].groupby(nonsubsnonbots['domain_sessionid']).count()\n",
    "nonsubsessions.describe()"
   ]
  },
  {
   "cell_type": "markdown",
   "metadata": {},
   "source": [
    "Look at a sample of the highest number of events"
   ]
  },
  {
   "cell_type": "code",
   "execution_count": 25,
   "metadata": {},
   "outputs": [],
   "source": [
    "highhitnonsubsessions = nonsubsnonbots[['collector_tstamp']].groupby(nonsubsnonbots['domain_sessionid']).count()\n",
    "highhits = highhitnonsubsessions.loc[highhitnonsubsessions['collector_tstamp']>300]"
   ]
  },
  {
   "cell_type": "code",
   "execution_count": 26,
   "metadata": {},
   "outputs": [
    {
     "data": {
      "text/html": [
       "<div>\n",
       "<style scoped>\n",
       "    .dataframe tbody tr th:only-of-type {\n",
       "        vertical-align: middle;\n",
       "    }\n",
       "\n",
       "    .dataframe tbody tr th {\n",
       "        vertical-align: top;\n",
       "    }\n",
       "\n",
       "    .dataframe thead th {\n",
       "        text-align: right;\n",
       "    }\n",
       "</style>\n",
       "<table border=\"1\" class=\"dataframe\">\n",
       "  <thead>\n",
       "    <tr style=\"text-align: right;\">\n",
       "      <th></th>\n",
       "      <th>collector_tstamp</th>\n",
       "    </tr>\n",
       "    <tr>\n",
       "      <th>domain_sessionid</th>\n",
       "      <th></th>\n",
       "    </tr>\n",
       "  </thead>\n",
       "  <tbody>\n",
       "    <tr>\n",
       "      <th>6b3e914d-b86c-4ac6-ae5f-c97be60cc18b</th>\n",
       "      <td>508</td>\n",
       "    </tr>\n",
       "    <tr>\n",
       "      <th>77c5fb45-adde-4a75-b6ea-ac0ca266c885</th>\n",
       "      <td>318</td>\n",
       "    </tr>\n",
       "    <tr>\n",
       "      <th>93fd4118-f66f-40bc-9aad-908849def142</th>\n",
       "      <td>562</td>\n",
       "    </tr>\n",
       "    <tr>\n",
       "      <th>cd7ab107-9222-4827-8cfc-a57010bfb3d1</th>\n",
       "      <td>563</td>\n",
       "    </tr>\n",
       "    <tr>\n",
       "      <th>eda3d97f-35f0-44de-91c6-3af28c7336d6</th>\n",
       "      <td>309</td>\n",
       "    </tr>\n",
       "  </tbody>\n",
       "</table>\n",
       "</div>"
      ],
      "text/plain": [
       "                                      collector_tstamp\n",
       "domain_sessionid                                      \n",
       "6b3e914d-b86c-4ac6-ae5f-c97be60cc18b               508\n",
       "77c5fb45-adde-4a75-b6ea-ac0ca266c885               318\n",
       "93fd4118-f66f-40bc-9aad-908849def142               562\n",
       "cd7ab107-9222-4827-8cfc-a57010bfb3d1               563\n",
       "eda3d97f-35f0-44de-91c6-3af28c7336d6               309"
      ]
     },
     "execution_count": 26,
     "metadata": {},
     "output_type": "execute_result"
    }
   ],
   "source": [
    "highhits"
   ]
  },
  {
   "cell_type": "code",
   "execution_count": 27,
   "metadata": {},
   "outputs": [
    {
     "data": {
      "text/plain": [
       "HOMEPAGE    2260\n",
       "Name: article_type, dtype: int64"
      ]
     },
     "execution_count": 27,
     "metadata": {},
     "output_type": "execute_result"
    }
   ],
   "source": [
    "manyeventsessions = events.loc[events['domain_sessionid'].isin(highhits.index)]\n",
    "manyeventsessions['article_type'].value_counts()"
   ]
  },
  {
   "cell_type": "markdown",
   "metadata": {},
   "source": [
    "Most of these events are accessing the homepage."
   ]
  },
  {
   "cell_type": "code",
   "execution_count": 28,
   "metadata": {},
   "outputs": [
    {
     "data": {
      "text/plain": [
       "['2020-09-01 00:34:20.698 UTC',\n",
       " '2020-09-01 00:38:49.812 UTC',\n",
       " '2020-09-01 00:47:24.487 UTC',\n",
       " '2020-09-01 00:56:05.144 UTC',\n",
       " '2020-09-01 01:35:13.363 UTC',\n",
       " '2020-09-01 01:39:35.491 UTC',\n",
       " '2020-09-01 01:48:15.046 UTC',\n",
       " '2020-09-01 01:52:36.143 UTC',\n",
       " '2020-09-01 02:27:20.63 UTC',\n",
       " '2020-09-01 02:31:41.42 UTC',\n",
       " '2020-09-01 02:36:04.786 UTC',\n",
       " '2020-09-01 02:49:04.031 UTC',\n",
       " '2020-09-01 03:32:30.708 UTC',\n",
       " '2020-09-01 03:49:52.858 UTC',\n",
       " '2020-09-01 03:58:34.857 UTC',\n",
       " '2020-09-01 04:11:41.161 UTC',\n",
       " '2020-09-01 04:20:18.133 UTC',\n",
       " '2020-09-01 04:37:40.271 UTC',\n",
       " '2020-09-01 04:41:59.09 UTC',\n",
       " '2020-09-01 04:50:39.504 UTC',\n",
       " '2020-09-01 05:04:02.433 UTC',\n",
       " '2020-09-01 05:12:44.437 UTC',\n",
       " '2020-09-01 05:34:26.902 UTC',\n",
       " '2020-09-01 05:38:48.959 UTC',\n",
       " '2020-09-01 05:43:09.547 UTC',\n",
       " '2020-09-01 05:47:28.666 UTC',\n",
       " '2020-09-01 06:04:51.775 UTC',\n",
       " '2020-09-01 06:22:14.158 UTC',\n",
       " '2020-09-01 06:35:15.69 UTC',\n",
       " '2020-09-01 06:43:56.799 UTC',\n",
       " '2020-09-01 06:52:39.391 UTC',\n",
       " '2020-09-01 07:23:22.031 UTC',\n",
       " '2020-09-01 07:27:42.096 UTC',\n",
       " '2020-09-01 07:40:44.642 UTC',\n",
       " '2020-09-01 07:45:06.505 UTC',\n",
       " '2020-09-01 08:32:49.619 UTC',\n",
       " '2020-09-01 08:45:54.736 UTC',\n",
       " '2020-09-01 08:50:13.344 UTC',\n",
       " '2020-09-01 08:54:33.459 UTC',\n",
       " '2020-09-01 09:03:13.324 UTC',\n",
       " '2020-09-01 09:07:33.982 UTC',\n",
       " '2020-09-01 09:11:54.693 UTC',\n",
       " '2020-09-01 09:16:16.626 UTC',\n",
       " '2020-09-01 09:24:58.074 UTC',\n",
       " '2020-09-01 09:47:01.275 UTC',\n",
       " '2020-09-01 10:26:10.667 UTC',\n",
       " '2020-09-01 10:30:26.302 UTC',\n",
       " '2020-09-01 10:47:54.077 UTC',\n",
       " '2020-09-01 11:09:30.619 UTC',\n",
       " '2020-09-01 11:22:32.096 UTC',\n",
       " '2020-09-01 11:26:53.205 UTC',\n",
       " '2020-09-01 11:39:55.765 UTC',\n",
       " '2020-09-01 11:48:37.348 UTC',\n",
       " '2020-09-01 12:10:18.917 UTC',\n",
       " '2020-09-01 12:27:39.055 UTC',\n",
       " '2020-09-01 12:31:59.398 UTC',\n",
       " '2020-09-01 12:49:22.577 UTC',\n",
       " '2020-09-01 13:02:22.746 UTC',\n",
       " '2020-09-01 13:06:43.439 UTC',\n",
       " '2020-09-01 13:11:03.949 UTC',\n",
       " '2020-09-01 13:19:46.047 UTC',\n",
       " '2020-09-01 13:28:27.728 UTC',\n",
       " '2020-09-01 13:41:27.373 UTC',\n",
       " '2020-09-01 13:54:29.135 UTC',\n",
       " '2020-09-01 13:58:50.009 UTC',\n",
       " '2020-09-01 14:16:10.976 UTC',\n",
       " '2020-09-01 14:37:55.065 UTC',\n",
       " '2020-09-01 14:42:14.453 UTC',\n",
       " '2020-09-01 14:59:35.705 UTC',\n",
       " '2020-09-01 15:03:55.89 UTC',\n",
       " '2020-09-01 15:08:17.489 UTC',\n",
       " '2020-09-01 15:29:58.925 UTC',\n",
       " '2020-09-01 15:43:00.33 UTC',\n",
       " '2020-09-01 16:04:42.968 UTC',\n",
       " '2020-09-01 16:17:44.197 UTC',\n",
       " '2020-09-01 16:22:05.543 UTC',\n",
       " '2020-09-01 16:30:45.822 UTC',\n",
       " '2020-09-01 16:35:06.434 UTC',\n",
       " '2020-09-01 16:39:26.688 UTC',\n",
       " '2020-09-01 16:43:47.064 UTC',\n",
       " '2020-09-01 16:56:48.529 UTC',\n",
       " '2020-09-01 17:01:09.205 UTC',\n",
       " '2020-09-01 17:18:31.459 UTC',\n",
       " '2020-09-01 17:22:51.323 UTC',\n",
       " '2020-09-01 17:27:12.219 UTC',\n",
       " '2020-09-01 17:35:56.077 UTC',\n",
       " '2020-09-01 17:40:13.872 UTC',\n",
       " '2020-09-01 17:44:34.128 UTC',\n",
       " '2020-09-01 17:48:54.618 UTC',\n",
       " '2020-09-01 17:53:16.589 UTC',\n",
       " '2020-09-01 18:19:18.022 UTC',\n",
       " '2020-09-01 18:32:19.4 UTC',\n",
       " '2020-09-01 18:58:23.753 UTC',\n",
       " '2020-09-01 19:07:03.134 UTC',\n",
       " '2020-09-01 19:20:04.423 UTC',\n",
       " '2020-09-01 19:37:27.609 UTC',\n",
       " '2020-09-01 19:59:09.199 UTC',\n",
       " '2020-09-01 20:33:52.534 UTC',\n",
       " '2020-09-01 20:38:13.775 UTC',\n",
       " '2020-09-01 20:55:37.883 UTC',\n",
       " '2020-09-01 20:59:58.657 UTC',\n",
       " '2020-09-01 21:08:39.519 UTC',\n",
       " '2020-09-01 21:21:41.452 UTC',\n",
       " '2020-09-01 21:26:01.734 UTC',\n",
       " '2020-09-01 21:30:21.481 UTC',\n",
       " '2020-09-01 21:43:24.937 UTC',\n",
       " '2020-09-01 21:52:06.57 UTC',\n",
       " '2020-09-01 22:05:06.298 UTC',\n",
       " '2020-09-01 22:22:28.766 UTC',\n",
       " '2020-09-01 22:48:34.105 UTC',\n",
       " '2020-09-01 23:10:11.586 UTC',\n",
       " '2020-09-01 23:23:16.066 UTC',\n",
       " '2020-09-01 23:45:05.439 UTC',\n",
       " '2020-09-01 23:53:40.137 UTC',\n",
       " '2020-09-02 00:06:41.93 UTC',\n",
       " '2020-09-02 00:37:08.079 UTC',\n",
       " '2020-09-02 00:54:27.804 UTC',\n",
       " '2020-09-02 01:11:51.034 UTC',\n",
       " '2020-09-02 01:16:12.449 UTC',\n",
       " '2020-09-02 01:20:31.838 UTC',\n",
       " '2020-09-02 01:33:34.252 UTC',\n",
       " '2020-09-02 01:42:14.57 UTC',\n",
       " '2020-09-02 01:59:36.856 UTC',\n",
       " '2020-09-02 02:08:18.943 UTC',\n",
       " '2020-09-02 02:43:02.534 UTC',\n",
       " '2020-09-02 02:47:23.666 UTC',\n",
       " '2020-09-02 03:04:45.627 UTC',\n",
       " '2020-09-02 03:22:07.604 UTC',\n",
       " '2020-09-02 04:01:11.971 UTC',\n",
       " '2020-09-02 04:09:54.732 UTC',\n",
       " '2020-09-02 04:14:14.001 UTC',\n",
       " '2020-09-02 04:18:35.155 UTC',\n",
       " '2020-09-02 04:40:17.609 UTC',\n",
       " '2020-09-02 04:57:39.588 UTC',\n",
       " '2020-09-02 05:19:24.129 UTC',\n",
       " '2020-09-02 05:28:03.805 UTC',\n",
       " '2020-09-02 05:54:06.553 UTC',\n",
       " '2020-09-02 06:07:10.085 UTC',\n",
       " '2020-09-02 06:11:28.935 UTC',\n",
       " '2020-09-02 06:59:18.507 UTC',\n",
       " '2020-09-02 07:07:59.538 UTC',\n",
       " '2020-09-02 07:16:40.851 UTC',\n",
       " '2020-09-02 07:21:00.658 UTC',\n",
       " '2020-09-02 08:00:06.522 UTC',\n",
       " '2020-09-02 08:08:47.75 UTC',\n",
       " '2020-09-02 08:13:07.775 UTC',\n",
       " '2020-09-02 08:52:13.815 UTC',\n",
       " '2020-09-02 09:00:54.633 UTC',\n",
       " '2020-09-02 09:13:57.717 UTC',\n",
       " '2020-09-02 09:22:38.087 UTC',\n",
       " '2020-09-02 09:31:18.582 UTC',\n",
       " '2020-09-02 09:44:21.158 UTC',\n",
       " '2020-09-02 10:40:47.972 UTC',\n",
       " '2020-09-02 10:49:28.716 UTC',\n",
       " '2020-09-02 11:06:49.257 UTC',\n",
       " '2020-09-02 11:11:09.753 UTC',\n",
       " '2020-09-02 11:19:51.023 UTC',\n",
       " '2020-09-02 11:24:11.425 UTC',\n",
       " '2020-09-02 11:32:51.947 UTC',\n",
       " '2020-09-02 11:45:53.951 UTC',\n",
       " '2020-09-02 11:50:14.317 UTC',\n",
       " '2020-09-02 12:03:14.62 UTC',\n",
       " '2020-09-02 12:07:35.472 UTC',\n",
       " '2020-09-02 12:24:57.558 UTC',\n",
       " '2020-09-02 12:33:39.174 UTC',\n",
       " '2020-09-02 13:34:24.735 UTC',\n",
       " '2020-09-02 13:47:26.49 UTC',\n",
       " '2020-09-02 13:56:07.316 UTC',\n",
       " '2020-09-02 14:17:49.704 UTC',\n",
       " '2020-09-02 14:35:12.234 UTC',\n",
       " '2020-09-02 14:39:32.229 UTC',\n",
       " '2020-09-02 14:52:33.592 UTC',\n",
       " '2020-09-02 15:44:40.51 UTC',\n",
       " '2020-09-02 15:49:00.683 UTC',\n",
       " '2020-09-02 16:15:05.002 UTC',\n",
       " '2020-09-02 16:19:24.301 UTC',\n",
       " '2020-09-02 16:23:44.777 UTC',\n",
       " '2020-09-02 16:32:26.895 UTC',\n",
       " '2020-09-02 16:41:06.686 UTC',\n",
       " '2020-09-02 16:49:48.597 UTC',\n",
       " '2020-09-02 16:58:28.615 UTC',\n",
       " '2020-09-02 17:33:12.646 UTC',\n",
       " '2020-09-02 17:37:34.005 UTC',\n",
       " '2020-09-02 17:41:54.697 UTC',\n",
       " '2020-09-02 17:59:17.003 UTC',\n",
       " '2020-09-02 18:29:38.864 UTC',\n",
       " '2020-09-02 18:38:20.737 UTC',\n",
       " '2020-09-02 19:00:02.206 UTC',\n",
       " '2020-09-02 19:13:04.541 UTC',\n",
       " '2020-09-02 19:21:45.011 UTC',\n",
       " '2020-09-02 19:39:09.495 UTC',\n",
       " '2020-09-02 19:52:08.01 UTC',\n",
       " '2020-09-02 20:00:49.448 UTC',\n",
       " '2020-09-02 20:13:50.83 UTC',\n",
       " '2020-09-02 20:26:52.616 UTC',\n",
       " '2020-09-02 20:31:13.472 UTC',\n",
       " '2020-09-02 20:52:55.012 UTC',\n",
       " '2020-09-02 20:57:17.547 UTC',\n",
       " '2020-09-02 21:01:37.327 UTC',\n",
       " '2020-09-02 21:19:01.012 UTC',\n",
       " '2020-09-02 21:27:45.423 UTC',\n",
       " '2020-09-02 21:32:02.617 UTC',\n",
       " '2020-09-02 21:36:25.621 UTC',\n",
       " '2020-09-02 21:45:06.399 UTC',\n",
       " '2020-09-02 21:49:25.57 UTC',\n",
       " '2020-09-02 21:53:46.059 UTC',\n",
       " '2020-09-02 21:58:06.023 UTC',\n",
       " '2020-09-02 22:02:26.638 UTC',\n",
       " '2020-09-02 22:06:49.88 UTC',\n",
       " '2020-09-02 22:11:07.532 UTC',\n",
       " '2020-09-02 22:19:48.804 UTC',\n",
       " '2020-09-02 22:24:09.635 UTC',\n",
       " '2020-09-02 22:28:30.189 UTC',\n",
       " '2020-09-02 22:45:52.286 UTC',\n",
       " '2020-09-02 23:16:22.341 UTC',\n",
       " '2020-09-02 23:42:21.272 UTC',\n",
       " '2020-09-02 23:59:42.83 UTC',\n",
       " '2020-09-03 00:17:06.969 UTC',\n",
       " '2020-09-03 00:25:48.433 UTC',\n",
       " '2020-09-03 00:34:28.958 UTC',\n",
       " '2020-09-03 01:00:40.609 UTC',\n",
       " '2020-09-03 01:31:00.107 UTC',\n",
       " '2020-09-03 01:39:51.414 UTC',\n",
       " '2020-09-03 02:14:28.146 UTC',\n",
       " '2020-09-03 02:53:31.666 UTC',\n",
       " '2020-09-03 02:57:52.043 UTC',\n",
       " '2020-09-03 03:32:37.161 UTC',\n",
       " '2020-09-03 03:36:58.599 UTC',\n",
       " '2020-09-03 03:41:18.64 UTC',\n",
       " '2020-09-03 03:58:40.888 UTC',\n",
       " '2020-09-03 04:20:23.959 UTC',\n",
       " '2020-09-03 04:33:28.724 UTC',\n",
       " '2020-09-03 04:37:51.208 UTC',\n",
       " '2020-09-03 05:08:10.066 UTC',\n",
       " '2020-09-03 05:16:52.84 UTC',\n",
       " '2020-09-03 05:25:33.47 UTC',\n",
       " '2020-09-03 05:29:54.175 UTC',\n",
       " '2020-09-03 05:43:04.523 UTC',\n",
       " '2020-09-03 05:47:17.657 UTC',\n",
       " '2020-09-03 05:51:38.163 UTC',\n",
       " '2020-09-03 06:00:19.46 UTC',\n",
       " '2020-09-03 06:13:22.518 UTC',\n",
       " '2020-09-03 06:17:42.824 UTC',\n",
       " '2020-09-03 06:39:27.672 UTC',\n",
       " '2020-09-03 06:43:48.33 UTC',\n",
       " '2020-09-03 06:48:06.799 UTC',\n",
       " '2020-09-03 07:01:08.865 UTC',\n",
       " '2020-09-03 07:22:51.75 UTC',\n",
       " '2020-09-03 07:44:34.964 UTC',\n",
       " '2020-09-03 07:48:55.421 UTC',\n",
       " '2020-09-03 07:57:36.135 UTC',\n",
       " '2020-09-03 08:14:59.855 UTC',\n",
       " '2020-09-03 08:19:19.464 UTC',\n",
       " '2020-09-03 08:23:41.462 UTC',\n",
       " '2020-09-03 08:41:03.672 UTC',\n",
       " '2020-09-03 09:07:06.036 UTC',\n",
       " '2020-09-03 09:20:07.924 UTC',\n",
       " '2020-09-03 09:28:49.331 UTC',\n",
       " '2020-09-03 09:41:51.382 UTC',\n",
       " '2020-09-03 09:59:13.415 UTC',\n",
       " '2020-09-03 10:25:18.112 UTC',\n",
       " '2020-09-03 11:30:26.344 UTC',\n",
       " '2020-09-03 12:00:50.134 UTC',\n",
       " '2020-09-03 12:09:31.839 UTC',\n",
       " '2020-09-03 12:18:12.112 UTC',\n",
       " '2020-09-03 12:22:33.058 UTC',\n",
       " '2020-09-03 12:35:37.609 UTC',\n",
       " '2020-09-03 12:48:37.196 UTC',\n",
       " '2020-09-03 12:52:57.315 UTC',\n",
       " '2020-09-03 13:05:59.012 UTC',\n",
       " '2020-09-03 13:14:40.753 UTC',\n",
       " '2020-09-03 13:19:00.329 UTC',\n",
       " '2020-09-03 13:40:42.501 UTC',\n",
       " '2020-09-03 13:45:02.898 UTC',\n",
       " '2020-09-03 13:49:23.509 UTC',\n",
       " '2020-09-03 14:15:24.841 UTC',\n",
       " '2020-09-03 14:24:05.844 UTC',\n",
       " '2020-09-03 14:28:26.351 UTC',\n",
       " '2020-09-03 14:37:08.208 UTC',\n",
       " '2020-09-03 14:41:27.763 UTC',\n",
       " '2020-09-03 14:50:09.155 UTC',\n",
       " '2020-09-03 14:58:49.844 UTC',\n",
       " '2020-09-03 15:07:30.833 UTC',\n",
       " '2020-09-03 15:24:53.205 UTC',\n",
       " '2020-09-03 15:29:13.704 UTC',\n",
       " '2020-09-03 15:50:56.23 UTC',\n",
       " '2020-09-03 16:03:57.485 UTC',\n",
       " '2020-09-03 16:12:38.743 UTC',\n",
       " '2020-09-03 16:25:40.217 UTC',\n",
       " '2020-09-03 16:34:21.607 UTC',\n",
       " '2020-09-03 16:38:44.508 UTC',\n",
       " '2020-09-03 16:43:02.664 UTC',\n",
       " '2020-09-03 16:51:44.958 UTC',\n",
       " '2020-09-03 16:56:04.63 UTC',\n",
       " '2020-09-03 17:00:24.737 UTC',\n",
       " '2020-09-03 17:04:44.926 UTC',\n",
       " '2020-09-03 17:17:46.557 UTC',\n",
       " '2020-09-03 17:48:09.82 UTC',\n",
       " '2020-09-03 17:56:50.724 UTC',\n",
       " '2020-09-03 18:05:31.802 UTC',\n",
       " '2020-09-03 18:14:13.234 UTC',\n",
       " '2020-09-03 18:22:54.621 UTC',\n",
       " '2020-09-03 18:48:57.588 UTC',\n",
       " '2020-09-03 19:32:21.549 UTC',\n",
       " '2020-09-03 20:07:05.68 UTC',\n",
       " '2020-09-03 20:28:48.844 UTC',\n",
       " '2020-09-03 20:46:13.936 UTC',\n",
       " '2020-09-03 20:59:11.855 UTC',\n",
       " '2020-09-03 21:03:33.484 UTC',\n",
       " '2020-09-03 21:07:54.609 UTC',\n",
       " '2020-09-03 22:13:04.162 UTC',\n",
       " '2020-09-03 22:30:25.585 UTC',\n",
       " '2020-09-03 22:43:27.2 UTC',\n",
       " '2020-09-03 22:56:33.652 UTC',\n",
       " '2020-09-03 23:35:39.432 UTC',\n",
       " '2020-09-03 23:40:00.34 UTC',\n",
       " '2020-09-03 23:44:20.871 UTC',\n",
       " '2020-09-03 23:57:22.636 UTC']"
      ]
     },
     "execution_count": 28,
     "metadata": {},
     "output_type": "execute_result"
    }
   ],
   "source": [
    "user = events.loc[events['domain_sessionid'] == '77c5fb45-adde-4a75-b6ea-ac0ca266c885']\n",
    "nsessiontimestamps = user['collector_tstamp'].unique()\n",
    "sorted(nsessiontimestamps)"
   ]
  },
  {
   "cell_type": "markdown",
   "metadata": {},
   "source": [
    "Sessions with hundreds of events over this period are suspicious. They are accessing the site regularly throughout the day and night and not as a typical user would. Flag these as probable bots.\n",
    "I have set the threshold to 300 for now, however it would be good to further investigate events numbers per session to get the numbers more accurate."
   ]
  },
  {
   "cell_type": "code",
   "execution_count": 29,
   "metadata": {},
   "outputs": [
    {
     "data": {
      "text/plain": [
       "Bot             146306\n",
       "Probable bot     19177\n",
       "Name: user_type, dtype: int64"
      ]
     },
     "execution_count": 29,
     "metadata": {},
     "output_type": "execute_result"
    }
   ],
   "source": [
    "events.loc[events['domain_sessionid'].isin(manyeventsessions['domain_sessionid']), 'user_type'] = 'Probable bot'\n",
    "events['user_type'].value_counts()"
   ]
  },
  {
   "cell_type": "markdown",
   "metadata": {},
   "source": [
    "Do the same for subscribers"
   ]
  },
  {
   "cell_type": "code",
   "execution_count": 30,
   "metadata": {},
   "outputs": [
    {
     "data": {
      "text/plain": [
       "Bot                          146306\n",
       "Probable bot                  19177\n",
       "Probable bot (Subscriber)       970\n",
       "Name: user_type, dtype: int64"
      ]
     },
     "execution_count": 30,
     "metadata": {},
     "output_type": "execute_result"
    }
   ],
   "source": [
    "highhitsubsessions = subscribers[['collector_tstamp']].groupby(subscribers['domain_sessionid']).count()\n",
    "highhitsubs = highhitsubsessions.loc[highhitsubsessions['collector_tstamp']>300]\n",
    "events.loc[events['domain_sessionid'].isin(highhitsubs.index), 'user_type'] = 'Probable bot (Subscriber)'\n",
    "events['user_type'].value_counts()"
   ]
  },
  {
   "cell_type": "code",
   "execution_count": 31,
   "metadata": {},
   "outputs": [
    {
     "data": {
      "text/plain": [
       "HOMEPAGE    968\n",
       "ARTICLE       2\n",
       "Name: article_type, dtype: int64"
      ]
     },
     "execution_count": 31,
     "metadata": {},
     "output_type": "execute_result"
    }
   ],
   "source": [
    "subbot = events.loc[events['user_type'] == 'Probable bot (Subscriber)']\n",
    "subbot['article_type'].value_counts()"
   ]
  },
  {
   "cell_type": "code",
   "execution_count": 32,
   "metadata": {},
   "outputs": [
    {
     "data": {
      "text/plain": [
       "qm8XQOUk8I/hsXKF3lq52nu+K7wgL4BJUvMAs9QwgFg=    970\n",
       "Name: member_id, dtype: int64"
      ]
     },
     "execution_count": 32,
     "metadata": {},
     "output_type": "execute_result"
    }
   ],
   "source": [
    "subbot['member_id'].value_counts()"
   ]
  },
  {
   "cell_type": "markdown",
   "metadata": {},
   "source": [
    "These are all one member so it looks like this member's account has been compromised."
   ]
  },
  {
   "cell_type": "code",
   "execution_count": 33,
   "metadata": {},
   "outputs": [
    {
     "data": {
      "text/plain": [
       "['2020-09-01 05:03:22.726 UTC',\n",
       " '2020-09-01 05:10:15.106 UTC',\n",
       " '2020-09-01 05:14:28.617 UTC',\n",
       " '2020-09-01 05:19:32.782 UTC',\n",
       " '2020-09-01 05:24:30.379 UTC',\n",
       " '2020-09-01 05:29:39.097 UTC',\n",
       " '2020-09-01 05:34:23.895 UTC',\n",
       " '2020-09-01 06:09:48.161 UTC',\n",
       " '2020-09-01 06:25:11.712 UTC',\n",
       " '2020-09-01 06:35:37.004 UTC',\n",
       " '2020-09-01 06:35:37.093 UTC',\n",
       " '2020-09-01 06:45:29.297 UTC',\n",
       " '2020-09-01 06:50:18.078 UTC',\n",
       " '2020-09-01 06:50:55.131 UTC',\n",
       " '2020-09-01 07:10:56.031 UTC',\n",
       " '2020-09-01 07:11:05.422 UTC',\n",
       " '2020-09-01 07:11:10.534 UTC',\n",
       " '2020-09-01 07:11:13.503 UTC',\n",
       " '2020-09-01 07:11:28.681 UTC',\n",
       " '2020-09-01 07:24:21.831 UTC',\n",
       " '2020-09-01 07:39:05.324 UTC',\n",
       " '2020-09-01 07:39:06.304 UTC',\n",
       " '2020-09-01 07:59:14.866 UTC',\n",
       " '2020-09-01 08:14:23.029 UTC',\n",
       " '2020-09-01 08:39:36.084 UTC',\n",
       " '2020-09-01 08:54:41.823 UTC',\n",
       " '2020-09-01 09:00:00.701 UTC',\n",
       " '2020-09-01 09:09:45.981 UTC',\n",
       " '2020-09-01 09:24:59.995 UTC',\n",
       " '2020-09-01 10:00:26.302 UTC',\n",
       " '2020-09-01 10:05:06.975 UTC',\n",
       " '2020-09-01 10:10:17.838 UTC',\n",
       " '2020-09-01 10:10:40.802 UTC',\n",
       " '2020-09-01 10:15:22.39 UTC',\n",
       " '2020-09-01 10:35:35.344 UTC',\n",
       " '2020-09-01 10:40:35.586 UTC',\n",
       " '2020-09-01 10:50:34.174 UTC',\n",
       " '2020-09-01 10:50:50.125 UTC',\n",
       " '2020-09-01 10:51:16.229 UTC',\n",
       " '2020-09-01 10:55:36.083 UTC',\n",
       " '2020-09-01 11:00:36.435 UTC',\n",
       " '2020-09-01 11:00:57.554 UTC',\n",
       " '2020-09-01 11:31:10.215 UTC',\n",
       " '2020-09-01 11:36:00.683 UTC',\n",
       " '2020-09-01 11:41:08.415 UTC',\n",
       " '2020-09-01 11:41:39.276 UTC',\n",
       " '2020-09-01 11:46:09.302 UTC',\n",
       " '2020-09-01 11:51:17.926 UTC',\n",
       " '2020-09-01 11:56:26.5 UTC',\n",
       " '2020-09-01 12:01:28.189 UTC',\n",
       " '2020-09-01 12:11:28.496 UTC',\n",
       " '2020-09-01 12:16:31.465 UTC',\n",
       " '2020-09-01 12:31:40.269 UTC',\n",
       " '2020-09-01 12:46:50.879 UTC',\n",
       " '2020-09-01 12:56:57.141 UTC',\n",
       " '2020-09-01 13:16:59.703 UTC',\n",
       " '2020-09-01 13:27:09.074 UTC',\n",
       " '2020-09-01 13:32:27.479 UTC',\n",
       " '2020-09-01 13:42:18.912 UTC',\n",
       " '2020-09-01 13:47:30.54 UTC',\n",
       " '2020-09-01 13:52:51.363 UTC',\n",
       " '2020-09-01 13:57:54.937 UTC',\n",
       " '2020-09-01 14:02:33.779 UTC',\n",
       " '2020-09-01 14:03:00.701 UTC',\n",
       " '2020-09-01 14:07:59.371 UTC',\n",
       " '2020-09-01 14:13:04.077 UTC',\n",
       " '2020-09-01 14:18:02.592 UTC',\n",
       " '2020-09-01 14:23:15.273 UTC',\n",
       " '2020-09-01 14:28:09.935 UTC',\n",
       " '2020-09-01 14:28:21.958 UTC',\n",
       " '2020-09-01 14:28:27.343 UTC',\n",
       " '2020-09-01 14:32:54.491 UTC',\n",
       " '2020-09-01 14:33:20.524 UTC',\n",
       " '2020-09-01 14:38:16.336 UTC',\n",
       " '2020-09-01 14:38:45.306 UTC',\n",
       " '2020-09-01 14:43:10.844 UTC',\n",
       " '2020-09-01 14:48:10.631 UTC',\n",
       " '2020-09-01 14:48:24.618 UTC',\n",
       " '2020-09-01 14:48:28.552 UTC',\n",
       " '2020-09-01 14:53:08.362 UTC',\n",
       " '2020-09-01 14:53:19.903 UTC',\n",
       " '2020-09-01 14:58:15.023 UTC',\n",
       " '2020-09-01 15:03:28.67 UTC',\n",
       " '2020-09-01 15:03:46.739 UTC',\n",
       " '2020-09-01 15:08:36.588 UTC',\n",
       " '2020-09-01 15:08:39.237 UTC',\n",
       " '2020-09-01 15:09:00.34 UTC',\n",
       " '2020-09-01 15:09:04.951 UTC',\n",
       " '2020-09-01 15:13:34.85 UTC',\n",
       " '2020-09-01 15:18:46.572 UTC',\n",
       " '2020-09-01 15:18:54.515 UTC',\n",
       " '2020-09-01 15:23:48.221 UTC',\n",
       " '2020-09-01 15:28:52.894 UTC',\n",
       " '2020-09-01 15:38:55.29 UTC',\n",
       " '2020-09-01 15:44:35.027 UTC',\n",
       " '2020-09-01 15:49:18.501 UTC',\n",
       " '2020-09-01 15:54:06.343 UTC',\n",
       " '2020-09-01 15:54:23.764 UTC',\n",
       " '2020-09-01 15:54:28.281 UTC',\n",
       " '2020-09-01 15:59:06.618 UTC',\n",
       " '2020-09-01 16:14:16.701 UTC',\n",
       " '2020-09-01 16:24:19.133 UTC',\n",
       " '2020-09-01 16:34:39.33 UTC',\n",
       " '2020-09-01 16:44:56.793 UTC',\n",
       " '2020-09-01 16:45:03.736 UTC',\n",
       " '2020-09-01 16:49:59.43 UTC',\n",
       " '2020-09-01 16:50:00.424 UTC',\n",
       " '2020-09-01 16:54:53.962 UTC',\n",
       " '2020-09-01 16:55:17.275 UTC',\n",
       " '2020-09-01 16:55:21.121 UTC',\n",
       " '2020-09-01 17:05:09.864 UTC',\n",
       " '2020-09-01 17:10:10.862 UTC',\n",
       " '2020-09-01 17:10:21.889 UTC',\n",
       " '2020-09-01 17:15:06.558 UTC',\n",
       " '2020-09-01 17:20:26.146 UTC',\n",
       " '2020-09-01 17:25:19.695 UTC',\n",
       " '2020-09-01 17:30:33.734 UTC',\n",
       " '2020-09-01 17:35:34.239 UTC',\n",
       " '2020-09-01 17:40:31.849 UTC',\n",
       " '2020-09-01 17:40:44.032 UTC',\n",
       " '2020-09-01 17:45:57.675 UTC',\n",
       " '2020-09-01 17:50:45.831 UTC',\n",
       " '2020-09-01 17:51:04.251 UTC',\n",
       " '2020-09-01 18:00:52.514 UTC',\n",
       " '2020-09-01 18:00:52.608 UTC',\n",
       " '2020-09-01 18:01:01.506 UTC',\n",
       " '2020-09-01 18:05:57.1 UTC',\n",
       " '2020-09-01 18:10:50.878 UTC',\n",
       " '2020-09-01 18:16:16.509 UTC',\n",
       " '2020-09-01 18:21:12.089 UTC',\n",
       " '2020-09-01 18:26:12.922 UTC',\n",
       " '2020-09-01 18:31:03.396 UTC',\n",
       " '2020-09-01 18:31:18.409 UTC',\n",
       " '2020-09-01 18:36:18.078 UTC',\n",
       " '2020-09-01 18:41:23.886 UTC',\n",
       " '2020-09-01 18:46:15.373 UTC',\n",
       " '2020-09-01 18:46:25.443 UTC',\n",
       " '2020-09-01 18:51:31.943 UTC',\n",
       " '2020-09-01 18:51:55.2 UTC',\n",
       " '2020-09-01 18:56:18.831 UTC',\n",
       " '2020-09-01 18:56:24.738 UTC',\n",
       " '2020-09-01 18:56:38.69 UTC',\n",
       " '2020-09-01 19:01:51.399 UTC',\n",
       " '2020-09-01 19:17:04.222 UTC',\n",
       " '2020-09-01 19:32:00.385 UTC',\n",
       " '2020-09-01 19:32:03.315 UTC',\n",
       " '2020-09-01 19:32:12.376 UTC',\n",
       " '2020-09-01 19:32:18.405 UTC',\n",
       " '2020-09-01 19:32:21.346 UTC',\n",
       " '2020-09-01 19:52:49.848 UTC',\n",
       " '2020-09-01 20:02:54.118 UTC',\n",
       " '2020-09-01 20:07:40.642 UTC',\n",
       " '2020-09-01 20:07:41.799 UTC',\n",
       " '2020-09-01 20:13:07.07 UTC',\n",
       " '2020-09-01 20:17:54.85 UTC',\n",
       " '2020-09-01 20:22:55.475 UTC',\n",
       " '2020-09-01 20:28:00.314 UTC',\n",
       " '2020-09-01 20:28:14.171 UTC',\n",
       " '2020-09-01 20:33:01.817 UTC',\n",
       " '2020-09-01 20:38:01.567 UTC',\n",
       " '2020-09-01 20:48:10.69 UTC',\n",
       " '2020-09-01 21:08:31.678 UTC',\n",
       " '2020-09-01 21:18:45.303 UTC',\n",
       " '2020-09-01 21:28:50.356 UTC',\n",
       " '2020-09-01 21:33:39.946 UTC',\n",
       " '2020-09-01 21:38:58.517 UTC',\n",
       " '2020-09-01 21:44:01.307 UTC',\n",
       " '2020-09-01 21:44:35.086 UTC',\n",
       " '2020-09-01 21:48:42.113 UTC',\n",
       " '2020-09-01 21:49:01.944 UTC',\n",
       " '2020-09-01 21:59:12.237 UTC',\n",
       " '2020-09-01 21:59:34.414 UTC',\n",
       " '2020-09-01 22:09:14.495 UTC',\n",
       " '2020-09-01 22:09:22.526 UTC',\n",
       " '2020-09-01 22:14:15.128 UTC',\n",
       " '2020-09-01 22:14:30.005 UTC',\n",
       " '2020-09-01 22:19:31.726 UTC',\n",
       " '2020-09-01 22:29:34.265 UTC',\n",
       " '2020-09-01 22:29:46.803 UTC',\n",
       " '2020-09-01 22:34:40.706 UTC',\n",
       " '2020-09-01 22:39:48.405 UTC',\n",
       " '2020-09-01 22:39:49.174 UTC',\n",
       " '2020-09-01 22:40:30.471 UTC',\n",
       " '2020-09-01 22:40:32.484 UTC',\n",
       " '2020-09-01 22:40:52.565 UTC',\n",
       " '2020-09-01 22:45:12.249 UTC',\n",
       " '2020-09-01 22:49:57.46 UTC',\n",
       " '2020-09-01 22:49:57.615 UTC',\n",
       " '2020-09-01 22:50:00.09 UTC',\n",
       " '2020-09-01 22:50:12.829 UTC',\n",
       " '2020-09-01 22:50:19.537 UTC',\n",
       " '2020-09-01 22:52:01.737 UTC',\n",
       " '2020-09-01 22:55:03.848 UTC',\n",
       " '2020-09-01 22:55:31.097 UTC',\n",
       " '2020-09-01 23:00:08.733 UTC',\n",
       " '2020-09-01 23:00:11.885 UTC',\n",
       " '2020-09-01 23:00:22.97 UTC',\n",
       " '2020-09-01 23:05:36.6 UTC',\n",
       " '2020-09-01 23:05:37.599 UTC',\n",
       " '2020-09-01 23:15:33.661 UTC',\n",
       " '2020-09-01 23:15:33.787 UTC',\n",
       " '2020-09-01 23:15:45.068 UTC',\n",
       " '2020-09-01 23:39:24.152 UTC',\n",
       " '2020-09-01 23:40:46.499 UTC',\n",
       " '2020-09-01 23:40:54.448 UTC',\n",
       " '2020-09-01 23:43:56.116 UTC',\n",
       " '2020-09-01 23:49:48.597 UTC',\n",
       " '2020-09-01 23:54:19.449 UTC',\n",
       " '2020-09-01 23:54:47.992 UTC',\n",
       " '2020-09-01 23:54:55.809 UTC',\n",
       " '2020-09-01 23:59:20.772 UTC',\n",
       " '2020-09-01 23:59:29.85 UTC',\n",
       " '2020-09-01 23:59:58.847 UTC',\n",
       " '2020-09-02 00:04:27.503 UTC',\n",
       " '2020-09-02 00:04:50.192 UTC',\n",
       " '2020-09-02 00:09:47.623 UTC',\n",
       " '2020-09-02 00:09:47.636 UTC',\n",
       " '2020-09-02 00:09:58.901 UTC',\n",
       " '2020-09-02 00:14:12.503 UTC',\n",
       " '2020-09-02 00:14:19.617 UTC',\n",
       " '2020-09-02 00:14:28.785 UTC',\n",
       " '2020-09-02 00:14:55.058 UTC',\n",
       " '2020-09-02 00:24:27.682 UTC',\n",
       " '2020-09-02 00:24:32.683 UTC',\n",
       " '2020-09-02 00:24:51.829 UTC',\n",
       " '2020-09-02 00:29:31.321 UTC',\n",
       " '2020-09-02 00:30:03.908 UTC',\n",
       " '2020-09-02 00:30:11.313 UTC',\n",
       " '2020-09-02 00:34:56.407 UTC',\n",
       " '2020-09-02 00:40:13.306 UTC',\n",
       " '2020-09-02 00:40:17.345 UTC',\n",
       " '2020-09-02 00:45:02.322 UTC',\n",
       " '2020-09-02 00:45:03.173 UTC',\n",
       " '2020-09-02 00:45:50.404 UTC',\n",
       " '2020-09-02 00:50:02.097 UTC',\n",
       " '2020-09-02 00:50:08.932 UTC',\n",
       " '2020-09-02 00:50:17.245 UTC',\n",
       " '2020-09-02 00:50:18.873 UTC',\n",
       " '2020-09-02 00:55:07.458 UTC',\n",
       " '2020-09-02 00:55:15.459 UTC',\n",
       " '2020-09-02 00:55:30.508 UTC',\n",
       " '2020-09-02 01:00:19.429 UTC',\n",
       " '2020-09-02 01:05:09.618 UTC',\n",
       " '2020-09-02 01:09:26.037 UTC',\n",
       " '2020-09-02 01:10:08.2 UTC',\n",
       " '2020-09-02 01:10:19.5 UTC',\n",
       " '2020-09-02 01:10:46.555 UTC',\n",
       " '2020-09-02 01:10:57.543 UTC',\n",
       " '2020-09-02 01:15:06.591 UTC',\n",
       " '2020-09-02 01:15:25.867 UTC',\n",
       " '2020-09-02 01:15:34.597 UTC',\n",
       " '2020-09-02 01:20:39.705 UTC',\n",
       " '2020-09-02 01:20:39.941 UTC',\n",
       " '2020-09-02 01:20:40.79 UTC',\n",
       " '2020-09-02 01:20:45.68 UTC',\n",
       " '2020-09-02 01:21:16.997 UTC',\n",
       " '2020-09-02 01:25:18.647 UTC',\n",
       " '2020-09-02 01:25:28.532 UTC',\n",
       " '2020-09-02 01:25:44.539 UTC',\n",
       " '2020-09-02 01:30:49.658 UTC',\n",
       " '2020-09-02 01:30:59.989 UTC',\n",
       " '2020-09-02 01:31:02.953 UTC',\n",
       " '2020-09-02 01:35:54.268 UTC',\n",
       " '2020-09-02 01:40:42.764 UTC',\n",
       " '2020-09-02 01:42:00.57 UTC',\n",
       " '2020-09-02 01:45:37.688 UTC',\n",
       " '2020-09-02 01:45:59.992 UTC',\n",
       " '2020-09-02 01:46:04.908 UTC',\n",
       " '2020-09-02 01:46:06.935 UTC',\n",
       " '2020-09-02 01:50:52.326 UTC',\n",
       " '2020-09-02 01:50:58.396 UTC',\n",
       " '2020-09-02 01:55:49.199 UTC',\n",
       " '2020-09-02 01:55:55.405 UTC',\n",
       " '2020-09-02 01:56:10.357 UTC',\n",
       " '2020-09-02 01:56:39.622 UTC',\n",
       " '2020-09-02 02:00:53.486 UTC',\n",
       " '2020-09-02 02:01:05.483 UTC',\n",
       " '2020-09-02 02:01:12.517 UTC',\n",
       " '2020-09-02 02:01:57.825 UTC',\n",
       " '2020-09-02 02:02:41.991 UTC',\n",
       " '2020-09-02 02:03:04.962 UTC',\n",
       " '2020-09-02 02:03:05.887 UTC',\n",
       " '2020-09-02 02:04:05.285 UTC',\n",
       " '2020-09-02 02:04:12.255 UTC',\n",
       " '2020-09-02 02:04:17.234 UTC',\n",
       " '2020-09-02 02:05:00.522 UTC',\n",
       " '2020-09-02 02:06:06.559 UTC',\n",
       " '2020-09-02 02:06:07.733 UTC',\n",
       " '2020-09-02 02:10:14.494 UTC',\n",
       " '2020-09-02 02:10:48.545 UTC',\n",
       " '2020-09-02 02:15:00.335 UTC',\n",
       " '2020-09-02 02:16:38.656 UTC',\n",
       " '2020-09-02 02:25:59.479 UTC',\n",
       " '2020-09-02 02:26:04.255 UTC',\n",
       " '2020-09-02 02:31:11.497 UTC',\n",
       " '2020-09-02 02:31:24.113 UTC',\n",
       " '2020-09-02 02:31:33.438 UTC',\n",
       " '2020-09-02 02:35:03.115 UTC',\n",
       " '2020-09-02 02:35:36.452 UTC',\n",
       " '2020-09-02 02:36:02.101 UTC',\n",
       " '2020-09-02 02:36:14.543 UTC',\n",
       " '2020-09-02 02:36:51.186 UTC',\n",
       " '2020-09-02 02:40:33.511 UTC',\n",
       " '2020-09-02 02:41:22.869 UTC',\n",
       " '2020-09-02 02:45:33.359 UTC',\n",
       " '2020-09-02 02:46:32.87 UTC',\n",
       " '2020-09-02 02:46:36.691 UTC',\n",
       " '2020-09-02 02:46:44.781 UTC',\n",
       " '2020-09-02 02:50:20.475 UTC',\n",
       " '2020-09-02 02:50:20.828 UTC',\n",
       " '2020-09-02 02:51:10.725 UTC',\n",
       " '2020-09-02 02:51:18.389 UTC',\n",
       " '2020-09-02 02:55:13.361 UTC',\n",
       " '2020-09-02 02:55:30.46 UTC',\n",
       " '2020-09-02 02:56:15.706 UTC',\n",
       " '2020-09-02 02:56:46.307 UTC',\n",
       " '2020-09-02 03:01:09.741 UTC',\n",
       " '2020-09-02 03:01:38.53 UTC',\n",
       " '2020-09-02 03:05:27.074 UTC',\n",
       " '2020-09-02 03:06:46.357 UTC',\n",
       " '2020-09-02 03:10:42.218 UTC',\n",
       " '2020-09-02 03:11:51.056 UTC',\n",
       " '2020-09-02 03:15:34.832 UTC',\n",
       " '2020-09-02 03:16:17.795 UTC',\n",
       " '2020-09-02 03:16:55.282 UTC',\n",
       " '2020-09-02 03:20:38.955 UTC',\n",
       " '2020-09-02 03:21:33.824 UTC',\n",
       " '2020-09-02 03:21:47.692 UTC',\n",
       " '2020-09-02 03:21:54.914 UTC',\n",
       " '2020-09-02 03:25:27.053 UTC',\n",
       " '2020-09-02 03:25:49.346 UTC',\n",
       " '2020-09-02 03:27:05.836 UTC',\n",
       " '2020-09-02 03:30:52.38 UTC',\n",
       " '2020-09-02 03:35:47.237 UTC',\n",
       " '2020-09-02 03:35:49.421 UTC',\n",
       " '2020-09-02 03:35:51.386 UTC',\n",
       " '2020-09-02 03:36:00.477 UTC',\n",
       " '2020-09-02 03:36:09.358 UTC',\n",
       " '2020-09-02 03:36:48.345 UTC',\n",
       " '2020-09-02 03:37:00.373 UTC',\n",
       " '2020-09-02 03:37:10.819 UTC',\n",
       " '2020-09-02 03:37:13.395 UTC',\n",
       " '2020-09-02 03:37:17.406 UTC',\n",
       " '2020-09-02 03:40:47.243 UTC',\n",
       " '2020-09-02 03:40:53.205 UTC',\n",
       " '2020-09-02 03:41:02.785 UTC',\n",
       " '2020-09-02 03:41:35.848 UTC',\n",
       " '2020-09-02 03:42:05.054 UTC',\n",
       " '2020-09-02 03:43:24.753 UTC',\n",
       " '2020-09-02 03:45:56.281 UTC',\n",
       " '2020-09-02 03:46:57.509 UTC',\n",
       " '2020-09-02 03:50:59.257 UTC',\n",
       " '2020-09-02 03:54:02.592 UTC',\n",
       " '2020-09-02 03:56:13.137 UTC',\n",
       " '2020-09-02 03:56:29.359 UTC',\n",
       " '2020-09-02 03:59:53.939 UTC',\n",
       " '2020-09-02 04:00:26.121 UTC',\n",
       " '2020-09-02 04:00:34.003 UTC',\n",
       " '2020-09-02 04:01:59.048 UTC',\n",
       " '2020-09-02 04:02:15.939 UTC',\n",
       " '2020-09-02 04:06:26.212 UTC',\n",
       " '2020-09-02 04:10:32.995 UTC',\n",
       " '2020-09-02 04:11:29.358 UTC',\n",
       " '2020-09-02 04:11:37.257 UTC',\n",
       " '2020-09-02 04:16:12.984 UTC',\n",
       " '2020-09-02 04:16:36.779 UTC',\n",
       " '2020-09-02 04:22:26.293 UTC',\n",
       " '2020-09-02 04:24:06.419 UTC',\n",
       " '2020-09-02 04:25:42.615 UTC',\n",
       " '2020-09-02 04:30:54.677 UTC',\n",
       " '2020-09-02 04:31:50.14 UTC',\n",
       " '2020-09-02 04:31:51.929 UTC',\n",
       " '2020-09-02 04:32:19.214 UTC',\n",
       " '2020-09-02 04:32:22.992 UTC',\n",
       " '2020-09-02 04:35:54.396 UTC',\n",
       " '2020-09-02 04:36:00.025 UTC',\n",
       " '2020-09-02 04:36:27.994 UTC',\n",
       " '2020-09-02 04:36:59.079 UTC',\n",
       " '2020-09-02 04:37:02.474 UTC',\n",
       " '2020-09-02 04:42:07.402 UTC',\n",
       " '2020-09-02 04:45:19.974 UTC',\n",
       " '2020-09-02 04:46:03.155 UTC',\n",
       " '2020-09-02 04:46:23.306 UTC',\n",
       " '2020-09-02 04:51:12.25 UTC',\n",
       " '2020-09-02 04:56:15.858 UTC',\n",
       " '2020-09-02 05:06:07.248 UTC',\n",
       " '2020-09-02 05:06:27.108 UTC',\n",
       " '2020-09-02 05:06:30.074 UTC',\n",
       " '2020-09-02 05:11:22.732 UTC',\n",
       " '2020-09-02 05:16:31.48 UTC',\n",
       " '2020-09-02 05:21:18.956 UTC',\n",
       " '2020-09-02 05:21:33.984 UTC',\n",
       " '2020-09-02 05:21:42.095 UTC',\n",
       " '2020-09-02 05:26:38.716 UTC',\n",
       " '2020-09-02 05:31:30.796 UTC',\n",
       " '2020-09-02 05:31:42.426 UTC',\n",
       " '2020-09-02 05:31:54.633 UTC',\n",
       " '2020-09-02 05:46:59.224 UTC',\n",
       " '2020-09-02 05:47:18.85 UTC',\n",
       " '2020-09-02 05:51:48.901 UTC',\n",
       " '2020-09-02 05:57:02.526 UTC',\n",
       " '2020-09-02 06:07:13.812 UTC',\n",
       " '2020-09-02 06:12:17.479 UTC',\n",
       " '2020-09-02 06:22:19.691 UTC',\n",
       " '2020-09-02 06:22:31.779 UTC',\n",
       " '2020-09-02 06:27:26.362 UTC',\n",
       " '2020-09-02 06:32:27.827 UTC',\n",
       " '2020-09-02 06:37:40.589 UTC',\n",
       " '2020-09-02 06:42:54.239 UTC',\n",
       " '2020-09-02 06:48:02.921 UTC',\n",
       " '2020-09-02 06:52:47.492 UTC',\n",
       " '2020-09-02 06:52:49.085 UTC',\n",
       " '2020-09-02 06:58:22.848 UTC',\n",
       " '2020-09-02 07:02:43.449 UTC',\n",
       " '2020-09-02 07:03:00.474 UTC',\n",
       " '2020-09-02 07:03:12.784 UTC',\n",
       " '2020-09-02 07:08:05.939 UTC',\n",
       " '2020-09-02 07:08:10.11 UTC',\n",
       " '2020-09-02 07:13:03.691 UTC',\n",
       " '2020-09-02 07:18:13.343 UTC',\n",
       " '2020-09-02 07:18:20.446 UTC',\n",
       " '2020-09-02 07:23:44.51 UTC',\n",
       " '2020-09-02 07:26:48.974 UTC',\n",
       " '2020-09-02 07:26:57.078 UTC',\n",
       " '2020-09-02 07:27:00.88 UTC',\n",
       " '2020-09-02 07:27:03.903 UTC',\n",
       " '2020-09-02 07:27:18.039 UTC',\n",
       " '2020-09-02 07:27:29.151 UTC',\n",
       " '2020-09-02 07:27:45.028 UTC',\n",
       " '2020-09-02 07:33:25.777 UTC',\n",
       " '2020-09-02 07:33:38.78 UTC',\n",
       " '2020-09-02 07:33:42.116 UTC',\n",
       " '2020-09-02 07:33:59.741 UTC',\n",
       " '2020-09-02 07:34:03.747 UTC',\n",
       " '2020-09-02 07:34:19.787 UTC',\n",
       " '2020-09-02 07:34:45.904 UTC',\n",
       " '2020-09-02 07:34:50.027 UTC',\n",
       " '2020-09-02 07:34:53.845 UTC',\n",
       " '2020-09-02 07:35:21.001 UTC',\n",
       " '2020-09-02 07:36:10.098 UTC',\n",
       " '2020-09-02 07:36:28.194 UTC',\n",
       " '2020-09-02 07:36:36.138 UTC',\n",
       " '2020-09-02 07:40:51.283 UTC',\n",
       " '2020-09-02 07:45:52.31 UTC',\n",
       " '2020-09-02 07:50:58.387 UTC',\n",
       " '2020-09-02 07:56:16.396 UTC',\n",
       " '2020-09-02 07:56:39.731 UTC',\n",
       " '2020-09-02 08:01:27.129 UTC',\n",
       " '2020-09-02 08:11:12.851 UTC',\n",
       " '2020-09-02 08:16:13.451 UTC',\n",
       " '2020-09-02 08:16:22.735 UTC',\n",
       " '2020-09-02 08:36:21.076 UTC',\n",
       " '2020-09-02 08:41:24.173 UTC',\n",
       " '2020-09-02 08:46:14.574 UTC',\n",
       " '2020-09-02 08:51:36.957 UTC',\n",
       " '2020-09-02 08:56:28.203 UTC',\n",
       " '2020-09-02 09:06:41.84 UTC',\n",
       " '2020-09-02 09:11:34.585 UTC',\n",
       " '2020-09-02 09:16:48.184 UTC',\n",
       " '2020-09-02 09:26:44.67 UTC',\n",
       " '2020-09-02 09:32:01.173 UTC',\n",
       " '2020-09-02 09:37:36.707 UTC',\n",
       " '2020-09-02 09:47:14.274 UTC',\n",
       " '2020-09-02 09:52:32.853 UTC',\n",
       " '2020-09-02 09:57:25.43 UTC',\n",
       " '2020-09-02 10:07:35.955 UTC',\n",
       " '2020-09-02 10:17:36.859 UTC',\n",
       " '2020-09-02 10:17:49.231 UTC',\n",
       " '2020-09-02 10:32:43.323 UTC',\n",
       " '2020-09-02 10:37:30.911 UTC',\n",
       " '2020-09-02 10:47:48.749 UTC',\n",
       " '2020-09-02 10:52:34.881 UTC',\n",
       " '2020-09-02 10:53:08.289 UTC',\n",
       " '2020-09-02 10:57:38.651 UTC',\n",
       " '2020-09-02 11:22:33.422 UTC',\n",
       " '2020-09-02 11:32:57.432 UTC',\n",
       " '2020-09-02 11:37:50.939 UTC',\n",
       " '2020-09-02 11:42:55 UTC',\n",
       " '2020-09-02 11:47:52.63 UTC',\n",
       " '2020-09-02 11:48:01.221 UTC',\n",
       " '2020-09-02 11:52:54.863 UTC',\n",
       " '2020-09-02 11:58:06.613 UTC',\n",
       " '2020-09-02 11:58:12.792 UTC',\n",
       " '2020-09-02 12:03:23.328 UTC',\n",
       " '2020-09-02 12:13:17.484 UTC',\n",
       " '2020-09-02 12:18:25.363 UTC',\n",
       " '2020-09-02 12:18:30.515 UTC',\n",
       " '2020-09-02 12:19:09.628 UTC',\n",
       " '2020-09-02 12:23:16.055 UTC',\n",
       " '2020-09-02 12:33:19.162 UTC',\n",
       " '2020-09-02 12:34:16.431 UTC',\n",
       " '2020-09-02 12:38:17.417 UTC',\n",
       " '2020-09-02 12:43:38.461 UTC',\n",
       " '2020-09-02 12:48:28.282 UTC',\n",
       " '2020-09-02 12:48:41.23 UTC',\n",
       " '2020-09-02 13:03:41.225 UTC',\n",
       " '2020-09-02 13:08:31.736 UTC',\n",
       " '2020-09-02 13:13:41.695 UTC',\n",
       " '2020-09-02 13:33:54.227 UTC',\n",
       " '2020-09-02 13:34:27.891 UTC',\n",
       " '2020-09-02 13:38:45.394 UTC',\n",
       " '2020-09-02 13:43:50.714 UTC',\n",
       " '2020-09-02 13:48:45.409 UTC',\n",
       " '2020-09-02 13:53:55.47 UTC',\n",
       " '2020-09-02 14:08:58.014 UTC',\n",
       " '2020-09-02 14:14:16.593 UTC',\n",
       " '2020-09-02 14:19:11.104 UTC',\n",
       " '2020-09-02 14:24:09.865 UTC',\n",
       " '2020-09-02 14:29:09.304 UTC',\n",
       " '2020-09-02 14:34:32.014 UTC',\n",
       " '2020-09-02 14:34:39.165 UTC',\n",
       " '2020-09-02 14:44:56.223 UTC',\n",
       " '2020-09-02 14:45:04.649 UTC',\n",
       " '2020-09-02 14:49:33.179 UTC',\n",
       " '2020-09-02 14:49:48.928 UTC',\n",
       " '2020-09-02 14:59:49.125 UTC',\n",
       " '2020-09-02 15:04:45.787 UTC',\n",
       " '2020-09-02 15:09:52.524 UTC',\n",
       " '2020-09-02 15:09:54.076 UTC',\n",
       " '2020-09-02 15:14:44.087 UTC',\n",
       " '2020-09-02 15:19:52.788 UTC',\n",
       " '2020-09-02 15:24:37.196 UTC',\n",
       " '2020-09-02 15:29:38.195 UTC',\n",
       " '2020-09-02 15:34:50.807 UTC',\n",
       " '2020-09-02 15:34:50.836 UTC',\n",
       " '2020-09-02 15:45:10.165 UTC',\n",
       " '2020-09-02 15:55:01.06 UTC',\n",
       " '2020-09-02 15:55:13.006 UTC',\n",
       " '2020-09-02 16:00:03.603 UTC',\n",
       " '2020-09-02 16:05:21.417 UTC',\n",
       " '2020-09-02 16:05:29.353 UTC',\n",
       " '2020-09-02 16:09:56.966 UTC',\n",
       " '2020-09-02 16:10:09.753 UTC',\n",
       " '2020-09-02 16:15:11.123 UTC',\n",
       " '2020-09-02 16:20:08.352 UTC',\n",
       " '2020-09-02 16:20:18.104 UTC',\n",
       " '2020-09-02 16:25:22.489 UTC',\n",
       " '2020-09-02 16:25:37.823 UTC',\n",
       " '2020-09-02 16:30:06.336 UTC',\n",
       " '2020-09-02 16:30:09.059 UTC',\n",
       " '2020-09-02 16:30:19.285 UTC',\n",
       " '2020-09-02 16:45:32.978 UTC',\n",
       " '2020-09-02 16:50:27.862 UTC',\n",
       " '2020-09-02 16:50:33.583 UTC',\n",
       " '2020-09-02 16:55:31.156 UTC',\n",
       " '2020-09-02 17:00:45.757 UTC',\n",
       " '2020-09-02 17:05:12.44 UTC',\n",
       " '2020-09-02 17:05:24.399 UTC',\n",
       " '2020-09-02 17:15:25.781 UTC',\n",
       " '2020-09-02 17:15:52.955 UTC',\n",
       " '2020-09-02 17:20:31.367 UTC',\n",
       " '2020-09-02 17:25:38.133 UTC',\n",
       " '2020-09-02 17:25:59.245 UTC',\n",
       " '2020-09-02 17:30:53.878 UTC',\n",
       " '2020-09-02 17:35:43.466 UTC',\n",
       " '2020-09-02 17:40:31.201 UTC',\n",
       " '2020-09-02 17:40:39.047 UTC',\n",
       " '2020-09-02 17:41:00.1 UTC',\n",
       " '2020-09-02 17:41:12.218 UTC',\n",
       " '2020-09-02 17:45:40.593 UTC',\n",
       " '2020-09-02 17:50:48.497 UTC',\n",
       " '2020-09-02 17:55:59.251 UTC',\n",
       " '2020-09-02 17:56:15.289 UTC',\n",
       " '2020-09-02 18:00:59.954 UTC',\n",
       " '2020-09-02 18:05:59.413 UTC',\n",
       " '2020-09-02 18:10:59.302 UTC',\n",
       " '2020-09-02 18:11:05.076 UTC',\n",
       " '2020-09-02 18:16:05.998 UTC',\n",
       " '2020-09-02 18:16:27.923 UTC',\n",
       " '2020-09-02 18:26:05.511 UTC',\n",
       " '2020-09-02 18:30:56.553 UTC',\n",
       " '2020-09-02 18:31:10.643 UTC',\n",
       " '2020-09-02 18:36:19.316 UTC',\n",
       " '2020-09-02 18:41:01.916 UTC',\n",
       " '2020-09-02 18:50:55.96 UTC',\n",
       " '2020-09-02 19:01:04.387 UTC',\n",
       " '2020-09-02 19:01:13.176 UTC',\n",
       " '2020-09-02 19:06:22.95 UTC',\n",
       " '2020-09-02 19:11:12.4 UTC',\n",
       " '2020-09-02 19:21:27.138 UTC',\n",
       " '2020-09-02 19:26:14.322 UTC',\n",
       " '2020-09-02 19:31:18.83 UTC',\n",
       " '2020-09-02 19:36:24.566 UTC',\n",
       " '2020-09-02 19:41:15.143 UTC',\n",
       " '2020-09-02 19:46:39.034 UTC',\n",
       " '2020-09-02 19:56:54.357 UTC',\n",
       " '2020-09-02 20:01:38.99 UTC',\n",
       " '2020-09-02 20:06:42.67 UTC',\n",
       " '2020-09-02 20:11:52.25 UTC',\n",
       " '2020-09-02 20:16:47.728 UTC',\n",
       " '2020-09-02 20:21:37.472 UTC',\n",
       " '2020-09-02 20:27:09.154 UTC',\n",
       " '2020-09-02 20:31:51.637 UTC',\n",
       " '2020-09-02 20:31:52.196 UTC',\n",
       " '2020-09-02 20:36:41.605 UTC',\n",
       " '2020-09-02 20:37:04.982 UTC',\n",
       " '2020-09-02 20:41:45.69 UTC',\n",
       " '2020-09-02 20:51:49.789 UTC',\n",
       " '2020-09-02 20:56:56.552 UTC',\n",
       " '2020-09-02 20:57:07.559 UTC',\n",
       " '2020-09-02 21:02:00.349 UTC',\n",
       " '2020-09-02 21:02:06.902 UTC',\n",
       " '2020-09-02 21:06:53.98 UTC',\n",
       " '2020-09-02 21:07:17.93 UTC',\n",
       " '2020-09-02 21:11:53.511 UTC',\n",
       " '2020-09-02 21:17:46.409 UTC',\n",
       " '2020-09-02 21:22:12.065 UTC',\n",
       " '2020-09-02 21:27:04.557 UTC',\n",
       " '2020-09-02 21:42:13.523 UTC',\n",
       " '2020-09-02 21:57:30.05 UTC',\n",
       " '2020-09-02 21:58:15.335 UTC',\n",
       " '2020-09-02 22:03:22.018 UTC',\n",
       " '2020-09-02 22:12:27.253 UTC',\n",
       " '2020-09-02 22:13:01.37 UTC',\n",
       " '2020-09-02 22:17:33.02 UTC',\n",
       " '2020-09-02 22:22:39.51 UTC',\n",
       " '2020-09-02 22:22:54.738 UTC',\n",
       " '2020-09-02 22:28:07.644 UTC',\n",
       " '2020-09-02 22:32:29.992 UTC',\n",
       " '2020-09-02 22:33:36.969 UTC',\n",
       " '2020-09-02 22:33:42.018 UTC',\n",
       " '2020-09-02 22:39:06.874 UTC',\n",
       " '2020-09-02 22:39:17.55 UTC',\n",
       " '2020-09-02 22:52:44.616 UTC',\n",
       " '2020-09-02 22:52:54.673 UTC',\n",
       " '2020-09-02 23:12:57.458 UTC',\n",
       " '2020-09-02 23:13:11.402 UTC',\n",
       " '2020-09-02 23:18:15.076 UTC',\n",
       " '2020-09-02 23:18:16.402 UTC',\n",
       " '2020-09-02 23:22:54.19 UTC',\n",
       " '2020-09-02 23:23:00.665 UTC',\n",
       " '2020-09-02 23:23:06.651 UTC',\n",
       " '2020-09-02 23:27:59.516 UTC',\n",
       " '2020-09-02 23:28:08.489 UTC',\n",
       " '2020-09-02 23:38:01.147 UTC',\n",
       " '2020-09-02 23:38:09.74 UTC',\n",
       " '2020-09-02 23:43:05.689 UTC',\n",
       " '2020-09-02 23:48:11.318 UTC',\n",
       " '2020-09-02 23:58:11.567 UTC',\n",
       " '2020-09-02 23:58:19.634 UTC',\n",
       " '2020-09-03 00:01:21.907 UTC',\n",
       " '2020-09-03 00:01:34.86 UTC',\n",
       " '2020-09-03 00:01:40.905 UTC',\n",
       " '2020-09-03 00:01:53.115 UTC',\n",
       " '2020-09-03 00:01:56.07 UTC',\n",
       " '2020-09-03 00:02:19.203 UTC',\n",
       " '2020-09-03 00:03:11.063 UTC',\n",
       " '2020-09-03 00:04:15.275 UTC',\n",
       " '2020-09-03 00:05:04.994 UTC',\n",
       " '2020-09-03 00:05:10.101 UTC',\n",
       " '2020-09-03 00:05:26.547 UTC',\n",
       " '2020-09-03 00:05:38.37 UTC',\n",
       " '2020-09-03 00:05:51.506 UTC',\n",
       " '2020-09-03 00:06:07.644 UTC',\n",
       " '2020-09-03 00:06:17.724 UTC',\n",
       " '2020-09-03 00:06:17.732 UTC',\n",
       " '2020-09-03 00:06:29.559 UTC',\n",
       " '2020-09-03 00:06:47.729 UTC',\n",
       " '2020-09-03 00:07:08.86 UTC',\n",
       " '2020-09-03 00:07:15.639 UTC',\n",
       " '2020-09-03 00:12:24.338 UTC',\n",
       " '2020-09-03 00:12:27.465 UTC',\n",
       " '2020-09-03 00:12:31.45 UTC',\n",
       " '2020-09-03 00:12:37.373 UTC',\n",
       " '2020-09-03 00:17:30.112 UTC',\n",
       " '2020-09-03 00:22:26.015 UTC',\n",
       " '2020-09-03 00:22:46.004 UTC',\n",
       " '2020-09-03 00:37:33.009 UTC',\n",
       " '2020-09-03 00:37:43.906 UTC',\n",
       " '2020-09-03 00:42:59.628 UTC',\n",
       " '2020-09-03 00:42:59.747 UTC',\n",
       " '2020-09-03 00:43:05.533 UTC',\n",
       " '2020-09-03 02:08:54.54 UTC',\n",
       " '2020-09-03 02:10:59.179 UTC',\n",
       " '2020-09-03 02:11:04.527 UTC',\n",
       " '2020-09-03 02:11:34.559 UTC',\n",
       " '2020-09-03 02:13:37.201 UTC',\n",
       " '2020-09-03 02:15:26.971 UTC',\n",
       " '2020-09-03 02:16:33.087 UTC',\n",
       " '2020-09-03 02:16:48.745 UTC',\n",
       " '2020-09-03 02:16:56.554 UTC',\n",
       " '2020-09-03 02:17:03.314 UTC',\n",
       " '2020-09-03 02:18:17.015 UTC',\n",
       " '2020-09-03 02:18:28.705 UTC',\n",
       " '2020-09-03 02:18:30.79 UTC',\n",
       " '2020-09-03 02:18:52.847 UTC',\n",
       " '2020-09-03 02:19:07.89 UTC',\n",
       " '2020-09-03 02:19:27.974 UTC',\n",
       " '2020-09-03 02:20:15.981 UTC',\n",
       " '2020-09-03 02:20:20.195 UTC',\n",
       " '2020-09-03 02:20:26.375 UTC',\n",
       " '2020-09-03 02:22:25.298 UTC',\n",
       " '2020-09-03 02:22:37.374 UTC',\n",
       " '2020-09-03 02:22:39.275 UTC',\n",
       " '2020-09-03 02:22:55.32 UTC',\n",
       " '2020-09-03 02:22:57.422 UTC',\n",
       " '2020-09-03 02:23:02.335 UTC',\n",
       " '2020-09-03 02:23:14.432 UTC',\n",
       " '2020-09-03 02:23:17.491 UTC',\n",
       " '2020-09-03 02:23:20.654 UTC',\n",
       " '2020-09-03 02:23:50.701 UTC',\n",
       " '2020-09-03 23:21:59.275 UTC',\n",
       " '2020-09-03 23:26:55.05 UTC',\n",
       " '2020-09-03 23:31:58.723 UTC',\n",
       " '2020-09-03 23:42:02.05 UTC',\n",
       " '2020-09-03 23:47:05.827 UTC',\n",
       " '2020-09-03 23:52:06.162 UTC',\n",
       " '2020-09-03 23:57:13.363 UTC']"
      ]
     },
     "execution_count": 33,
     "metadata": {},
     "output_type": "execute_result"
    }
   ],
   "source": [
    "ssessiontimestamps = subbot['collector_tstamp'].unique()\n",
    "sorted(ssessiontimestamps)"
   ]
  },
  {
   "cell_type": "markdown",
   "metadata": {},
   "source": [
    "#### Looking at session expiry"
   ]
  },
  {
   "cell_type": "markdown",
   "metadata": {},
   "source": [
    "Now looking at the timing between a session's event timestamps. If there are gaps greater than 30 minutes or timestamps on different days, these would be suspicious."
   ]
  },
  {
   "cell_type": "markdown",
   "metadata": {},
   "source": [
    "    Pseudocode:\n",
    "\n",
    "    for each non-bot session:\n",
    "\n",
    "        sort timestamps\n",
    "    \n",
    "        for each timestamp compare with next:\n",
    "    \n",
    "            if (diff between consecutive timestamps > 30 minutes) or (a different day):\n",
    "        \n",
    "                set user_type to 'Probable bot'"
   ]
  },
  {
   "cell_type": "code",
   "execution_count": 34,
   "metadata": {},
   "outputs": [],
   "source": [
    "# Create a sorted dataframe by session id and timestamp\n",
    "sorteddf = events.sort_values(by=['domain_sessionid', 'collector_tstamp'])"
   ]
  },
  {
   "cell_type": "code",
   "execution_count": 35,
   "metadata": {},
   "outputs": [],
   "source": [
    "# Create a new column to hold the previous session id \n",
    "sorteddf['previous_sessionid'] = sorteddf['domain_sessionid'].shift(1)"
   ]
  },
  {
   "cell_type": "code",
   "execution_count": 36,
   "metadata": {},
   "outputs": [],
   "source": [
    "# If the session id is the same as the previous one, then save the timestamp of the previous session\n",
    "sorteddf['previous_timestamp'] = sorteddf['collector_tstamp'].shift(1)[(sorteddf['previous_sessionid'].notnull()) & (sorteddf['previous_sessionid'] == sorteddf['domain_sessionid'])]"
   ]
  },
  {
   "cell_type": "code",
   "execution_count": 37,
   "metadata": {},
   "outputs": [],
   "source": [
    "# convert the timestamps for comparison\n",
    "sorteddf['previous_timestamp'] = pd.to_datetime(sorteddf['previous_timestamp'])\n",
    "sorteddf['collector_tstamp'] = pd.to_datetime(sorteddf['collector_tstamp'])"
   ]
  },
  {
   "cell_type": "code",
   "execution_count": 38,
   "metadata": {},
   "outputs": [],
   "source": [
    "# Create a new column to hold the time difference\n",
    "sorteddf['diff'] = np.nan"
   ]
  },
  {
   "cell_type": "code",
   "execution_count": 39,
   "metadata": {},
   "outputs": [],
   "source": [
    "# If there is a previous session event and it is not a different day,\n",
    "# then set column 'diff' value to the time from the previous event in minutes\n",
    "sorteddf.loc[(sorteddf['previous_timestamp']!= np.datetime64('NaT')) & ((sorteddf['collector_tstamp'] - sorteddf['previous_timestamp']).dt.days<1), 'diff'] = (sorteddf['collector_tstamp'] - sorteddf['previous_timestamp']).dt.total_seconds() / 60"
   ]
  },
  {
   "cell_type": "code",
   "execution_count": 40,
   "metadata": {},
   "outputs": [],
   "source": [
    "# If there is a previous session event and it IS a different day,\n",
    "# then set column 'diff' value to 999\n",
    "sorteddf.loc[(sorteddf['previous_timestamp']!= np.datetime64('NaT')) & ((sorteddf['collector_tstamp'] - sorteddf['previous_timestamp']).dt.days >= 1), 'diff'] = 999"
   ]
  },
  {
   "cell_type": "code",
   "execution_count": 41,
   "metadata": {},
   "outputs": [
    {
     "data": {
      "text/html": [
       "<div>\n",
       "<style scoped>\n",
       "    .dataframe tbody tr th:only-of-type {\n",
       "        vertical-align: middle;\n",
       "    }\n",
       "\n",
       "    .dataframe tbody tr th {\n",
       "        vertical-align: top;\n",
       "    }\n",
       "\n",
       "    .dataframe thead th {\n",
       "        text-align: right;\n",
       "    }\n",
       "</style>\n",
       "<table border=\"1\" class=\"dataframe\">\n",
       "  <thead>\n",
       "    <tr style=\"text-align: right;\">\n",
       "      <th></th>\n",
       "      <th>domain_userid</th>\n",
       "      <th>network_userid</th>\n",
       "      <th>domain_sessionid</th>\n",
       "      <th>useragent</th>\n",
       "      <th>os_name</th>\n",
       "      <th>os_family</th>\n",
       "      <th>br_name</th>\n",
       "      <th>br_family</th>\n",
       "      <th>br_version</th>\n",
       "      <th>br_type</th>\n",
       "      <th>derived_tstamp</th>\n",
       "      <th>collector_tstamp</th>\n",
       "      <th>page_urlscheme</th>\n",
       "      <th>page_urlhost</th>\n",
       "      <th>page_urlport</th>\n",
       "      <th>page_urlpath</th>\n",
       "      <th>refr_urlscheme</th>\n",
       "      <th>refr_urlhost</th>\n",
       "      <th>refr_urlport</th>\n",
       "      <th>refr_urlpath</th>\n",
       "      <th>app_id</th>\n",
       "      <th>user_ipaddress</th>\n",
       "      <th>page_view_id</th>\n",
       "      <th>member_id</th>\n",
       "      <th>member_type</th>\n",
       "      <th>article_id</th>\n",
       "      <th>article_type</th>\n",
       "      <th>article_primary_category</th>\n",
       "      <th>user_type</th>\n",
       "      <th>previous_sessionid</th>\n",
       "      <th>previous_timestamp</th>\n",
       "      <th>diff</th>\n",
       "    </tr>\n",
       "  </thead>\n",
       "  <tbody>\n",
       "    <tr>\n",
       "      <th>3497790</th>\n",
       "      <td>d7b744a8-b70a-4efb-8d06-c80abed2be84</td>\n",
       "      <td>e0c344bc-08f5-4b8d-aec2-3cef9fa5e286</td>\n",
       "      <td>00000a61-d64e-4d93-8b37-5f95d319b953</td>\n",
       "      <td>Mozilla/5.0 (Macintosh; Intel Mac OS X 10_13_6) AppleWebKit/537.36 (KHTML, like Gecko) Chrome/84.0.4147.105 Safari/537.36</td>\n",
       "      <td>Mac OS X</td>\n",
       "      <td>Mac OS X</td>\n",
       "      <td>Chrome 8</td>\n",
       "      <td>Chrome</td>\n",
       "      <td>84.0.4147.105</td>\n",
       "      <td>Browser</td>\n",
       "      <td>2020-09-01 03:05:47.42 UTC</td>\n",
       "      <td>2020-09-01 03:05:47.422000+00:00</td>\n",
       "      <td>https</td>\n",
       "      <td>www.smh.com.au</td>\n",
       "      <td>80</td>\n",
       "      <td>/business/markets/asx-to-slide-big-night-for-apple-tesla-rba-decision-looms-20200901-p55r59.html</td>\n",
       "      <td>https</td>\n",
       "      <td>www.smh.com.au</td>\n",
       "      <td>80.0</td>\n",
       "      <td>/</td>\n",
       "      <td>smh-web</td>\n",
       "      <td>LjQxW8m2x/4tSEHsdp7PUTqcL9+HhwaKZaCYAf0maxQ=</td>\n",
       "      <td>B5D9F3BA-B041-4792-BF68-93F6AD99CF29</td>\n",
       "      <td>0AAQhPrQmHuvKC08RFgkT68fGVirRQfhzeaoZL6FS6Y=</td>\n",
       "      <td>Non-Subscriber</td>\n",
       "      <td>P55R59</td>\n",
       "      <td>LIVE ARTICLE</td>\n",
       "      <td>MARKETS LIVE</td>\n",
       "      <td>NaN</td>\n",
       "      <td>NaN</td>\n",
       "      <td>NaT</td>\n",
       "      <td>NaN</td>\n",
       "    </tr>\n",
       "    <tr>\n",
       "      <th>2765583</th>\n",
       "      <td>d7b744a8-b70a-4efb-8d06-c80abed2be84</td>\n",
       "      <td>1af7f306-3f3f-4d7a-b8aa-70734ba83d58</td>\n",
       "      <td>00000a61-d64e-4d93-8b37-5f95d319b953</td>\n",
       "      <td>Mozilla/5.0 (Macintosh; Intel Mac OS X 10_13_6) AppleWebKit/537.36 (KHTML, like Gecko) Chrome/84.0.4147.105 Safari/537.36</td>\n",
       "      <td>Mac OS X</td>\n",
       "      <td>Mac OS X</td>\n",
       "      <td>Chrome 8</td>\n",
       "      <td>Chrome</td>\n",
       "      <td>84.0.4147.105</td>\n",
       "      <td>Browser</td>\n",
       "      <td>2020-09-01 03:08:13.195 UTC</td>\n",
       "      <td>2020-09-01 03:08:13.336000+00:00</td>\n",
       "      <td>https</td>\n",
       "      <td>www.smh.com.au</td>\n",
       "      <td>80</td>\n",
       "      <td>/business/markets/asx-to-slide-big-night-for-apple-tesla-rba-decision-looms-20200901-p55r59.html</td>\n",
       "      <td>https</td>\n",
       "      <td>www.smh.com.au</td>\n",
       "      <td>80.0</td>\n",
       "      <td>/business/markets/asx-to-slide-big-night-for-apple-tesla-rba-decision-looms-20200901-p55r59.html</td>\n",
       "      <td>smh-web</td>\n",
       "      <td>LjQxW8m2x/4tSEHsdp7PUTqcL9+HhwaKZaCYAf0maxQ=</td>\n",
       "      <td>6CB42FDE-8494-440D-A3AA-C4E554921631</td>\n",
       "      <td>0AAQhPrQmHuvKC08RFgkT68fGVirRQfhzeaoZL6FS6Y=</td>\n",
       "      <td>Non-Subscriber</td>\n",
       "      <td>P55R59</td>\n",
       "      <td>LIVE ARTICLE</td>\n",
       "      <td>MARKETS LIVE</td>\n",
       "      <td>NaN</td>\n",
       "      <td>00000a61-d64e-4d93-8b37-5f95d319b953</td>\n",
       "      <td>2020-09-01 03:05:47.422000+00:00</td>\n",
       "      <td>2.431900</td>\n",
       "    </tr>\n",
       "    <tr>\n",
       "      <th>1851729</th>\n",
       "      <td>52333e33-36bf-406d-88b8-1735c9ee9fc6</td>\n",
       "      <td>fa9b060c-b5df-4edc-96fa-0410c23b1aee</td>\n",
       "      <td>00000aae-2854-4dcb-a45d-8808130b9cbf</td>\n",
       "      <td>Mozilla/5.0 (Macintosh; Intel Mac OS X 11_0) AppleWebKit/605.1.15 (KHTML, like Gecko) Version/14.0 Safari/605.1.15</td>\n",
       "      <td>Mac OS X</td>\n",
       "      <td>Mac OS X</td>\n",
       "      <td>Safari</td>\n",
       "      <td>Safari</td>\n",
       "      <td>14.0</td>\n",
       "      <td>Browser</td>\n",
       "      <td>2020-09-01 02:33:37.486 UTC</td>\n",
       "      <td>2020-09-01 02:33:37.488000+00:00</td>\n",
       "      <td>https</td>\n",
       "      <td>www.smh.com.au</td>\n",
       "      <td>80</td>\n",
       "      <td>/world/oceania/returning-kiwis-account-for-bulk-of-new-cases-20200901-p55r9p.html</td>\n",
       "      <td>https</td>\n",
       "      <td>www.smh.com.au</td>\n",
       "      <td>80.0</td>\n",
       "      <td>/coronavirus-pandemic</td>\n",
       "      <td>smh-web</td>\n",
       "      <td>yDC4S1HsWEYbDG2heQVwT/QtRI767JHuAiK7Vfs05+4=</td>\n",
       "      <td>C2D0FE2A-06AA-4440-8A1F-CFF048A121B6</td>\n",
       "      <td>uQXHT83n4eAmNYgkYsutNY1avKqury/oJBypEDf0Ga8=</td>\n",
       "      <td>Non-Subscriber</td>\n",
       "      <td>P55R9P</td>\n",
       "      <td>ARTICLE</td>\n",
       "      <td>CORONAVIRUS PANDEMIC</td>\n",
       "      <td>NaN</td>\n",
       "      <td>00000a61-d64e-4d93-8b37-5f95d319b953</td>\n",
       "      <td>NaT</td>\n",
       "      <td>NaN</td>\n",
       "    </tr>\n",
       "    <tr>\n",
       "      <th>706344</th>\n",
       "      <td>4aacaec6-267e-4d06-b6f6-169328263718</td>\n",
       "      <td>902d74b1-b5ef-4476-80ef-74b655db0b58</td>\n",
       "      <td>00000ddc-144b-4d97-87dc-79f8c21d0c8f</td>\n",
       "      <td>Mozilla/5.0 (iPhone; CPU iPhone OS 13_6 like Mac OS X) AppleWebKit/605.1.15 (KHTML, like Gecko) CriOS/84.0.4147.122 Mobile/15E148 Safari/604.1</td>\n",
       "      <td>Mac OS X (iPhone)</td>\n",
       "      <td>iOS</td>\n",
       "      <td>Chrome Mobile</td>\n",
       "      <td>Chrome</td>\n",
       "      <td>84.0.4147.122</td>\n",
       "      <td>Browser (mobile)</td>\n",
       "      <td>2020-09-03 21:44:09.507 UTC</td>\n",
       "      <td>2020-09-03 21:44:09.511000+00:00</td>\n",
       "      <td>https</td>\n",
       "      <td>www.smh.com.au</td>\n",
       "      <td>80</td>\n",
       "      <td>/</td>\n",
       "      <td>https</td>\n",
       "      <td>www.smh.com.au</td>\n",
       "      <td>80.0</td>\n",
       "      <td>/</td>\n",
       "      <td>smh-web</td>\n",
       "      <td>LazDn3F8h4zDIa3VLWNsfpM686smQdmhpyF3+v2OeWc=</td>\n",
       "      <td>2CD53423-3DF8-4127-8E3E-A437A3D5BDBF</td>\n",
       "      <td>0AAQhPrQmHuvKC08RFgkT68fGVirRQfhzeaoZL6FS6Y=</td>\n",
       "      <td>Non-Subscriber</td>\n",
       "      <td>NaN</td>\n",
       "      <td>HOMEPAGE</td>\n",
       "      <td>NaN</td>\n",
       "      <td>NaN</td>\n",
       "      <td>00000aae-2854-4dcb-a45d-8808130b9cbf</td>\n",
       "      <td>NaT</td>\n",
       "      <td>NaN</td>\n",
       "    </tr>\n",
       "    <tr>\n",
       "      <th>705109</th>\n",
       "      <td>4aacaec6-267e-4d06-b6f6-169328263718</td>\n",
       "      <td>902d74b1-b5ef-4476-80ef-74b655db0b58</td>\n",
       "      <td>00000ddc-144b-4d97-87dc-79f8c21d0c8f</td>\n",
       "      <td>Mozilla/5.0 (iPhone; CPU iPhone OS 13_6 like Mac OS X) AppleWebKit/605.1.15 (KHTML, like Gecko) CriOS/84.0.4147.122 Mobile/15E148 Safari/604.1</td>\n",
       "      <td>Mac OS X (iPhone)</td>\n",
       "      <td>iOS</td>\n",
       "      <td>Chrome Mobile</td>\n",
       "      <td>Chrome</td>\n",
       "      <td>84.0.4147.122</td>\n",
       "      <td>Browser (mobile)</td>\n",
       "      <td>2020-09-03 22:14:13.681 UTC</td>\n",
       "      <td>2020-09-03 22:14:13.694000+00:00</td>\n",
       "      <td>https</td>\n",
       "      <td>www.smh.com.au</td>\n",
       "      <td>80</td>\n",
       "      <td>/</td>\n",
       "      <td>https</td>\n",
       "      <td>www.smh.com.au</td>\n",
       "      <td>80.0</td>\n",
       "      <td>/</td>\n",
       "      <td>smh-web</td>\n",
       "      <td>LazDn3F8h4zDIa3VLWNsfpM686smQdmhpyF3+v2OeWc=</td>\n",
       "      <td>533B365C-E21A-4A5A-8493-402C6EA5C97F</td>\n",
       "      <td>0AAQhPrQmHuvKC08RFgkT68fGVirRQfhzeaoZL6FS6Y=</td>\n",
       "      <td>Non-Subscriber</td>\n",
       "      <td>NaN</td>\n",
       "      <td>HOMEPAGE</td>\n",
       "      <td>NaN</td>\n",
       "      <td>NaN</td>\n",
       "      <td>00000ddc-144b-4d97-87dc-79f8c21d0c8f</td>\n",
       "      <td>2020-09-03 21:44:09.511000+00:00</td>\n",
       "      <td>30.069717</td>\n",
       "    </tr>\n",
       "  </tbody>\n",
       "</table>\n",
       "</div>"
      ],
      "text/plain": [
       "                                domain_userid                        network_userid                      domain_sessionid                                                                                                                                       useragent            os_name os_family        br_name br_family     br_version           br_type               derived_tstamp                 collector_tstamp page_urlscheme    page_urlhost  page_urlport                                                                                      page_urlpath refr_urlscheme    refr_urlhost  refr_urlport                                                                                      refr_urlpath   app_id                                user_ipaddress                          page_view_id                                     member_id     member_type article_id  article_type article_primary_category user_type                    previous_sessionid               previous_timestamp       diff\n",
       "3497790  d7b744a8-b70a-4efb-8d06-c80abed2be84  e0c344bc-08f5-4b8d-aec2-3cef9fa5e286  00000a61-d64e-4d93-8b37-5f95d319b953                       Mozilla/5.0 (Macintosh; Intel Mac OS X 10_13_6) AppleWebKit/537.36 (KHTML, like Gecko) Chrome/84.0.4147.105 Safari/537.36           Mac OS X  Mac OS X       Chrome 8    Chrome  84.0.4147.105           Browser   2020-09-01 03:05:47.42 UTC 2020-09-01 03:05:47.422000+00:00          https  www.smh.com.au            80  /business/markets/asx-to-slide-big-night-for-apple-tesla-rba-decision-looms-20200901-p55r59.html          https  www.smh.com.au          80.0                                                                                                 /  smh-web  LjQxW8m2x/4tSEHsdp7PUTqcL9+HhwaKZaCYAf0maxQ=  B5D9F3BA-B041-4792-BF68-93F6AD99CF29  0AAQhPrQmHuvKC08RFgkT68fGVirRQfhzeaoZL6FS6Y=  Non-Subscriber     P55R59  LIVE ARTICLE             MARKETS LIVE       NaN                                   NaN                              NaT        NaN\n",
       "2765583  d7b744a8-b70a-4efb-8d06-c80abed2be84  1af7f306-3f3f-4d7a-b8aa-70734ba83d58  00000a61-d64e-4d93-8b37-5f95d319b953                       Mozilla/5.0 (Macintosh; Intel Mac OS X 10_13_6) AppleWebKit/537.36 (KHTML, like Gecko) Chrome/84.0.4147.105 Safari/537.36           Mac OS X  Mac OS X       Chrome 8    Chrome  84.0.4147.105           Browser  2020-09-01 03:08:13.195 UTC 2020-09-01 03:08:13.336000+00:00          https  www.smh.com.au            80  /business/markets/asx-to-slide-big-night-for-apple-tesla-rba-decision-looms-20200901-p55r59.html          https  www.smh.com.au          80.0  /business/markets/asx-to-slide-big-night-for-apple-tesla-rba-decision-looms-20200901-p55r59.html  smh-web  LjQxW8m2x/4tSEHsdp7PUTqcL9+HhwaKZaCYAf0maxQ=  6CB42FDE-8494-440D-A3AA-C4E554921631  0AAQhPrQmHuvKC08RFgkT68fGVirRQfhzeaoZL6FS6Y=  Non-Subscriber     P55R59  LIVE ARTICLE             MARKETS LIVE       NaN  00000a61-d64e-4d93-8b37-5f95d319b953 2020-09-01 03:05:47.422000+00:00   2.431900\n",
       "1851729  52333e33-36bf-406d-88b8-1735c9ee9fc6  fa9b060c-b5df-4edc-96fa-0410c23b1aee  00000aae-2854-4dcb-a45d-8808130b9cbf                              Mozilla/5.0 (Macintosh; Intel Mac OS X 11_0) AppleWebKit/605.1.15 (KHTML, like Gecko) Version/14.0 Safari/605.1.15           Mac OS X  Mac OS X         Safari    Safari           14.0           Browser  2020-09-01 02:33:37.486 UTC 2020-09-01 02:33:37.488000+00:00          https  www.smh.com.au            80                 /world/oceania/returning-kiwis-account-for-bulk-of-new-cases-20200901-p55r9p.html          https  www.smh.com.au          80.0                                                                             /coronavirus-pandemic  smh-web  yDC4S1HsWEYbDG2heQVwT/QtRI767JHuAiK7Vfs05+4=  C2D0FE2A-06AA-4440-8A1F-CFF048A121B6  uQXHT83n4eAmNYgkYsutNY1avKqury/oJBypEDf0Ga8=  Non-Subscriber     P55R9P       ARTICLE     CORONAVIRUS PANDEMIC       NaN  00000a61-d64e-4d93-8b37-5f95d319b953                              NaT        NaN\n",
       "706344   4aacaec6-267e-4d06-b6f6-169328263718  902d74b1-b5ef-4476-80ef-74b655db0b58  00000ddc-144b-4d97-87dc-79f8c21d0c8f  Mozilla/5.0 (iPhone; CPU iPhone OS 13_6 like Mac OS X) AppleWebKit/605.1.15 (KHTML, like Gecko) CriOS/84.0.4147.122 Mobile/15E148 Safari/604.1  Mac OS X (iPhone)       iOS  Chrome Mobile    Chrome  84.0.4147.122  Browser (mobile)  2020-09-03 21:44:09.507 UTC 2020-09-03 21:44:09.511000+00:00          https  www.smh.com.au            80                                                                                                 /          https  www.smh.com.au          80.0                                                                                                 /  smh-web  LazDn3F8h4zDIa3VLWNsfpM686smQdmhpyF3+v2OeWc=  2CD53423-3DF8-4127-8E3E-A437A3D5BDBF  0AAQhPrQmHuvKC08RFgkT68fGVirRQfhzeaoZL6FS6Y=  Non-Subscriber        NaN      HOMEPAGE                      NaN       NaN  00000aae-2854-4dcb-a45d-8808130b9cbf                              NaT        NaN\n",
       "705109   4aacaec6-267e-4d06-b6f6-169328263718  902d74b1-b5ef-4476-80ef-74b655db0b58  00000ddc-144b-4d97-87dc-79f8c21d0c8f  Mozilla/5.0 (iPhone; CPU iPhone OS 13_6 like Mac OS X) AppleWebKit/605.1.15 (KHTML, like Gecko) CriOS/84.0.4147.122 Mobile/15E148 Safari/604.1  Mac OS X (iPhone)       iOS  Chrome Mobile    Chrome  84.0.4147.122  Browser (mobile)  2020-09-03 22:14:13.681 UTC 2020-09-03 22:14:13.694000+00:00          https  www.smh.com.au            80                                                                                                 /          https  www.smh.com.au          80.0                                                                                                 /  smh-web  LazDn3F8h4zDIa3VLWNsfpM686smQdmhpyF3+v2OeWc=  533B365C-E21A-4A5A-8493-402C6EA5C97F  0AAQhPrQmHuvKC08RFgkT68fGVirRQfhzeaoZL6FS6Y=  Non-Subscriber        NaN      HOMEPAGE                      NaN       NaN  00000ddc-144b-4d97-87dc-79f8c21d0c8f 2020-09-03 21:44:09.511000+00:00  30.069717"
      ]
     },
     "execution_count": 41,
     "metadata": {},
     "output_type": "execute_result"
    }
   ],
   "source": [
    "sorteddf.head()"
   ]
  },
  {
   "cell_type": "code",
   "execution_count": 42,
   "metadata": {},
   "outputs": [
    {
     "data": {
      "text/plain": [
       "array([        nan,  2.4319    , 30.06971667, ...,  7.91348333,\n",
       "        8.29351667, 63.60996667])"
      ]
     },
     "execution_count": 42,
     "metadata": {},
     "output_type": "execute_result"
    }
   ],
   "source": [
    "sorteddf['diff'].unique()"
   ]
  },
  {
   "cell_type": "code",
   "execution_count": 43,
   "metadata": {},
   "outputs": [
    {
     "data": {
      "text/plain": [
       "588"
      ]
     },
     "execution_count": 43,
     "metadata": {},
     "output_type": "execute_result"
    }
   ],
   "source": [
    "sorteddf['domain_sessionid'].loc[sorteddf['diff']==999].count()"
   ]
  },
  {
   "cell_type": "code",
   "execution_count": 44,
   "metadata": {},
   "outputs": [
    {
     "data": {
      "text/plain": [
       "2129093"
      ]
     },
     "execution_count": 44,
     "metadata": {},
     "output_type": "execute_result"
    }
   ],
   "source": [
    "sorteddf['domain_sessionid'].loc[sorteddf['diff'].isnull()].count()"
   ]
  },
  {
   "cell_type": "code",
   "execution_count": 45,
   "metadata": {},
   "outputs": [
    {
     "data": {
      "text/plain": [
       "73655"
      ]
     },
     "execution_count": 45,
     "metadata": {},
     "output_type": "execute_result"
    }
   ],
   "source": [
    "sorteddf['domain_sessionid'].loc[sorteddf['diff'] > 35].count()"
   ]
  },
  {
   "cell_type": "code",
   "execution_count": 46,
   "metadata": {},
   "outputs": [],
   "source": [
    "# collect all the non null diffs that are over 30 minutes\n",
    "# I have set the threshold as 35 in case of timestamp errors - need to find out under what circumstances it is still considered a valid session\n",
    "sortedexpsess = sorteddf.loc[(sorteddf['diff'].notnull()) & (sorteddf['diff'] > 35)]"
   ]
  },
  {
   "cell_type": "code",
   "execution_count": 47,
   "metadata": {},
   "outputs": [
    {
     "data": {
      "text/plain": [
       "Bot                          146306\n",
       "Probable bot                  19177\n",
       "Probable bot (Subscriber)       970\n",
       "Name: user_type, dtype: int64"
      ]
     },
     "execution_count": 47,
     "metadata": {},
     "output_type": "execute_result"
    }
   ],
   "source": [
    "events['user_type'].value_counts()"
   ]
  },
  {
   "cell_type": "code",
   "execution_count": 48,
   "metadata": {},
   "outputs": [
    {
     "data": {
      "text/plain": [
       "Bot                                  146306\n",
       "Non-Subscriber (non-expd Session)     46170\n",
       "Probable bot                          19177\n",
       "Probable bot (Subscriber)               970\n",
       "Name: user_type, dtype: int64"
      ]
     },
     "execution_count": 48,
     "metadata": {},
     "output_type": "execute_result"
    }
   ],
   "source": [
    "# Now find and flag all that have 'diff' of over 30 minutes - these should not have the same session ids\n",
    "# where diff is not null and diff > 30 and is not a bot or probable bot and is not a subscriber\n",
    "events.loc[(events.index.isin(sortedexpsess.index)) & (events['user_type'] != \"Bot\") & (events['user_type'] != \"Probable bot\") & (events['member_type'] != 'Subscriber'), 'user_type'] = \"Non-Subscriber (non-expd Session)\"\n",
    "events['user_type'].value_counts()"
   ]
  },
  {
   "cell_type": "code",
   "execution_count": 49,
   "metadata": {},
   "outputs": [
    {
     "data": {
      "text/plain": [
       "Bot                                  146306\n",
       "Non-Subscriber (non-expd Session)     46170\n",
       "Subscriber (non-expd Session)         27337\n",
       "Probable bot                          19177\n",
       "Probable bot (Subscriber)               966\n",
       "Name: user_type, dtype: int64"
      ]
     },
     "execution_count": 49,
     "metadata": {},
     "output_type": "execute_result"
    }
   ],
   "source": [
    "# Flag Subscribers with session IDs that have for some reason not expired as: Subscriber (non-expd Session)\n",
    "# where diff is not null and diff > 30 and is not a bot or probable bot and is a subscriber\n",
    "events.loc[(events.index.isin(sortedexpsess.index)) & (events['user_type'] != \"Bot\") & (events['user_type'] != \"Probable bot\") & (events['member_type'] == 'Subscriber'), 'user_type'] = 'Subscriber (non-expd Session)'\n",
    "events['user_type'].value_counts()"
   ]
  },
  {
   "cell_type": "markdown",
   "metadata": {},
   "source": [
    "I also tried the above code using derived_tstamp and got less flagged events (42581 Non-Subcribers and 25687 Subscribers compared to 46170 Non-Subcribers and 27337 Subscribers) but the numbers are still high."
   ]
  },
  {
   "cell_type": "markdown",
   "metadata": {},
   "source": [
    "Look at some of the flagged subscribers"
   ]
  },
  {
   "cell_type": "code",
   "execution_count": 50,
   "metadata": {},
   "outputs": [
    {
     "data": {
      "text/html": [
       "<div>\n",
       "<style scoped>\n",
       "    .dataframe tbody tr th:only-of-type {\n",
       "        vertical-align: middle;\n",
       "    }\n",
       "\n",
       "    .dataframe tbody tr th {\n",
       "        vertical-align: top;\n",
       "    }\n",
       "\n",
       "    .dataframe thead th {\n",
       "        text-align: right;\n",
       "    }\n",
       "</style>\n",
       "<table border=\"1\" class=\"dataframe\">\n",
       "  <thead>\n",
       "    <tr style=\"text-align: right;\">\n",
       "      <th></th>\n",
       "      <th>domain_userid</th>\n",
       "      <th>network_userid</th>\n",
       "      <th>domain_sessionid</th>\n",
       "      <th>useragent</th>\n",
       "      <th>os_name</th>\n",
       "      <th>os_family</th>\n",
       "      <th>br_name</th>\n",
       "      <th>br_family</th>\n",
       "      <th>br_version</th>\n",
       "      <th>br_type</th>\n",
       "      <th>derived_tstamp</th>\n",
       "      <th>collector_tstamp</th>\n",
       "      <th>page_urlscheme</th>\n",
       "      <th>page_urlhost</th>\n",
       "      <th>page_urlport</th>\n",
       "      <th>page_urlpath</th>\n",
       "      <th>refr_urlscheme</th>\n",
       "      <th>refr_urlhost</th>\n",
       "      <th>refr_urlport</th>\n",
       "      <th>refr_urlpath</th>\n",
       "      <th>app_id</th>\n",
       "      <th>user_ipaddress</th>\n",
       "      <th>page_view_id</th>\n",
       "      <th>member_id</th>\n",
       "      <th>member_type</th>\n",
       "      <th>article_id</th>\n",
       "      <th>article_type</th>\n",
       "      <th>article_primary_category</th>\n",
       "      <th>user_type</th>\n",
       "    </tr>\n",
       "  </thead>\n",
       "  <tbody>\n",
       "    <tr>\n",
       "      <th>1505</th>\n",
       "      <td>a8dc0854-b90f-411b-a546-a63cf3b4f1f0</td>\n",
       "      <td>8de29f5d-7725-4377-942f-7cb761d581f8</td>\n",
       "      <td>56f9aca8-094d-45ee-8fd6-768c9de3fbbd</td>\n",
       "      <td>Mozilla/5.0 (Windows NT 10.0; Win64; x64; rv:79.0) Gecko/20100101 Firefox/79.0</td>\n",
       "      <td>Windows 10</td>\n",
       "      <td>Windows</td>\n",
       "      <td>Firefox 7</td>\n",
       "      <td>Firefox</td>\n",
       "      <td>79.0</td>\n",
       "      <td>Browser</td>\n",
       "      <td>2020-09-02 22:05:48.443 UTC</td>\n",
       "      <td>2020-09-03 06:00:01.244 UTC</td>\n",
       "      <td>https</td>\n",
       "      <td>www.smh.com.au</td>\n",
       "      <td>80</td>\n",
       "      <td>/</td>\n",
       "      <td>https</td>\n",
       "      <td>www.thesmhinsider.com.au</td>\n",
       "      <td>80.0</td>\n",
       "      <td>/s/Respond/bb81b94f-4328-41bd-8cf0-544c9828eafa</td>\n",
       "      <td>smh-web</td>\n",
       "      <td>nPv7ssdG66AFUvhsftA7ABQQhOx86LtOr+Cn6Q12tJE=</td>\n",
       "      <td>59FD215D-0062-4A75-ADC0-C23598FE0416</td>\n",
       "      <td>cmSh12eRMh0AFbkYkJmXfu9y35Oyz47vbwHEod9sN7A=</td>\n",
       "      <td>Subscriber</td>\n",
       "      <td>NaN</td>\n",
       "      <td>HOMEPAGE</td>\n",
       "      <td>NaN</td>\n",
       "      <td>Subscriber (non-expd Session)</td>\n",
       "    </tr>\n",
       "    <tr>\n",
       "      <th>1561</th>\n",
       "      <td>a32173b7-11dd-4631-9a05-6c63e3a6d430</td>\n",
       "      <td>945d7780-07b6-416d-8ea6-1102bb367a2f</td>\n",
       "      <td>171ceff1-dbeb-4525-8345-6745e5a7e0b0</td>\n",
       "      <td>Mozilla/5.0 (Windows NT 10.0; Win64; x64; rv:80.0) Gecko/20100101 Firefox/80.0</td>\n",
       "      <td>Windows 10</td>\n",
       "      <td>Windows</td>\n",
       "      <td>Firefox 8</td>\n",
       "      <td>Firefox</td>\n",
       "      <td>80.0</td>\n",
       "      <td>Browser</td>\n",
       "      <td>2020-09-03 04:31:00.56 UTC</td>\n",
       "      <td>2020-09-03 04:31:01.172 UTC</td>\n",
       "      <td>https</td>\n",
       "      <td>www.smh.com.au</td>\n",
       "      <td>80</td>\n",
       "      <td>/</td>\n",
       "      <td>https</td>\n",
       "      <td>www.theage.com.au</td>\n",
       "      <td>80.0</td>\n",
       "      <td>/</td>\n",
       "      <td>smh-web</td>\n",
       "      <td>5x7ykdeNWviRpkYBeVgFexnE6JIWJV7mo03CeXkKRe4=</td>\n",
       "      <td>6AD355B6-9C58-40F2-9F57-3D936A328045</td>\n",
       "      <td>PoQ9ARACrcJQDR4CFaIgUxlgEgeraSg314LchTDDgXU=</td>\n",
       "      <td>Subscriber</td>\n",
       "      <td>NaN</td>\n",
       "      <td>HOMEPAGE</td>\n",
       "      <td>NaN</td>\n",
       "      <td>Subscriber (non-expd Session)</td>\n",
       "    </tr>\n",
       "    <tr>\n",
       "      <th>1641</th>\n",
       "      <td>8cc9a17e-8a9d-422d-8952-cb18d230ca0d</td>\n",
       "      <td>a17c588d-c06c-468a-8fee-efa02cda5722</td>\n",
       "      <td>74bf59a9-baf2-4a8a-b210-3a17b1a81c3b</td>\n",
       "      <td>Mozilla/5.0 (Windows NT 10.0; Win64; x64; rv:80.0) Gecko/20100101 Firefox/80.0</td>\n",
       "      <td>Windows 10</td>\n",
       "      <td>Windows</td>\n",
       "      <td>Firefox 8</td>\n",
       "      <td>Firefox</td>\n",
       "      <td>80.0</td>\n",
       "      <td>Browser</td>\n",
       "      <td>2020-09-01 03:41:47.005 UTC</td>\n",
       "      <td>2020-09-01 03:41:47.01 UTC</td>\n",
       "      <td>https</td>\n",
       "      <td>www.smh.com.au</td>\n",
       "      <td>80</td>\n",
       "      <td>/</td>\n",
       "      <td>https</td>\n",
       "      <td>weather.smh.com.au</td>\n",
       "      <td>80.0</td>\n",
       "      <td>/local-forecast/nsw/sydney</td>\n",
       "      <td>smh-web</td>\n",
       "      <td>RtP+TcxLS1zV7PXK2jXtW3O99d3KIMVLCftJ0oy8AjI=</td>\n",
       "      <td>3627448D-C3AB-4E5A-A715-51D14964EA9B</td>\n",
       "      <td>gTE0QhuEGHKvTQIWG6XcoFZ2SYCXtUJ0asyzogys7Mw=</td>\n",
       "      <td>Subscriber</td>\n",
       "      <td>NaN</td>\n",
       "      <td>HOMEPAGE</td>\n",
       "      <td>NaN</td>\n",
       "      <td>Subscriber (non-expd Session)</td>\n",
       "    </tr>\n",
       "    <tr>\n",
       "      <th>1675</th>\n",
       "      <td>dc203aed-0db6-42e5-8b47-20314991b908</td>\n",
       "      <td>acf670b7-5d4d-4574-b0bf-c1ac52988d03</td>\n",
       "      <td>fd3bfd02-bad4-484d-b7ab-2bfac4616159</td>\n",
       "      <td>Mozilla/5.0 (Windows NT 10.0; Win64; x64; rv:80.0) Gecko/20100101 Firefox/80.0</td>\n",
       "      <td>Windows 10</td>\n",
       "      <td>Windows</td>\n",
       "      <td>Firefox 8</td>\n",
       "      <td>Firefox</td>\n",
       "      <td>80.0</td>\n",
       "      <td>Browser</td>\n",
       "      <td>2020-09-02 23:17:56.735 UTC</td>\n",
       "      <td>2020-09-02 23:17:56.736 UTC</td>\n",
       "      <td>https</td>\n",
       "      <td>www.smh.com.au</td>\n",
       "      <td>80</td>\n",
       "      <td>/</td>\n",
       "      <td>https</td>\n",
       "      <td>www.thesmhinsider.com.au</td>\n",
       "      <td>80.0</td>\n",
       "      <td>/s/Respond/7f6cbdb5-48eb-4af0-bc44-fd2395af5069</td>\n",
       "      <td>smh-web</td>\n",
       "      <td>KOzgfnxpgIfEFLAkjSF3Q4LYjMVUtj1bprn1JsDfRR4=</td>\n",
       "      <td>3881BE21-F452-444F-8D0E-9AF85B3E7476</td>\n",
       "      <td>E+XGbucmjNJerjyN1Kzh7DG33knEUCo5DzwukSOvdd8=</td>\n",
       "      <td>Subscriber</td>\n",
       "      <td>NaN</td>\n",
       "      <td>HOMEPAGE</td>\n",
       "      <td>NaN</td>\n",
       "      <td>Subscriber (non-expd Session)</td>\n",
       "    </tr>\n",
       "    <tr>\n",
       "      <th>1744</th>\n",
       "      <td>12d9b04b-b909-42c4-8d85-df829d250e0d</td>\n",
       "      <td>865c51a3-cce8-4f96-877f-faf2dcbc08be</td>\n",
       "      <td>cb3a85db-195b-417d-9200-dd8a8061c600</td>\n",
       "      <td>Mozilla/5.0 (Windows NT 10.0; Win64; x64; rv:80.0) Gecko/20100101 Firefox/80.0</td>\n",
       "      <td>Windows 10</td>\n",
       "      <td>Windows</td>\n",
       "      <td>Firefox 8</td>\n",
       "      <td>Firefox</td>\n",
       "      <td>80.0</td>\n",
       "      <td>Browser</td>\n",
       "      <td>2020-09-02 02:30:59.799 UTC</td>\n",
       "      <td>2020-09-02 02:31:03.763 UTC</td>\n",
       "      <td>https</td>\n",
       "      <td>www.smh.com.au</td>\n",
       "      <td>80</td>\n",
       "      <td>/politics/federal/banks-offered-cheap-200b-to-help-build-economy-out-of-recession-20200901-p55rcz.html</td>\n",
       "      <td>https</td>\n",
       "      <td>news.google.com</td>\n",
       "      <td>80.0</td>\n",
       "      <td>/</td>\n",
       "      <td>smh-web</td>\n",
       "      <td>au8s4TsetQrW2Z9kFaP5OnDB0lzcPx3UqQaNvuAvh4M=</td>\n",
       "      <td>C851D2F5-D1FF-4719-B28A-D25DC2102F23</td>\n",
       "      <td>Np06htpOFNzlMhv1zwQ4Qp+35jhGiNdbJ8T7xgyqw+o=</td>\n",
       "      <td>Subscriber</td>\n",
       "      <td>P55RCZ</td>\n",
       "      <td>ARTICLE</td>\n",
       "      <td>AUSTRALIAN RECESSION</td>\n",
       "      <td>Subscriber (non-expd Session)</td>\n",
       "    </tr>\n",
       "  </tbody>\n",
       "</table>\n",
       "</div>"
      ],
      "text/plain": [
       "                             domain_userid                        network_userid                      domain_sessionid                                                                       useragent     os_name os_family    br_name br_family br_version  br_type               derived_tstamp             collector_tstamp page_urlscheme    page_urlhost  page_urlport                                                                                            page_urlpath refr_urlscheme              refr_urlhost  refr_urlport                                     refr_urlpath   app_id                                user_ipaddress                          page_view_id                                     member_id member_type article_id article_type article_primary_category                      user_type\n",
       "1505  a8dc0854-b90f-411b-a546-a63cf3b4f1f0  8de29f5d-7725-4377-942f-7cb761d581f8  56f9aca8-094d-45ee-8fd6-768c9de3fbbd  Mozilla/5.0 (Windows NT 10.0; Win64; x64; rv:79.0) Gecko/20100101 Firefox/79.0  Windows 10   Windows  Firefox 7   Firefox       79.0  Browser  2020-09-02 22:05:48.443 UTC  2020-09-03 06:00:01.244 UTC          https  www.smh.com.au            80                                                                                                       /          https  www.thesmhinsider.com.au          80.0  /s/Respond/bb81b94f-4328-41bd-8cf0-544c9828eafa  smh-web  nPv7ssdG66AFUvhsftA7ABQQhOx86LtOr+Cn6Q12tJE=  59FD215D-0062-4A75-ADC0-C23598FE0416  cmSh12eRMh0AFbkYkJmXfu9y35Oyz47vbwHEod9sN7A=  Subscriber        NaN     HOMEPAGE                      NaN  Subscriber (non-expd Session)\n",
       "1561  a32173b7-11dd-4631-9a05-6c63e3a6d430  945d7780-07b6-416d-8ea6-1102bb367a2f  171ceff1-dbeb-4525-8345-6745e5a7e0b0  Mozilla/5.0 (Windows NT 10.0; Win64; x64; rv:80.0) Gecko/20100101 Firefox/80.0  Windows 10   Windows  Firefox 8   Firefox       80.0  Browser   2020-09-03 04:31:00.56 UTC  2020-09-03 04:31:01.172 UTC          https  www.smh.com.au            80                                                                                                       /          https         www.theage.com.au          80.0                                                /  smh-web  5x7ykdeNWviRpkYBeVgFexnE6JIWJV7mo03CeXkKRe4=  6AD355B6-9C58-40F2-9F57-3D936A328045  PoQ9ARACrcJQDR4CFaIgUxlgEgeraSg314LchTDDgXU=  Subscriber        NaN     HOMEPAGE                      NaN  Subscriber (non-expd Session)\n",
       "1641  8cc9a17e-8a9d-422d-8952-cb18d230ca0d  a17c588d-c06c-468a-8fee-efa02cda5722  74bf59a9-baf2-4a8a-b210-3a17b1a81c3b  Mozilla/5.0 (Windows NT 10.0; Win64; x64; rv:80.0) Gecko/20100101 Firefox/80.0  Windows 10   Windows  Firefox 8   Firefox       80.0  Browser  2020-09-01 03:41:47.005 UTC   2020-09-01 03:41:47.01 UTC          https  www.smh.com.au            80                                                                                                       /          https        weather.smh.com.au          80.0                       /local-forecast/nsw/sydney  smh-web  RtP+TcxLS1zV7PXK2jXtW3O99d3KIMVLCftJ0oy8AjI=  3627448D-C3AB-4E5A-A715-51D14964EA9B  gTE0QhuEGHKvTQIWG6XcoFZ2SYCXtUJ0asyzogys7Mw=  Subscriber        NaN     HOMEPAGE                      NaN  Subscriber (non-expd Session)\n",
       "1675  dc203aed-0db6-42e5-8b47-20314991b908  acf670b7-5d4d-4574-b0bf-c1ac52988d03  fd3bfd02-bad4-484d-b7ab-2bfac4616159  Mozilla/5.0 (Windows NT 10.0; Win64; x64; rv:80.0) Gecko/20100101 Firefox/80.0  Windows 10   Windows  Firefox 8   Firefox       80.0  Browser  2020-09-02 23:17:56.735 UTC  2020-09-02 23:17:56.736 UTC          https  www.smh.com.au            80                                                                                                       /          https  www.thesmhinsider.com.au          80.0  /s/Respond/7f6cbdb5-48eb-4af0-bc44-fd2395af5069  smh-web  KOzgfnxpgIfEFLAkjSF3Q4LYjMVUtj1bprn1JsDfRR4=  3881BE21-F452-444F-8D0E-9AF85B3E7476  E+XGbucmjNJerjyN1Kzh7DG33knEUCo5DzwukSOvdd8=  Subscriber        NaN     HOMEPAGE                      NaN  Subscriber (non-expd Session)\n",
       "1744  12d9b04b-b909-42c4-8d85-df829d250e0d  865c51a3-cce8-4f96-877f-faf2dcbc08be  cb3a85db-195b-417d-9200-dd8a8061c600  Mozilla/5.0 (Windows NT 10.0; Win64; x64; rv:80.0) Gecko/20100101 Firefox/80.0  Windows 10   Windows  Firefox 8   Firefox       80.0  Browser  2020-09-02 02:30:59.799 UTC  2020-09-02 02:31:03.763 UTC          https  www.smh.com.au            80  /politics/federal/banks-offered-cheap-200b-to-help-build-economy-out-of-recession-20200901-p55rcz.html          https           news.google.com          80.0                                                /  smh-web  au8s4TsetQrW2Z9kFaP5OnDB0lzcPx3UqQaNvuAvh4M=  C851D2F5-D1FF-4719-B28A-D25DC2102F23  Np06htpOFNzlMhv1zwQ4Qp+35jhGiNdbJ8T7xgyqw+o=  Subscriber     P55RCZ      ARTICLE     AUSTRALIAN RECESSION  Subscriber (non-expd Session)"
      ]
     },
     "execution_count": 50,
     "metadata": {},
     "output_type": "execute_result"
    }
   ],
   "source": [
    "subsess = events.loc[events['user_type'] == 'Subscriber (non-expd Session)']\n",
    "subsess.head()"
   ]
  },
  {
   "cell_type": "code",
   "execution_count": 51,
   "metadata": {},
   "outputs": [
    {
     "data": {
      "text/html": [
       "<div>\n",
       "<style scoped>\n",
       "    .dataframe tbody tr th:only-of-type {\n",
       "        vertical-align: middle;\n",
       "    }\n",
       "\n",
       "    .dataframe tbody tr th {\n",
       "        vertical-align: top;\n",
       "    }\n",
       "\n",
       "    .dataframe thead th {\n",
       "        text-align: right;\n",
       "    }\n",
       "</style>\n",
       "<table border=\"1\" class=\"dataframe\">\n",
       "  <thead>\n",
       "    <tr style=\"text-align: right;\">\n",
       "      <th></th>\n",
       "      <th>domain_userid</th>\n",
       "      <th>network_userid</th>\n",
       "      <th>domain_sessionid</th>\n",
       "      <th>useragent</th>\n",
       "      <th>os_name</th>\n",
       "      <th>os_family</th>\n",
       "      <th>br_name</th>\n",
       "      <th>br_family</th>\n",
       "      <th>br_version</th>\n",
       "      <th>br_type</th>\n",
       "      <th>derived_tstamp</th>\n",
       "      <th>collector_tstamp</th>\n",
       "      <th>page_urlscheme</th>\n",
       "      <th>page_urlhost</th>\n",
       "      <th>page_urlport</th>\n",
       "      <th>page_urlpath</th>\n",
       "      <th>refr_urlscheme</th>\n",
       "      <th>refr_urlhost</th>\n",
       "      <th>refr_urlport</th>\n",
       "      <th>refr_urlpath</th>\n",
       "      <th>app_id</th>\n",
       "      <th>user_ipaddress</th>\n",
       "      <th>page_view_id</th>\n",
       "      <th>member_id</th>\n",
       "      <th>member_type</th>\n",
       "      <th>article_id</th>\n",
       "      <th>article_type</th>\n",
       "      <th>article_primary_category</th>\n",
       "      <th>user_type</th>\n",
       "    </tr>\n",
       "  </thead>\n",
       "  <tbody>\n",
       "    <tr>\n",
       "      <th>1641</th>\n",
       "      <td>8cc9a17e-8a9d-422d-8952-cb18d230ca0d</td>\n",
       "      <td>a17c588d-c06c-468a-8fee-efa02cda5722</td>\n",
       "      <td>74bf59a9-baf2-4a8a-b210-3a17b1a81c3b</td>\n",
       "      <td>Mozilla/5.0 (Windows NT 10.0; Win64; x64; rv:80.0) Gecko/20100101 Firefox/80.0</td>\n",
       "      <td>Windows 10</td>\n",
       "      <td>Windows</td>\n",
       "      <td>Firefox 8</td>\n",
       "      <td>Firefox</td>\n",
       "      <td>80.0</td>\n",
       "      <td>Browser</td>\n",
       "      <td>2020-09-01 03:41:47.005 UTC</td>\n",
       "      <td>2020-09-01 03:41:47.01 UTC</td>\n",
       "      <td>https</td>\n",
       "      <td>www.smh.com.au</td>\n",
       "      <td>80</td>\n",
       "      <td>/</td>\n",
       "      <td>https</td>\n",
       "      <td>weather.smh.com.au</td>\n",
       "      <td>80.0</td>\n",
       "      <td>/local-forecast/nsw/sydney</td>\n",
       "      <td>smh-web</td>\n",
       "      <td>RtP+TcxLS1zV7PXK2jXtW3O99d3KIMVLCftJ0oy8AjI=</td>\n",
       "      <td>3627448D-C3AB-4E5A-A715-51D14964EA9B</td>\n",
       "      <td>gTE0QhuEGHKvTQIWG6XcoFZ2SYCXtUJ0asyzogys7Mw=</td>\n",
       "      <td>Subscriber</td>\n",
       "      <td>NaN</td>\n",
       "      <td>HOMEPAGE</td>\n",
       "      <td>NaN</td>\n",
       "      <td>Subscriber (non-expd Session)</td>\n",
       "    </tr>\n",
       "    <tr>\n",
       "      <th>1863</th>\n",
       "      <td>8cc9a17e-8a9d-422d-8952-cb18d230ca0d</td>\n",
       "      <td>a17c588d-c06c-468a-8fee-efa02cda5722</td>\n",
       "      <td>74bf59a9-baf2-4a8a-b210-3a17b1a81c3b</td>\n",
       "      <td>Mozilla/5.0 (Windows NT 10.0; Win64; x64; rv:80.0) Gecko/20100101 Firefox/80.0</td>\n",
       "      <td>Windows 10</td>\n",
       "      <td>Windows</td>\n",
       "      <td>Firefox 8</td>\n",
       "      <td>Firefox</td>\n",
       "      <td>80.0</td>\n",
       "      <td>Browser</td>\n",
       "      <td>2020-09-01 02:42:55.895 UTC</td>\n",
       "      <td>2020-09-01 02:42:55.903 UTC</td>\n",
       "      <td>https</td>\n",
       "      <td>www.smh.com.au</td>\n",
       "      <td>80</td>\n",
       "      <td>/</td>\n",
       "      <td>https</td>\n",
       "      <td>weather.smh.com.au</td>\n",
       "      <td>80.0</td>\n",
       "      <td>/local-forecast/nsw/sydney</td>\n",
       "      <td>smh-web</td>\n",
       "      <td>RtP+TcxLS1zV7PXK2jXtW3O99d3KIMVLCftJ0oy8AjI=</td>\n",
       "      <td>9E6862AE-F756-4E7D-B627-700D2101B30C</td>\n",
       "      <td>gTE0QhuEGHKvTQIWG6XcoFZ2SYCXtUJ0asyzogys7Mw=</td>\n",
       "      <td>Subscriber</td>\n",
       "      <td>NaN</td>\n",
       "      <td>HOMEPAGE</td>\n",
       "      <td>NaN</td>\n",
       "      <td>NaN</td>\n",
       "    </tr>\n",
       "    <tr>\n",
       "      <th>733276</th>\n",
       "      <td>8cc9a17e-8a9d-422d-8952-cb18d230ca0d</td>\n",
       "      <td>a17c588d-c06c-468a-8fee-efa02cda5722</td>\n",
       "      <td>74bf59a9-baf2-4a8a-b210-3a17b1a81c3b</td>\n",
       "      <td>Mozilla/5.0 (Windows NT 10.0; Win64; x64; rv:80.0) Gecko/20100101 Firefox/80.0</td>\n",
       "      <td>Windows 10</td>\n",
       "      <td>Windows</td>\n",
       "      <td>Firefox 8</td>\n",
       "      <td>Firefox</td>\n",
       "      <td>80.0</td>\n",
       "      <td>Browser</td>\n",
       "      <td>2020-09-01 02:27:39.135 UTC</td>\n",
       "      <td>2020-09-01 02:27:39.141 UTC</td>\n",
       "      <td>https</td>\n",
       "      <td>www.smh.com.au</td>\n",
       "      <td>80</td>\n",
       "      <td>/</td>\n",
       "      <td>https</td>\n",
       "      <td>weather.smh.com.au</td>\n",
       "      <td>80.0</td>\n",
       "      <td>/local-forecast/nsw/sydney</td>\n",
       "      <td>smh-web</td>\n",
       "      <td>RtP+TcxLS1zV7PXK2jXtW3O99d3KIMVLCftJ0oy8AjI=</td>\n",
       "      <td>916D2AA0-F764-4B80-8543-E502F1238C3A</td>\n",
       "      <td>gTE0QhuEGHKvTQIWG6XcoFZ2SYCXtUJ0asyzogys7Mw=</td>\n",
       "      <td>Subscriber</td>\n",
       "      <td>NaN</td>\n",
       "      <td>HOMEPAGE</td>\n",
       "      <td>NaN</td>\n",
       "      <td>NaN</td>\n",
       "    </tr>\n",
       "    <tr>\n",
       "      <th>733295</th>\n",
       "      <td>8cc9a17e-8a9d-422d-8952-cb18d230ca0d</td>\n",
       "      <td>a17c588d-c06c-468a-8fee-efa02cda5722</td>\n",
       "      <td>74bf59a9-baf2-4a8a-b210-3a17b1a81c3b</td>\n",
       "      <td>Mozilla/5.0 (Windows NT 10.0; Win64; x64; rv:80.0) Gecko/20100101 Firefox/80.0</td>\n",
       "      <td>Windows 10</td>\n",
       "      <td>Windows</td>\n",
       "      <td>Firefox 8</td>\n",
       "      <td>Firefox</td>\n",
       "      <td>80.0</td>\n",
       "      <td>Browser</td>\n",
       "      <td>2020-09-01 04:02:06.697 UTC</td>\n",
       "      <td>2020-09-01 04:02:06.705 UTC</td>\n",
       "      <td>https</td>\n",
       "      <td>www.smh.com.au</td>\n",
       "      <td>80</td>\n",
       "      <td>/</td>\n",
       "      <td>https</td>\n",
       "      <td>weather.smh.com.au</td>\n",
       "      <td>80.0</td>\n",
       "      <td>/local-forecast/nsw/sydney</td>\n",
       "      <td>smh-web</td>\n",
       "      <td>RtP+TcxLS1zV7PXK2jXtW3O99d3KIMVLCftJ0oy8AjI=</td>\n",
       "      <td>0E59410D-96C6-4D76-808A-228251D63318</td>\n",
       "      <td>gTE0QhuEGHKvTQIWG6XcoFZ2SYCXtUJ0asyzogys7Mw=</td>\n",
       "      <td>Subscriber</td>\n",
       "      <td>NaN</td>\n",
       "      <td>HOMEPAGE</td>\n",
       "      <td>NaN</td>\n",
       "      <td>NaN</td>\n",
       "    </tr>\n",
       "    <tr>\n",
       "      <th>2198002</th>\n",
       "      <td>8cc9a17e-8a9d-422d-8952-cb18d230ca0d</td>\n",
       "      <td>a17c588d-c06c-468a-8fee-efa02cda5722</td>\n",
       "      <td>74bf59a9-baf2-4a8a-b210-3a17b1a81c3b</td>\n",
       "      <td>Mozilla/5.0 (Windows NT 10.0; Win64; x64; rv:80.0) Gecko/20100101 Firefox/80.0</td>\n",
       "      <td>Windows 10</td>\n",
       "      <td>Windows</td>\n",
       "      <td>Firefox 8</td>\n",
       "      <td>Firefox</td>\n",
       "      <td>80.0</td>\n",
       "      <td>Browser</td>\n",
       "      <td>2020-09-01 02:32:45.989 UTC</td>\n",
       "      <td>2020-09-01 02:32:45.997 UTC</td>\n",
       "      <td>https</td>\n",
       "      <td>www.smh.com.au</td>\n",
       "      <td>80</td>\n",
       "      <td>/</td>\n",
       "      <td>https</td>\n",
       "      <td>weather.smh.com.au</td>\n",
       "      <td>80.0</td>\n",
       "      <td>/local-forecast/nsw/sydney</td>\n",
       "      <td>smh-web</td>\n",
       "      <td>RtP+TcxLS1zV7PXK2jXtW3O99d3KIMVLCftJ0oy8AjI=</td>\n",
       "      <td>49C509D9-1DF7-4528-A2F1-0EF1756F6712</td>\n",
       "      <td>gTE0QhuEGHKvTQIWG6XcoFZ2SYCXtUJ0asyzogys7Mw=</td>\n",
       "      <td>Subscriber</td>\n",
       "      <td>NaN</td>\n",
       "      <td>HOMEPAGE</td>\n",
       "      <td>NaN</td>\n",
       "      <td>NaN</td>\n",
       "    </tr>\n",
       "    <tr>\n",
       "      <th>2929939</th>\n",
       "      <td>8cc9a17e-8a9d-422d-8952-cb18d230ca0d</td>\n",
       "      <td>a17c588d-c06c-468a-8fee-efa02cda5722</td>\n",
       "      <td>74bf59a9-baf2-4a8a-b210-3a17b1a81c3b</td>\n",
       "      <td>Mozilla/5.0 (Windows NT 10.0; Win64; x64; rv:80.0) Gecko/20100101 Firefox/80.0</td>\n",
       "      <td>Windows 10</td>\n",
       "      <td>Windows</td>\n",
       "      <td>Firefox 8</td>\n",
       "      <td>Firefox</td>\n",
       "      <td>80.0</td>\n",
       "      <td>Browser</td>\n",
       "      <td>2020-09-01 04:04:46.299 UTC</td>\n",
       "      <td>2020-09-01 04:04:46.306 UTC</td>\n",
       "      <td>https</td>\n",
       "      <td>www.smh.com.au</td>\n",
       "      <td>80</td>\n",
       "      <td>/</td>\n",
       "      <td>https</td>\n",
       "      <td>weather.smh.com.au</td>\n",
       "      <td>80.0</td>\n",
       "      <td>/local-forecast/nsw/sydney</td>\n",
       "      <td>smh-web</td>\n",
       "      <td>RtP+TcxLS1zV7PXK2jXtW3O99d3KIMVLCftJ0oy8AjI=</td>\n",
       "      <td>45038F7E-E1B8-4923-BA96-B26E8451ECF9</td>\n",
       "      <td>gTE0QhuEGHKvTQIWG6XcoFZ2SYCXtUJ0asyzogys7Mw=</td>\n",
       "      <td>Subscriber</td>\n",
       "      <td>NaN</td>\n",
       "      <td>HOMEPAGE</td>\n",
       "      <td>NaN</td>\n",
       "      <td>NaN</td>\n",
       "    </tr>\n",
       "    <tr>\n",
       "      <th>2930165</th>\n",
       "      <td>8cc9a17e-8a9d-422d-8952-cb18d230ca0d</td>\n",
       "      <td>a17c588d-c06c-468a-8fee-efa02cda5722</td>\n",
       "      <td>74bf59a9-baf2-4a8a-b210-3a17b1a81c3b</td>\n",
       "      <td>Mozilla/5.0 (Windows NT 10.0; Win64; x64; rv:80.0) Gecko/20100101 Firefox/80.0</td>\n",
       "      <td>Windows 10</td>\n",
       "      <td>Windows</td>\n",
       "      <td>Firefox 8</td>\n",
       "      <td>Firefox</td>\n",
       "      <td>80.0</td>\n",
       "      <td>Browser</td>\n",
       "      <td>2020-09-01 03:46:51.61 UTC</td>\n",
       "      <td>2020-09-01 03:46:51.616 UTC</td>\n",
       "      <td>https</td>\n",
       "      <td>www.smh.com.au</td>\n",
       "      <td>80</td>\n",
       "      <td>/</td>\n",
       "      <td>https</td>\n",
       "      <td>weather.smh.com.au</td>\n",
       "      <td>80.0</td>\n",
       "      <td>/local-forecast/nsw/sydney</td>\n",
       "      <td>smh-web</td>\n",
       "      <td>RtP+TcxLS1zV7PXK2jXtW3O99d3KIMVLCftJ0oy8AjI=</td>\n",
       "      <td>35704C9B-9AB3-49E9-B67B-E57289554205</td>\n",
       "      <td>gTE0QhuEGHKvTQIWG6XcoFZ2SYCXtUJ0asyzogys7Mw=</td>\n",
       "      <td>Subscriber</td>\n",
       "      <td>NaN</td>\n",
       "      <td>HOMEPAGE</td>\n",
       "      <td>NaN</td>\n",
       "      <td>NaN</td>\n",
       "    </tr>\n",
       "  </tbody>\n",
       "</table>\n",
       "</div>"
      ],
      "text/plain": [
       "                                domain_userid                        network_userid                      domain_sessionid                                                                       useragent     os_name os_family    br_name br_family br_version  br_type               derived_tstamp             collector_tstamp page_urlscheme    page_urlhost  page_urlport page_urlpath refr_urlscheme        refr_urlhost  refr_urlport                refr_urlpath   app_id                                user_ipaddress                          page_view_id                                     member_id member_type article_id article_type article_primary_category                      user_type\n",
       "1641     8cc9a17e-8a9d-422d-8952-cb18d230ca0d  a17c588d-c06c-468a-8fee-efa02cda5722  74bf59a9-baf2-4a8a-b210-3a17b1a81c3b  Mozilla/5.0 (Windows NT 10.0; Win64; x64; rv:80.0) Gecko/20100101 Firefox/80.0  Windows 10   Windows  Firefox 8   Firefox       80.0  Browser  2020-09-01 03:41:47.005 UTC   2020-09-01 03:41:47.01 UTC          https  www.smh.com.au            80            /          https  weather.smh.com.au          80.0  /local-forecast/nsw/sydney  smh-web  RtP+TcxLS1zV7PXK2jXtW3O99d3KIMVLCftJ0oy8AjI=  3627448D-C3AB-4E5A-A715-51D14964EA9B  gTE0QhuEGHKvTQIWG6XcoFZ2SYCXtUJ0asyzogys7Mw=  Subscriber        NaN     HOMEPAGE                      NaN  Subscriber (non-expd Session)\n",
       "1863     8cc9a17e-8a9d-422d-8952-cb18d230ca0d  a17c588d-c06c-468a-8fee-efa02cda5722  74bf59a9-baf2-4a8a-b210-3a17b1a81c3b  Mozilla/5.0 (Windows NT 10.0; Win64; x64; rv:80.0) Gecko/20100101 Firefox/80.0  Windows 10   Windows  Firefox 8   Firefox       80.0  Browser  2020-09-01 02:42:55.895 UTC  2020-09-01 02:42:55.903 UTC          https  www.smh.com.au            80            /          https  weather.smh.com.au          80.0  /local-forecast/nsw/sydney  smh-web  RtP+TcxLS1zV7PXK2jXtW3O99d3KIMVLCftJ0oy8AjI=  9E6862AE-F756-4E7D-B627-700D2101B30C  gTE0QhuEGHKvTQIWG6XcoFZ2SYCXtUJ0asyzogys7Mw=  Subscriber        NaN     HOMEPAGE                      NaN                            NaN\n",
       "733276   8cc9a17e-8a9d-422d-8952-cb18d230ca0d  a17c588d-c06c-468a-8fee-efa02cda5722  74bf59a9-baf2-4a8a-b210-3a17b1a81c3b  Mozilla/5.0 (Windows NT 10.0; Win64; x64; rv:80.0) Gecko/20100101 Firefox/80.0  Windows 10   Windows  Firefox 8   Firefox       80.0  Browser  2020-09-01 02:27:39.135 UTC  2020-09-01 02:27:39.141 UTC          https  www.smh.com.au            80            /          https  weather.smh.com.au          80.0  /local-forecast/nsw/sydney  smh-web  RtP+TcxLS1zV7PXK2jXtW3O99d3KIMVLCftJ0oy8AjI=  916D2AA0-F764-4B80-8543-E502F1238C3A  gTE0QhuEGHKvTQIWG6XcoFZ2SYCXtUJ0asyzogys7Mw=  Subscriber        NaN     HOMEPAGE                      NaN                            NaN\n",
       "733295   8cc9a17e-8a9d-422d-8952-cb18d230ca0d  a17c588d-c06c-468a-8fee-efa02cda5722  74bf59a9-baf2-4a8a-b210-3a17b1a81c3b  Mozilla/5.0 (Windows NT 10.0; Win64; x64; rv:80.0) Gecko/20100101 Firefox/80.0  Windows 10   Windows  Firefox 8   Firefox       80.0  Browser  2020-09-01 04:02:06.697 UTC  2020-09-01 04:02:06.705 UTC          https  www.smh.com.au            80            /          https  weather.smh.com.au          80.0  /local-forecast/nsw/sydney  smh-web  RtP+TcxLS1zV7PXK2jXtW3O99d3KIMVLCftJ0oy8AjI=  0E59410D-96C6-4D76-808A-228251D63318  gTE0QhuEGHKvTQIWG6XcoFZ2SYCXtUJ0asyzogys7Mw=  Subscriber        NaN     HOMEPAGE                      NaN                            NaN\n",
       "2198002  8cc9a17e-8a9d-422d-8952-cb18d230ca0d  a17c588d-c06c-468a-8fee-efa02cda5722  74bf59a9-baf2-4a8a-b210-3a17b1a81c3b  Mozilla/5.0 (Windows NT 10.0; Win64; x64; rv:80.0) Gecko/20100101 Firefox/80.0  Windows 10   Windows  Firefox 8   Firefox       80.0  Browser  2020-09-01 02:32:45.989 UTC  2020-09-01 02:32:45.997 UTC          https  www.smh.com.au            80            /          https  weather.smh.com.au          80.0  /local-forecast/nsw/sydney  smh-web  RtP+TcxLS1zV7PXK2jXtW3O99d3KIMVLCftJ0oy8AjI=  49C509D9-1DF7-4528-A2F1-0EF1756F6712  gTE0QhuEGHKvTQIWG6XcoFZ2SYCXtUJ0asyzogys7Mw=  Subscriber        NaN     HOMEPAGE                      NaN                            NaN\n",
       "2929939  8cc9a17e-8a9d-422d-8952-cb18d230ca0d  a17c588d-c06c-468a-8fee-efa02cda5722  74bf59a9-baf2-4a8a-b210-3a17b1a81c3b  Mozilla/5.0 (Windows NT 10.0; Win64; x64; rv:80.0) Gecko/20100101 Firefox/80.0  Windows 10   Windows  Firefox 8   Firefox       80.0  Browser  2020-09-01 04:04:46.299 UTC  2020-09-01 04:04:46.306 UTC          https  www.smh.com.au            80            /          https  weather.smh.com.au          80.0  /local-forecast/nsw/sydney  smh-web  RtP+TcxLS1zV7PXK2jXtW3O99d3KIMVLCftJ0oy8AjI=  45038F7E-E1B8-4923-BA96-B26E8451ECF9  gTE0QhuEGHKvTQIWG6XcoFZ2SYCXtUJ0asyzogys7Mw=  Subscriber        NaN     HOMEPAGE                      NaN                            NaN\n",
       "2930165  8cc9a17e-8a9d-422d-8952-cb18d230ca0d  a17c588d-c06c-468a-8fee-efa02cda5722  74bf59a9-baf2-4a8a-b210-3a17b1a81c3b  Mozilla/5.0 (Windows NT 10.0; Win64; x64; rv:80.0) Gecko/20100101 Firefox/80.0  Windows 10   Windows  Firefox 8   Firefox       80.0  Browser   2020-09-01 03:46:51.61 UTC  2020-09-01 03:46:51.616 UTC          https  www.smh.com.au            80            /          https  weather.smh.com.au          80.0  /local-forecast/nsw/sydney  smh-web  RtP+TcxLS1zV7PXK2jXtW3O99d3KIMVLCftJ0oy8AjI=  35704C9B-9AB3-49E9-B67B-E57289554205  gTE0QhuEGHKvTQIWG6XcoFZ2SYCXtUJ0asyzogys7Mw=  Subscriber        NaN     HOMEPAGE                      NaN                            NaN"
      ]
     },
     "execution_count": 51,
     "metadata": {},
     "output_type": "execute_result"
    }
   ],
   "source": [
    "#memsess = events.loc[(events['member_id'] == 'PoQ9ARACrcJQDR4CFaIgUxlgEgeraSg314LchTDDgXU=') & (events['domain_sessionid'] == '171ceff1-dbeb-4525-8345-6745e5a7e0b0')]\n",
    "memsess = events.loc[(events['member_id'] == 'gTE0QhuEGHKvTQIWG6XcoFZ2SYCXtUJ0asyzogys7Mw=') & (events['domain_sessionid'] == '74bf59a9-baf2-4a8a-b210-3a17b1a81c3b')]\n",
    "memsess"
   ]
  },
  {
   "cell_type": "code",
   "execution_count": 52,
   "metadata": {},
   "outputs": [
    {
     "data": {
      "text/plain": [
       "['2020-09-01 02:27:39.141 UTC',\n",
       " '2020-09-01 02:32:45.997 UTC',\n",
       " '2020-09-01 02:42:55.903 UTC',\n",
       " '2020-09-01 03:41:47.01 UTC',\n",
       " '2020-09-01 03:46:51.616 UTC',\n",
       " '2020-09-01 04:02:06.705 UTC',\n",
       " '2020-09-01 04:04:46.306 UTC']"
      ]
     },
     "execution_count": 52,
     "metadata": {},
     "output_type": "execute_result"
    }
   ],
   "source": [
    "sessiontimestamps = memsess['collector_tstamp'].unique()\n",
    "sorted(sessiontimestamps)"
   ]
  },
  {
   "cell_type": "markdown",
   "metadata": {},
   "source": [
    "Many of these flagged events don't look suspicious and there may be an explanation as to why the same session id did not expire. For instance, a user could have been active on the page (interacting with that page) for longer and thereby extending the timeout. The threshold could be adjusted based on avg (or max) page use time + 30 minutes, or on another metric that shows page interactions if there is one, so correct session usage does not get flagged."
   ]
  },
  {
   "cell_type": "markdown",
   "metadata": {},
   "source": [
    "#### Other possible bots?"
   ]
  },
  {
   "cell_type": "markdown",
   "metadata": {},
   "source": [
    "I also checked user-agent strings that are too short or long, which may be suspicious. In the first file there were none with over 400 characters and 92 with over 300, most were WeChat or MicroMessenger, plus one Aliapp as well as a Samsung Android browser  - these could be legitimate users."
   ]
  },
  {
   "cell_type": "code",
   "execution_count": 53,
   "metadata": {},
   "outputs": [
    {
     "data": {
      "text/plain": [
       "92"
      ]
     },
     "execution_count": 53,
     "metadata": {},
     "output_type": "execute_result"
    }
   ],
   "source": [
    "# Long user-agents\n",
    "longuseragent = events.loc[((events['user_type'] != 'Probable bot') & (events['user_type'] != 'Bot')) & (events['useragent'].str.len() > 300)]\n",
    "longuseragent['useragent'].count()"
   ]
  },
  {
   "cell_type": "markdown",
   "metadata": {},
   "source": [
    "There were only 5 with less than 25 characters, including RadioS2S/1.1.1 and candroid/6.8.3 (216)\n",
    "\n",
    "These are unusual user-agents and may need to be flagged as strange users."
   ]
  },
  {
   "cell_type": "code",
   "execution_count": 54,
   "metadata": {},
   "outputs": [
    {
     "data": {
      "text/plain": [
       "Android                 2\n",
       "selenium                1\n",
       "RadioS2S/1.1.1          1\n",
       "candroid/6.8.3 (216)    1\n",
       "Name: useragent, dtype: int64"
      ]
     },
     "execution_count": 54,
     "metadata": {},
     "output_type": "execute_result"
    }
   ],
   "source": [
    "# Short user-agents\n",
    "shortuseragent = events.loc[((events['user_type'] != 'Probable bot') & (events['user_type'] != 'Bot')) & (events['useragent'].str.len() < 25)]\n",
    "shortuseragent['useragent'].value_counts()"
   ]
  },
  {
   "cell_type": "markdown",
   "metadata": {},
   "source": [
    "Apart from this one, all other selenium user agents are already flagged as being a Probable bot. Flag any that have been missed."
   ]
  },
  {
   "cell_type": "code",
   "execution_count": 55,
   "metadata": {},
   "outputs": [
    {
     "data": {
      "text/plain": [
       "Bot                                  146306\n",
       "Non-Subscriber (non-expd Session)     46170\n",
       "Subscriber (non-expd Session)         27337\n",
       "Probable bot                          19178\n",
       "Probable bot (Subscriber)               966\n",
       "Name: user_type, dtype: int64"
      ]
     },
     "execution_count": 55,
     "metadata": {},
     "output_type": "execute_result"
    }
   ],
   "source": [
    "events.loc[events['useragent'] == 'selenium', 'user_type'] = 'Probable bot'\n",
    "events['user_type'].value_counts()"
   ]
  },
  {
   "cell_type": "markdown",
   "metadata": {},
   "source": [
    "### Finding proxies - further data discovery\n",
    "There are proxy server lists which can help identify proxies by their IP addresses or address ranges. As this data is de-identified it is not possible to use this method. Also these list would have to be kept up-to-date as proxies are added/changed. Load balanced proxies can also cause users' IP addresses can switch between requests.\n",
    "\n",
    "I take a look at events by IP address below to see if it is possible to ascertain if any are proxies.\n",
    "\n",
    "As many companies use NATs, many users may share one IP address, and home WIFIs will also assign the same IP to different devices so there may be more than one user with the same IP address.\n",
    "#### Look at the distribution of events by IP address"
   ]
  },
  {
   "cell_type": "code",
   "execution_count": 56,
   "metadata": {},
   "outputs": [
    {
     "data": {
      "text/plain": [
       "count    713298.000000\n",
       "mean          5.129899\n",
       "std          38.185986\n",
       "min           1.000000\n",
       "25%           1.000000\n",
       "50%           1.000000\n",
       "75%           4.000000\n",
       "max        8729.000000\n",
       "Name: collector_tstamp, dtype: float64"
      ]
     },
     "execution_count": 56,
     "metadata": {},
     "output_type": "execute_result"
    }
   ],
   "source": [
    "eventsperip = events['collector_tstamp'].groupby(events['user_ipaddress']).count()\n",
    "eventsperip.describe()"
   ]
  },
  {
   "cell_type": "code",
   "execution_count": 57,
   "metadata": {},
   "outputs": [
    {
     "data": {
      "text/plain": [
       "<matplotlib.axes._subplots.AxesSubplot at 0x215df31d190>"
      ]
     },
     "execution_count": 57,
     "metadata": {},
     "output_type": "execute_result"
    },
    {
     "data": {
      "image/png": "[encoded data removed]",
      "text/plain": [
       "<Figure size 432x288 with 1 Axes>"
      ]
     },
     "metadata": {
      "needs_background": "light"
     },
     "output_type": "display_data"
    }
   ],
   "source": [
    "sns.boxplot(data=eventsperip)"
   ]
  },
  {
   "cell_type": "markdown",
   "metadata": {},
   "source": [
    "This shows that there are some IP addresses associated with a very large numbers of events."
   ]
  },
  {
   "cell_type": "code",
   "execution_count": 58,
   "metadata": {},
   "outputs": [],
   "source": [
    "ipbyuseridcount = (events.groupby(['user_ipaddress','domain_userid'], as_index=False).count()\n",
    "                   .groupby('user_ipaddress', as_index=False)['domain_userid'].count())"
   ]
  },
  {
   "cell_type": "code",
   "execution_count": 59,
   "metadata": {},
   "outputs": [
    {
     "data": {
      "text/plain": [
       "(31, 2)"
      ]
     },
     "execution_count": 59,
     "metadata": {},
     "output_type": "execute_result"
    }
   ],
   "source": [
    "manyuserids = ipbyuseridcount.loc[ipbyuseridcount['domain_userid']>500]\n",
    "manyuserids.shape"
   ]
  },
  {
   "cell_type": "code",
   "execution_count": 60,
   "metadata": {},
   "outputs": [
    {
     "data": {
      "text/html": [
       "<div>\n",
       "<style scoped>\n",
       "    .dataframe tbody tr th:only-of-type {\n",
       "        vertical-align: middle;\n",
       "    }\n",
       "\n",
       "    .dataframe tbody tr th {\n",
       "        vertical-align: top;\n",
       "    }\n",
       "\n",
       "    .dataframe thead th {\n",
       "        text-align: right;\n",
       "    }\n",
       "</style>\n",
       "<table border=\"1\" class=\"dataframe\">\n",
       "  <thead>\n",
       "    <tr style=\"text-align: right;\">\n",
       "      <th></th>\n",
       "      <th>user_ipaddress</th>\n",
       "      <th>domain_userid</th>\n",
       "    </tr>\n",
       "  </thead>\n",
       "  <tbody>\n",
       "    <tr>\n",
       "      <th>24103</th>\n",
       "      <td>09Vr9KqO9KyBTtxDa3JLy2yOxCVkw/JjmNcmNcVaqQo=</td>\n",
       "      <td>555</td>\n",
       "    </tr>\n",
       "    <tr>\n",
       "      <th>52384</th>\n",
       "      <td>2gHxzsD6VUPcJRuRo0UC2A0dgz3bjREYyRE3LX41tkQ=</td>\n",
       "      <td>3628</td>\n",
       "    </tr>\n",
       "    <tr>\n",
       "      <th>61298</th>\n",
       "      <td>3TXgy8BPyPRK+pNMX6hDODBoSSIkhBKhMA/EwSuYQbE=</td>\n",
       "      <td>1206</td>\n",
       "    </tr>\n",
       "    <tr>\n",
       "      <th>77340</th>\n",
       "      <td>4w01ETGeNvxV86wdxbVdJurSSEaLabM6ul7MWG0mTvI=</td>\n",
       "      <td>908</td>\n",
       "    </tr>\n",
       "    <tr>\n",
       "      <th>110239</th>\n",
       "      <td>7qugTOwTAYX3OG63y5RYOEwwztCRy4hIK3LtRPWYy1A=</td>\n",
       "      <td>539</td>\n",
       "    </tr>\n",
       "  </tbody>\n",
       "</table>\n",
       "</div>"
      ],
      "text/plain": [
       "                                      user_ipaddress  domain_userid\n",
       "24103   09Vr9KqO9KyBTtxDa3JLy2yOxCVkw/JjmNcmNcVaqQo=            555\n",
       "52384   2gHxzsD6VUPcJRuRo0UC2A0dgz3bjREYyRE3LX41tkQ=           3628\n",
       "61298   3TXgy8BPyPRK+pNMX6hDODBoSSIkhBKhMA/EwSuYQbE=           1206\n",
       "77340   4w01ETGeNvxV86wdxbVdJurSSEaLabM6ul7MWG0mTvI=            908\n",
       "110239  7qugTOwTAYX3OG63y5RYOEwwztCRy4hIK3LtRPWYy1A=            539"
      ]
     },
     "execution_count": 60,
     "metadata": {},
     "output_type": "execute_result"
    }
   ],
   "source": [
    "manyuserids.head()"
   ]
  },
  {
   "cell_type": "code",
   "execution_count": 61,
   "metadata": {},
   "outputs": [
    {
     "data": {
      "text/plain": [
       "(66662, 29)"
      ]
     },
     "execution_count": 61,
     "metadata": {},
     "output_type": "execute_result"
    }
   ],
   "source": [
    "ips = events.loc[(events['user_ipaddress'].isin(manyuserids['user_ipaddress']))]\n",
    "ips.shape"
   ]
  },
  {
   "cell_type": "code",
   "execution_count": 62,
   "metadata": {},
   "outputs": [
    {
     "data": {
      "text/plain": [
       "dgEJfPWYnwQze2jPZrI5wC0SyEFGcJCK0Ayko5lumfA=    6267\n",
       "ObHO03PpnMhR1btoy/YqwbrWuwFsZuxmmJxU+mumZYI=    5703\n",
       "etKgx5+jfXRHLJRfhpY60ROlpychnLNGZ8CbsKW1dVM=    4749\n",
       "oPphCmbOAbhkxBbvrFu9i5ZgQ/mOAKZm29gBTwmEeIA=    4733\n",
       "plp+bNUnKMqocBYjpG217CkI28ZvHkpmSUlA2n12elE=    4429\n",
       "2gHxzsD6VUPcJRuRo0UC2A0dgz3bjREYyRE3LX41tkQ=    3645\n",
       "3TXgy8BPyPRK+pNMX6hDODBoSSIkhBKhMA/EwSuYQbE=    3594\n",
       "sXyMAHyWYBT5JN2trWYizJr/yfff7Lu3fDcZpksXyUM=    3223\n",
       "9W5HiXpWdrf88/6SPZ76K3h2Q7KiY+qwsWIhYzmUJCU=    3153\n",
       "TzIJy+pmaSyO+RPpPl6Pov6AnMBU7DM3d2OAV5hdey0=    2655\n",
       "rQJAgRQE/lOzoP5Wkb3YgLvkQlMDOoKSJZo3HUJUwbQ=    2212\n",
       "j5c6wW+57gxbL2tMP8OZeOcUw4oxuhwl9gTwg4Vd3Gc=    2071\n",
       "7qugTOwTAYX3OG63y5RYOEwwztCRy4hIK3LtRPWYy1A=    2052\n",
       "KO1UaiXSF6/275PLw2oRUN5gqZC9JjMqnGUn9SHuJUw=    1956\n",
       "Miy2xeCX/MmCtpBJZJjr+n2+vZkL/SuVvrfp+CuxQmU=    1875\n",
       "09Vr9KqO9KyBTtxDa3JLy2yOxCVkw/JjmNcmNcVaqQo=    1807\n",
       "NFgfiODyerhk4o4Op7lcXs+LIZE3nvLftYnv0j8IZHE=    1631\n",
       "uQ3KkmePjZ1P0n7JsmXryDi4g5LEE3imkvmyesMBICw=    1459\n",
       "HBLRCk+3cOQ9Hk7L3KF5Sspvu2+e7FXOtHNcMkZreno=    1334\n",
       "PP7kHtFm5ymTEGKekQ51vFJcjfej9cOIId32Q+D59R4=     957\n",
       "4w01ETGeNvxV86wdxbVdJurSSEaLabM6ul7MWG0mTvI=     908\n",
       "n4peXnK1sc8HJ9arPWdO+RTsFIP+RMDXqIYkXwi1o38=     784\n",
       "9T4FLoXxwdLW0O0jSoSFqJLcZrstbhgIEdcTNRq/axs=     779\n",
       "C8LPETQ6NDZF5aliymBcawR8pNfYpQRNhvTkU2fv8Ik=     667\n",
       "IGj2iIIkZ1FPUCYmvTaZiIqgAB/jh7hxKo3wHij/N9w=     635\n",
       "7vMp6vvqY4qr9P92FKvaUUdbBPf7xScLi299O+AMnNo=     611\n",
       "umxLiKsWSpz8hDFdIOQNq4onsY4i2C1f7tjNQT7iYc4=     597\n",
       "w3lv48Zl49HQb2M1G/Yyn4GchVn0d99Y+pVOxDQx1cc=     568\n",
       "dwVwhkE+Tnp1gmkIluxyheoEGpNH0U1Hk3mPwKAq1ks=     554\n",
       "9/Z6WBm8WKQv/j0IJ6y54AiLG14IWWR6Ap2zbbOsQ8I=     553\n",
       "85BeV8KtulIJBG0TMIuUkIFyBVhdUuEs4xcf/UkvSGc=     501\n",
       "Name: user_ipaddress, dtype: int64"
      ]
     },
     "execution_count": 62,
     "metadata": {},
     "output_type": "execute_result"
    }
   ],
   "source": [
    "ips['user_ipaddress'].value_counts()"
   ]
  },
  {
   "cell_type": "code",
   "execution_count": 63,
   "metadata": {},
   "outputs": [
    {
     "data": {
      "text/plain": [
       "Bot                                  25804\n",
       "Non-Subscriber (non-expd Session)      992\n",
       "Probable bot                           657\n",
       "Subscriber (non-expd Session)          421\n",
       "Name: user_type, dtype: int64"
      ]
     },
     "execution_count": 63,
     "metadata": {},
     "output_type": "execute_result"
    }
   ],
   "source": [
    "# This doesn't yet include normal subscribers and non-subscribers\n",
    "ips['user_type'].value_counts()"
   ]
  },
  {
   "cell_type": "markdown",
   "metadata": {},
   "source": [
    "#### Look at Subscribers in this list"
   ]
  },
  {
   "cell_type": "code",
   "execution_count": 64,
   "metadata": {},
   "outputs": [
    {
     "data": {
      "text/plain": [
       "(9370, 29)"
      ]
     },
     "execution_count": 64,
     "metadata": {},
     "output_type": "execute_result"
    }
   ],
   "source": [
    "subsips = events.loc[(events['user_ipaddress'].isin(ips['user_ipaddress'])) & (events['member_type'] == 'Subscriber')]\n",
    "subsips.shape"
   ]
  },
  {
   "cell_type": "code",
   "execution_count": 65,
   "metadata": {},
   "outputs": [
    {
     "data": {
      "text/plain": [
       "Subscriber (non-expd Session)    421\n",
       "Name: user_type, dtype: int64"
      ]
     },
     "execution_count": 65,
     "metadata": {},
     "output_type": "execute_result"
    }
   ],
   "source": [
    "subsips['user_type'].value_counts()"
   ]
  },
  {
   "cell_type": "code",
   "execution_count": 66,
   "metadata": {},
   "outputs": [],
   "source": [
    "# Look at these Subscriber IP address and their member ids\n",
    "# Flag them if the IPs are associated with many different member_ids\n",
    "# they could be a proxy server being connected to by multiple subscribers\n",
    "subipmemidcount = (subsips.groupby(['user_ipaddress','member_id'], as_index=False).count()\n",
    "                   .groupby('user_ipaddress', as_index=False)['member_id'].count())"
   ]
  },
  {
   "cell_type": "code",
   "execution_count": 67,
   "metadata": {},
   "outputs": [
    {
     "data": {
      "text/html": [
       "<div>\n",
       "<style scoped>\n",
       "    .dataframe tbody tr th:only-of-type {\n",
       "        vertical-align: middle;\n",
       "    }\n",
       "\n",
       "    .dataframe tbody tr th {\n",
       "        vertical-align: top;\n",
       "    }\n",
       "\n",
       "    .dataframe thead th {\n",
       "        text-align: right;\n",
       "    }\n",
       "</style>\n",
       "<table border=\"1\" class=\"dataframe\">\n",
       "  <thead>\n",
       "    <tr style=\"text-align: right;\">\n",
       "      <th></th>\n",
       "      <th>user_ipaddress</th>\n",
       "      <th>member_id</th>\n",
       "    </tr>\n",
       "  </thead>\n",
       "  <tbody>\n",
       "    <tr>\n",
       "      <th>0</th>\n",
       "      <td>09Vr9KqO9KyBTtxDa3JLy2yOxCVkw/JjmNcmNcVaqQo=</td>\n",
       "      <td>63</td>\n",
       "    </tr>\n",
       "    <tr>\n",
       "      <th>1</th>\n",
       "      <td>3TXgy8BPyPRK+pNMX6hDODBoSSIkhBKhMA/EwSuYQbE=</td>\n",
       "      <td>162</td>\n",
       "    </tr>\n",
       "    <tr>\n",
       "      <th>2</th>\n",
       "      <td>7qugTOwTAYX3OG63y5RYOEwwztCRy4hIK3LtRPWYy1A=</td>\n",
       "      <td>48</td>\n",
       "    </tr>\n",
       "    <tr>\n",
       "      <th>3</th>\n",
       "      <td>HBLRCk+3cOQ9Hk7L3KF5Sspvu2+e7FXOtHNcMkZreno=</td>\n",
       "      <td>55</td>\n",
       "    </tr>\n",
       "    <tr>\n",
       "      <th>4</th>\n",
       "      <td>KO1UaiXSF6/275PLw2oRUN5gqZC9JjMqnGUn9SHuJUw=</td>\n",
       "      <td>136</td>\n",
       "    </tr>\n",
       "    <tr>\n",
       "      <th>5</th>\n",
       "      <td>Miy2xeCX/MmCtpBJZJjr+n2+vZkL/SuVvrfp+CuxQmU=</td>\n",
       "      <td>87</td>\n",
       "    </tr>\n",
       "    <tr>\n",
       "      <th>6</th>\n",
       "      <td>ObHO03PpnMhR1btoy/YqwbrWuwFsZuxmmJxU+mumZYI=</td>\n",
       "      <td>172</td>\n",
       "    </tr>\n",
       "    <tr>\n",
       "      <th>7</th>\n",
       "      <td>TzIJy+pmaSyO+RPpPl6Pov6AnMBU7DM3d2OAV5hdey0=</td>\n",
       "      <td>70</td>\n",
       "    </tr>\n",
       "    <tr>\n",
       "      <th>8</th>\n",
       "      <td>etKgx5+jfXRHLJRfhpY60ROlpychnLNGZ8CbsKW1dVM=</td>\n",
       "      <td>166</td>\n",
       "    </tr>\n",
       "    <tr>\n",
       "      <th>9</th>\n",
       "      <td>j5c6wW+57gxbL2tMP8OZeOcUw4oxuhwl9gTwg4Vd3Gc=</td>\n",
       "      <td>67</td>\n",
       "    </tr>\n",
       "    <tr>\n",
       "      <th>10</th>\n",
       "      <td>rQJAgRQE/lOzoP5Wkb3YgLvkQlMDOoKSJZo3HUJUwbQ=</td>\n",
       "      <td>69</td>\n",
       "    </tr>\n",
       "    <tr>\n",
       "      <th>11</th>\n",
       "      <td>sXyMAHyWYBT5JN2trWYizJr/yfff7Lu3fDcZpksXyUM=</td>\n",
       "      <td>73</td>\n",
       "    </tr>\n",
       "    <tr>\n",
       "      <th>12</th>\n",
       "      <td>uQ3KkmePjZ1P0n7JsmXryDi4g5LEE3imkvmyesMBICw=</td>\n",
       "      <td>48</td>\n",
       "    </tr>\n",
       "  </tbody>\n",
       "</table>\n",
       "</div>"
      ],
      "text/plain": [
       "                                  user_ipaddress  member_id\n",
       "0   09Vr9KqO9KyBTtxDa3JLy2yOxCVkw/JjmNcmNcVaqQo=         63\n",
       "1   3TXgy8BPyPRK+pNMX6hDODBoSSIkhBKhMA/EwSuYQbE=        162\n",
       "2   7qugTOwTAYX3OG63y5RYOEwwztCRy4hIK3LtRPWYy1A=         48\n",
       "3   HBLRCk+3cOQ9Hk7L3KF5Sspvu2+e7FXOtHNcMkZreno=         55\n",
       "4   KO1UaiXSF6/275PLw2oRUN5gqZC9JjMqnGUn9SHuJUw=        136\n",
       "5   Miy2xeCX/MmCtpBJZJjr+n2+vZkL/SuVvrfp+CuxQmU=         87\n",
       "6   ObHO03PpnMhR1btoy/YqwbrWuwFsZuxmmJxU+mumZYI=        172\n",
       "7   TzIJy+pmaSyO+RPpPl6Pov6AnMBU7DM3d2OAV5hdey0=         70\n",
       "8   etKgx5+jfXRHLJRfhpY60ROlpychnLNGZ8CbsKW1dVM=        166\n",
       "9   j5c6wW+57gxbL2tMP8OZeOcUw4oxuhwl9gTwg4Vd3Gc=         67\n",
       "10  rQJAgRQE/lOzoP5Wkb3YgLvkQlMDOoKSJZo3HUJUwbQ=         69\n",
       "11  sXyMAHyWYBT5JN2trWYizJr/yfff7Lu3fDcZpksXyUM=         73\n",
       "12  uQ3KkmePjZ1P0n7JsmXryDi4g5LEE3imkvmyesMBICw=         48"
      ]
     },
     "execution_count": 67,
     "metadata": {},
     "output_type": "execute_result"
    }
   ],
   "source": [
    "subipmemidcount"
   ]
  },
  {
   "cell_type": "markdown",
   "metadata": {},
   "source": [
    "As subscribers will sometimes go onto the site without logging in, their IP address can also be associated with the non-subscriber 'member_id' 0AAQhPrQmHuvKC08RFgkT68fGVirRQfhzeaoZL6FS6Y=\n",
    "\n",
    "It won't be very common that different subscribers log in onto the same machine, but is possible. Also there can be multiple users on the same IP as devices can share an IP address e.g. via their home wifi router."
   ]
  },
  {
   "cell_type": "markdown",
   "metadata": {},
   "source": [
    "Take a look at one of the IP addresses. "
   ]
  },
  {
   "cell_type": "code",
   "execution_count": 70,
   "metadata": {},
   "outputs": [
    {
     "data": {
      "text/plain": [
       "(808, 29)"
      ]
     },
     "execution_count": 70,
     "metadata": {},
     "output_type": "execute_result"
    }
   ],
   "source": [
    "ipmanymembers = events.loc[(events['user_ipaddress'] == '3TXgy8BPyPRK+pNMX6hDODBoSSIkhBKhMA/EwSuYQbE=') & (events['member_type'] == 'Subscriber')]\n",
    "ipmanymembers.shape"
   ]
  },
  {
   "cell_type": "code",
   "execution_count": 71,
   "metadata": {},
   "outputs": [
    {
     "data": {
      "text/plain": [
       "AshfDS3cgIu7WPS3KgT2UvRxg3TNgZb8Ebet4alKiQw=    40\n",
       "Ynu4Th2UdcWHyzp4S/o9rq/UpNBbqgcENbg5HqfsS8k=    31\n",
       "i5BWxdmsnZYSJzFUA1Xr3baKaw+B+h1zPZIYE3o2y4A=    25\n",
       "BKfEpXPmdv1TNYTM6JTwqYE0hSpC2QqGaUTDXTZIVFI=    25\n",
       "ZBQGKZksgC5jNVFeRgwyHjfh/JObK0Nlp7etuGe2pEY=    22\n",
       "                                                ..\n",
       "RlXXHgzbVPQkfYnaqsM5CyUDZTRb31Fw+V7C9qBZX8s=     1\n",
       "5v06xdi0llf7/F9vlt7TyHOckONG722x2WvBc+GycEs=     1\n",
       "MmNhYpMtNNJkwT1z9+fW6wMYl4/11hPGxVpzzI7mr8w=     1\n",
       "C2PM8G68qvVkoB9Tw5uQeBwg1WYjG4Hft0pHh/fqqUs=     1\n",
       "CxfrKSesCTa55ZzLvYd0In7lf0RtLb74LEqe/S0N/Iw=     1\n",
       "Name: member_id, Length: 162, dtype: int64"
      ]
     },
     "execution_count": 71,
     "metadata": {},
     "output_type": "execute_result"
    }
   ],
   "source": [
    "ipmanymembers['member_id'].value_counts()"
   ]
  },
  {
   "cell_type": "markdown",
   "metadata": {},
   "source": [
    "If I assume that IP addresses with over 500 events in these 3 days are likely proxies, flag these."
   ]
  },
  {
   "cell_type": "code",
   "execution_count": 72,
   "metadata": {},
   "outputs": [
    {
     "data": {
      "text/plain": [
       "Bot                                  146306\n",
       "Non-Subscriber (non-expd Session)     46170\n",
       "Subscriber (non-expd Session)         27337\n",
       "Probable bot                          19178\n",
       "Subscriber (proxy)                     8949\n",
       "Probable bot (Subscriber)               966\n",
       "Name: user_type, dtype: int64"
      ]
     },
     "execution_count": 72,
     "metadata": {},
     "output_type": "execute_result"
    }
   ],
   "source": [
    "events.loc[(events['user_ipaddress'].isin(subsips['user_ipaddress'])) \n",
    "           & (events['member_type'] == 'Subscriber') \n",
    "           & (events['user_type'] != 'Subscriber (non-expd Session)') \n",
    "           & (events['user_type'] != 'Probable bot (Subscriber)') \n",
    "           & (events['user_type'] != 'Bot') \n",
    "           & (events['user_type'] != 'Probable bot')\n",
    "           & (events['user_type'] != 'Non-Subscriber (non-expd Session)'), 'user_type'] = 'Subscriber (proxy)'\n",
    "events['user_type'].value_counts()"
   ]
  },
  {
   "cell_type": "code",
   "execution_count": 73,
   "metadata": {},
   "outputs": [
    {
     "data": {
      "text/plain": [
       "Bot                                    146306\n",
       "Non-Subscriber (non-expd Session)       46170\n",
       "Subscriber (non-expd Session)           26916\n",
       "Probable bot                            19178\n",
       "Subscriber (proxy)                       8949\n",
       "Probable bot (Subscriber)                 966\n",
       "Subscriber (non-expd Session/proxy)       421\n",
       "Name: user_type, dtype: int64"
      ]
     },
     "execution_count": 73,
     "metadata": {},
     "output_type": "execute_result"
    }
   ],
   "source": [
    "events.loc[(events['user_ipaddress'].isin(subsips['user_ipaddress'])) \n",
    "           & (events['member_type'] == 'Subscriber') \n",
    "           & (events['user_type'] == 'Subscriber (non-expd Session)') \n",
    "           & (events['user_type'] != 'Probable bot (Subscriber)') \n",
    "           & (events['user_type'] != 'Bot') \n",
    "           & (events['user_type'] != 'Probable bot')\n",
    "           & (events['user_type'] != 'Non-Subscriber (non-expd Session)')\n",
    "           & (events['user_type'] != 'Subscriber (proxy)'), 'user_type'] = 'Subscriber (non-expd Session/proxy)'\n",
    "events['user_type'].value_counts()"
   ]
  },
  {
   "cell_type": "markdown",
   "metadata": {},
   "source": [
    "Set subscribers not already identified as having an issue to user_type: Subscriber (normal)"
   ]
  },
  {
   "cell_type": "code",
   "execution_count": 74,
   "metadata": {},
   "outputs": [
    {
     "data": {
      "text/plain": [
       "Subscriber (normal)                    1003257\n",
       "Bot                                     146306\n",
       "Non-Subscriber (non-expd Session)        46170\n",
       "Subscriber (non-expd Session)            26916\n",
       "Probable bot                             19178\n",
       "Subscriber (proxy)                        8949\n",
       "Probable bot (Subscriber)                  966\n",
       "Subscriber (non-expd Session/proxy)        421\n",
       "Name: user_type, dtype: int64"
      ]
     },
     "execution_count": 74,
     "metadata": {},
     "output_type": "execute_result"
    }
   ],
   "source": [
    "events.loc[(events['member_type'] == 'Subscriber') & (events['user_type'].isnull()), 'user_type'] = 'Subscriber (normal)'\n",
    "events['user_type'].value_counts()"
   ]
  },
  {
   "cell_type": "markdown",
   "metadata": {},
   "source": [
    "#### Now look at Non-Subscribers to identify possible proxies "
   ]
  },
  {
   "cell_type": "markdown",
   "metadata": {},
   "source": [
    "I check how many cookies a normal subscriber has to help work out a threshold for classifying non-subscriber IPs as being likely proxies."
   ]
  },
  {
   "cell_type": "code",
   "execution_count": 75,
   "metadata": {},
   "outputs": [],
   "source": [
    "normalsubs = events.loc[events['user_type'] == 'Subscriber (normal)']"
   ]
  },
  {
   "cell_type": "code",
   "execution_count": 76,
   "metadata": {},
   "outputs": [
    {
     "data": {
      "text/html": [
       "<div>\n",
       "<style scoped>\n",
       "    .dataframe tbody tr th:only-of-type {\n",
       "        vertical-align: middle;\n",
       "    }\n",
       "\n",
       "    .dataframe tbody tr th {\n",
       "        vertical-align: top;\n",
       "    }\n",
       "\n",
       "    .dataframe thead th {\n",
       "        text-align: right;\n",
       "    }\n",
       "</style>\n",
       "<table border=\"1\" class=\"dataframe\">\n",
       "  <thead>\n",
       "    <tr style=\"text-align: right;\">\n",
       "      <th></th>\n",
       "      <th>domain_userid</th>\n",
       "    </tr>\n",
       "  </thead>\n",
       "  <tbody>\n",
       "    <tr>\n",
       "      <th>count</th>\n",
       "      <td>118048.000000</td>\n",
       "    </tr>\n",
       "    <tr>\n",
       "      <th>mean</th>\n",
       "      <td>1.661112</td>\n",
       "    </tr>\n",
       "    <tr>\n",
       "      <th>std</th>\n",
       "      <td>2.364621</td>\n",
       "    </tr>\n",
       "    <tr>\n",
       "      <th>min</th>\n",
       "      <td>1.000000</td>\n",
       "    </tr>\n",
       "    <tr>\n",
       "      <th>25%</th>\n",
       "      <td>1.000000</td>\n",
       "    </tr>\n",
       "    <tr>\n",
       "      <th>50%</th>\n",
       "      <td>1.000000</td>\n",
       "    </tr>\n",
       "    <tr>\n",
       "      <th>75%</th>\n",
       "      <td>2.000000</td>\n",
       "    </tr>\n",
       "    <tr>\n",
       "      <th>max</th>\n",
       "      <td>147.000000</td>\n",
       "    </tr>\n",
       "  </tbody>\n",
       "</table>\n",
       "</div>"
      ],
      "text/plain": [
       "       domain_userid\n",
       "count  118048.000000\n",
       "mean        1.661112\n",
       "std         2.364621\n",
       "min         1.000000\n",
       "25%         1.000000\n",
       "50%         1.000000\n",
       "75%         2.000000\n",
       "max       147.000000"
      ]
     },
     "execution_count": 76,
     "metadata": {},
     "output_type": "execute_result"
    }
   ],
   "source": [
    "subsbyip = (normalsubs.groupby(['user_ipaddress','domain_userid'], as_index=False).count()\n",
    "                   .groupby('user_ipaddress', as_index=False)['domain_userid'].count())\n",
    "subsbyip.describe()"
   ]
  },
  {
   "cell_type": "markdown",
   "metadata": {},
   "source": [
    "Users (especially non-subscribers) could be using private/incognito browsing and therefore creating many more cookie and session ids.\n",
    "\n",
    "For now I will flag the ones identified above as having > 500 cookies"
   ]
  },
  {
   "cell_type": "code",
   "execution_count": 77,
   "metadata": {},
   "outputs": [
    {
     "data": {
      "text/plain": [
       "(57292, 29)"
      ]
     },
     "execution_count": 77,
     "metadata": {},
     "output_type": "execute_result"
    }
   ],
   "source": [
    "# Find non-subscribers that have IP addresses with over 500 events\n",
    "nonsubs = events.loc[(events['user_ipaddress'].isin(ips['user_ipaddress'])) & (events['member_type']=='Non-Subscriber')]\n",
    "nonsubs.shape"
   ]
  },
  {
   "cell_type": "code",
   "execution_count": 78,
   "metadata": {},
   "outputs": [
    {
     "data": {
      "text/plain": [
       "Bot                                  25804\n",
       "Non-Subscriber (non-expd Session)      992\n",
       "Probable bot                           657\n",
       "Name: user_type, dtype: int64"
      ]
     },
     "execution_count": 78,
     "metadata": {},
     "output_type": "execute_result"
    }
   ],
   "source": [
    "nonsubs['user_type'].value_counts()"
   ]
  },
  {
   "cell_type": "code",
   "execution_count": 79,
   "metadata": {},
   "outputs": [
    {
     "data": {
      "text/plain": [
       "Subscriber (normal)                    1003257\n",
       "Bot                                     146306\n",
       "Non-Subscriber (non-expd Session)        46170\n",
       "Non-Subscriber (proxy)                   29839\n",
       "Subscriber (non-expd Session)            26916\n",
       "Probable bot                             19178\n",
       "Subscriber (proxy)                        8949\n",
       "Probable bot (Subscriber)                  966\n",
       "Subscriber (non-expd Session/proxy)        421\n",
       "Name: user_type, dtype: int64"
      ]
     },
     "execution_count": 79,
     "metadata": {},
     "output_type": "execute_result"
    }
   ],
   "source": [
    "events.loc[(events['user_ipaddress'].isin(nonsubs['user_ipaddress'])) \n",
    "           & (events['member_type'] == 'Non-Subscriber') \n",
    "           & (events['user_type'] != 'Subscriber (non-expd Session)') \n",
    "           & (events['user_type'] != 'Probable bot (Subscriber)')\n",
    "           & (events['user_type'] != 'Subscriber (normal)')\n",
    "           & (events['user_type'] != 'Subscriber (non-expd Session/proxy)')\n",
    "           & (events['user_type'] != 'Bot')\n",
    "           & (events['user_type'] != 'Subscriber (proxy)')\n",
    "           & (events['user_type'] != 'Probable bot')\n",
    "           & (events['user_type'] != 'Non-Subscriber (non-expd Session)'), 'user_type'] = 'Non-Subscriber (proxy)'\n",
    "events['user_type'].value_counts()"
   ]
  },
  {
   "cell_type": "code",
   "execution_count": 80,
   "metadata": {},
   "outputs": [
    {
     "data": {
      "text/plain": [
       "Subscriber (normal)                    1003257\n",
       "Bot                                     120502\n",
       "Non-Subscriber (non-expd Session)        46170\n",
       "Non-Subscriber (proxy)                   29839\n",
       "Subscriber (non-expd Session)            26916\n",
       "Bot (proxy)                              25804\n",
       "Probable bot                             19178\n",
       "Subscriber (proxy)                        8949\n",
       "Probable bot (Subscriber)                  966\n",
       "Subscriber (non-expd Session/proxy)        421\n",
       "Name: user_type, dtype: int64"
      ]
     },
     "execution_count": 80,
     "metadata": {},
     "output_type": "execute_result"
    }
   ],
   "source": [
    "events.loc[(events['user_ipaddress'].isin(nonsubs['user_ipaddress'])) \n",
    "           & (events['member_type'] == 'Non-Subscriber')\n",
    "           & (events['user_type'] == 'Bot')\n",
    "           & (events['user_type'] != 'Subscriber (non-expd Session)') \n",
    "           & (events['user_type'] != 'Probable bot (Subscriber)')\n",
    "           & (events['user_type'] != 'Subscriber (normal)')\n",
    "           & (events['user_type'] != 'Subscriber (non-expd Session/proxy)')\n",
    "           & (events['user_type'] != 'Non-Subscriber (proxy)')\n",
    "           & (events['user_type'] != 'Subscriber (proxy)')\n",
    "           & (events['user_type'] != 'Probable bot')\n",
    "           & (events['user_type'] != 'Non-Subscriber (non-expd Session)'), 'user_type'] = 'Bot (proxy)'\n",
    "events['user_type'].value_counts()"
   ]
  },
  {
   "cell_type": "code",
   "execution_count": 81,
   "metadata": {},
   "outputs": [
    {
     "data": {
      "text/plain": [
       "Subscriber (normal)                        1003257\n",
       "Bot                                         120502\n",
       "Non-Subscriber (non-expd Session)            45178\n",
       "Non-Subscriber (proxy)                       29839\n",
       "Subscriber (non-expd Session)                26916\n",
       "Bot (proxy)                                  25804\n",
       "Probable bot                                 19178\n",
       "Subscriber (proxy)                            8949\n",
       "Non-Subscriber (non-expd Session/proxy)        992\n",
       "Probable bot (Subscriber)                      966\n",
       "Subscriber (non-expd Session/proxy)            421\n",
       "Name: user_type, dtype: int64"
      ]
     },
     "execution_count": 81,
     "metadata": {},
     "output_type": "execute_result"
    }
   ],
   "source": [
    "events.loc[(events['user_ipaddress'].isin(nonsubs['user_ipaddress'])) \n",
    "           & (events['member_type'] == 'Non-Subscriber')\n",
    "           & (events['user_type'] == 'Non-Subscriber (non-expd Session)')\n",
    "           & (events['user_type'] != 'Bot')\n",
    "           & (events['user_type'] != 'Subscriber (non-expd Session)') \n",
    "           & (events['user_type'] != 'Probable bot (Subscriber)')\n",
    "           & (events['user_type'] != 'Subscriber (normal)')\n",
    "           & (events['user_type'] != 'Subscriber (non-expd Session/proxy)')\n",
    "           & (events['user_type'] != 'Non-Subscriber (proxy)')\n",
    "           & (events['user_type'] != 'Subscriber (proxy)')\n",
    "           & (events['user_type'] != 'Probable bot')\n",
    "           & (events['user_type'] != 'Bot (proxy)'), 'user_type'] = 'Non-Subscriber (non-expd Session/proxy)'\n",
    "events['user_type'].value_counts()"
   ]
  },
  {
   "cell_type": "code",
   "execution_count": 82,
   "metadata": {},
   "outputs": [
    {
     "data": {
      "text/plain": [
       "Subscriber (normal)                        1003257\n",
       "Bot                                         120502\n",
       "Non-Subscriber (non-expd Session)            45178\n",
       "Non-Subscriber (proxy)                       29839\n",
       "Subscriber (non-expd Session)                26916\n",
       "Bot (proxy)                                  25804\n",
       "Probable bot                                 18521\n",
       "Subscriber (proxy)                            8949\n",
       "Non-Subscriber (non-expd Session/proxy)       1649\n",
       "Probable bot (Subscriber)                      966\n",
       "Subscriber (non-expd Session/proxy)            421\n",
       "Name: user_type, dtype: int64"
      ]
     },
     "execution_count": 82,
     "metadata": {},
     "output_type": "execute_result"
    }
   ],
   "source": [
    "events.loc[(events['user_ipaddress'].isin(nonsubs['user_ipaddress'])) \n",
    "           & (events['member_type'] == 'Non-Subscriber')\n",
    "           & (events['user_type'] == 'Probable bot')\n",
    "           & (events['user_type'] != 'Non-Subscriber (non-expd Session)')\n",
    "           & (events['user_type'] != 'Bot')\n",
    "           & (events['user_type'] != 'Subscriber (non-expd Session)') \n",
    "           & (events['user_type'] != 'Probable bot (Subscriber)')\n",
    "           & (events['user_type'] != 'Subscriber (normal)')\n",
    "           & (events['user_type'] != 'Subscriber (non-expd Session/proxy)')\n",
    "           & (events['user_type'] != 'Non-Subscriber (proxy)')\n",
    "           & (events['user_type'] != 'Subscriber (proxy)')\n",
    "           & (events['user_type'] != 'Non-Subscriber (non-expd Session/proxy)')\n",
    "           & (events['user_type'] != 'Bot (proxy)'), 'user_type'] = 'Non-Subscriber (non-expd Session/proxy)'\n",
    "events['user_type'].value_counts()"
   ]
  },
  {
   "cell_type": "markdown",
   "metadata": {},
   "source": [
    "### Explore further unusual behaviour"
   ]
  },
  {
   "cell_type": "markdown",
   "metadata": {},
   "source": [
    "As I have been looking through the data I saw that some users have many events very close together (within milliseconds). These could indicate further unusual e.g. bot activity, or could be caused by an error. It would be useful to further investigate this and filter events that are too close together to be actual user page reads."
   ]
  },
  {
   "cell_type": "markdown",
   "metadata": {},
   "source": [
    "#### Take a look at duplicate page_view_ids"
   ]
  },
  {
   "cell_type": "markdown",
   "metadata": {},
   "source": [
    "Are the duplicates mostly caused by bots? Page_view_ids can be null or duplicated due to an error or due to a bot."
   ]
  },
  {
   "cell_type": "code",
   "execution_count": 83,
   "metadata": {},
   "outputs": [
    {
     "data": {
      "text/plain": [
       "1520"
      ]
     },
     "execution_count": 83,
     "metadata": {},
     "output_type": "execute_result"
    }
   ],
   "source": [
    "events['page_view_id'].isnull().sum()"
   ]
  },
  {
   "cell_type": "code",
   "execution_count": 84,
   "metadata": {},
   "outputs": [
    {
     "data": {
      "text/plain": [
       "(143822, 29)"
      ]
     },
     "execution_count": 84,
     "metadata": {},
     "output_type": "execute_result"
    }
   ],
   "source": [
    "# find page_view_id duplicates\n",
    "duppageviewid = events.loc[events['page_view_id'].duplicated()]\n",
    "duppageviewid.shape"
   ]
  },
  {
   "cell_type": "code",
   "execution_count": 85,
   "metadata": {},
   "outputs": [
    {
     "data": {
      "text/plain": [
       "Bot                                        108027\n",
       "Subscriber (normal)                          4850\n",
       "Probable bot                                 1671\n",
       "Non-Subscriber (non-expd Session)            1462\n",
       "Probable bot (Subscriber)                     739\n",
       "Subscriber (non-expd Session)                 402\n",
       "Non-Subscriber (proxy)                        319\n",
       "Subscriber (proxy)                             39\n",
       "Bot (proxy)                                    21\n",
       "Subscriber (non-expd Session/proxy)             3\n",
       "Non-Subscriber (non-expd Session/proxy)         2\n",
       "Name: user_type, dtype: int64"
      ]
     },
     "execution_count": 85,
     "metadata": {},
     "output_type": "execute_result"
    }
   ],
   "source": [
    "duppageviewid['user_type'].value_counts()"
   ]
  },
  {
   "cell_type": "markdown",
   "metadata": {},
   "source": [
    "Most of the duplicate page view ids are from bots\n",
    "\n",
    "What about the rest?"
   ]
  },
  {
   "cell_type": "code",
   "execution_count": 86,
   "metadata": {},
   "outputs": [
    {
     "data": {
      "text/plain": [
       "(2377145, 29)"
      ]
     },
     "execution_count": 86,
     "metadata": {},
     "output_type": "execute_result"
    }
   ],
   "source": [
    "notclassifiedusers = events.loc[events['user_type'].isnull()]\n",
    "notclassifiedusers.shape"
   ]
  },
  {
   "cell_type": "code",
   "execution_count": 87,
   "metadata": {},
   "outputs": [
    {
     "data": {
      "text/plain": [
       "(25455, 29)"
      ]
     },
     "execution_count": 87,
     "metadata": {},
     "output_type": "execute_result"
    }
   ],
   "source": [
    "# find page_view_id duplicates in not classified users\n",
    "duppageviewidrest = notclassifiedusers.loc[notclassifiedusers['page_view_id'].duplicated()]\n",
    "duppageviewidrest.shape"
   ]
  },
  {
   "cell_type": "markdown",
   "metadata": {},
   "source": [
    "It would be good to investigate this further. Take a look at the domain_userids, domain_sessionids and event timestamps for these events. For instance, are there similar/duplicate timestamps that may account for a client browser or pipeline error? \n",
    "\n",
    "Or do these users display other bot-like behaviour? As I've been looking through the data I saw that some users have many events very close together (within milliseconds). These could indicate further unusual e.g. bot activity, or could be caused by an error. It would be useful to further investigate this and filter events that are too close together to be actual user page reads."
   ]
  },
  {
   "cell_type": "markdown",
   "metadata": {},
   "source": [
    "#### Events where page_view_id is null"
   ]
  },
  {
   "cell_type": "code",
   "execution_count": 88,
   "metadata": {},
   "outputs": [
    {
     "data": {
      "text/plain": [
       "(1520, 29)"
      ]
     },
     "execution_count": 88,
     "metadata": {},
     "output_type": "execute_result"
    }
   ],
   "source": [
    "nullpageview = events[events[\"page_view_id\"].isnull()]\n",
    "nullpageview.shape"
   ]
  },
  {
   "cell_type": "code",
   "execution_count": 89,
   "metadata": {},
   "outputs": [
    {
     "data": {
      "text/plain": [
       "SUBSCRIPTION    789\n",
       "INDEX           712\n",
       "SOUNDSLIDE        5\n",
       "ARTICLE           5\n",
       "PHOTOGALLERY      1\n",
       "Name: article_type, dtype: int64"
      ]
     },
     "execution_count": 89,
     "metadata": {},
     "output_type": "execute_result"
    }
   ],
   "source": [
    "nullpageview['article_type'].value_counts()"
   ]
  },
  {
   "cell_type": "code",
   "execution_count": 90,
   "metadata": {},
   "outputs": [
    {
     "data": {
      "text/plain": [
       "Non-Subscriber    1520\n",
       "Name: member_type, dtype: int64"
      ]
     },
     "execution_count": 90,
     "metadata": {},
     "output_type": "execute_result"
    }
   ],
   "source": [
    "nullpageview['member_type'].value_counts()"
   ]
  },
  {
   "cell_type": "code",
   "execution_count": 91,
   "metadata": {},
   "outputs": [
    {
     "data": {
      "text/plain": [
       "subscribers.smh.com.au               1380\n",
       "weather.smh.com.au                    119\n",
       "www.smh.com.au                         17\n",
       "www.smh.com.au.images.smh.com.au        2\n",
       "smh.myfairfax.com.au                    1\n",
       "xrys.smh.com.au.images.smh.com.au       1\n",
       "Name: page_urlhost, dtype: int64"
      ]
     },
     "execution_count": 91,
     "metadata": {},
     "output_type": "execute_result"
    }
   ],
   "source": [
    "nullpageview['page_urlhost'].value_counts()"
   ]
  },
  {
   "cell_type": "markdown",
   "metadata": {},
   "source": [
    "Interesting that most are from subscribers.smh.com.au but are Non-subscribers. Subscriber Hub currently not available.\n",
    "\n",
    "Many are from /support-centre or /local-forecast/ urls."
   ]
  },
  {
   "cell_type": "markdown",
   "metadata": {},
   "source": [
    "#### Also take a look at Unknown OSs"
   ]
  },
  {
   "cell_type": "code",
   "execution_count": 92,
   "metadata": {},
   "outputs": [
    {
     "data": {
      "text/plain": [
       "(3288, 29)"
      ]
     },
     "execution_count": 92,
     "metadata": {},
     "output_type": "execute_result"
    }
   ],
   "source": [
    "osunknownsubs = notclassifiedusers.loc[notclassifiedusers['os_name'] == 'Unknown']\n",
    "osunknownsubs.shape"
   ]
  },
  {
   "cell_type": "code",
   "execution_count": 93,
   "metadata": {},
   "outputs": [
    {
     "data": {
      "text/plain": [
       "(3288, 29)"
      ]
     },
     "execution_count": 93,
     "metadata": {},
     "output_type": "execute_result"
    }
   ],
   "source": [
    "osfamunknownsubs = notclassifiedusers.loc[notclassifiedusers['os_family'] == 'Unknown']\n",
    "osfamunknownsubs.shape"
   ]
  },
  {
   "cell_type": "markdown",
   "metadata": {},
   "source": [
    "Looking at the useragents for these, most of them include FBAN/ FBAV and are from facebook mobile app. There are also useragents for FreeBSD (unix like OS) and one for OS/2 Warp"
   ]
  },
  {
   "cell_type": "code",
   "execution_count": 94,
   "metadata": {},
   "outputs": [
    {
     "data": {
      "text/plain": [
       "(58, 29)"
      ]
     },
     "execution_count": 94,
     "metadata": {},
     "output_type": "execute_result"
    }
   ],
   "source": [
    "otheruseragents = osfamunknownsubs.loc[~osfamunknownsubs['useragent'].str.contains(\"FBAN|FBAV\")]\n",
    "otheruseragents.shape"
   ]
  },
  {
   "cell_type": "code",
   "execution_count": 95,
   "metadata": {},
   "outputs": [
    {
     "data": {
      "text/plain": [
       "Mozilla/5.0 (compatible; Konqueror/4.5; NetBSD 5.0.2; X11; amd64; en_US) KHTML/4.5.4 (like Gecko)                                    9\n",
       "Mozilla/5.0 (en-US) AppleWebKit/537.36 (KHTML, like Gecko; Widget Server) Chrome/84.0.4147.140 Safari/537.36                         7\n",
       "Mozilla/5.0 (OS/2; Warp 4.5; rv:45.0) Gecko/20100101 Firefox/45.0                                                                    7\n",
       "Opera/9.80 (X11; FreeBSD 8.1-RELEASE i386; Edition Next) Presto/2.12.388 Version/12.10                                               6\n",
       "Mozilla/5.0 (X11; FreeBSD amd64) AppleWebKit/537.36 (KHTML, like Gecko) Chrome/35.0.1916.153 Safari/537.36                           4\n",
       "Mozilla/5.0 (X11; FreeBSD amd64) AppleWebKit/537.4 (KHTML like Gecko) Chrome/22.0.1229.79 Safari/537.4                               3\n",
       "Mozilla/5.0 (X11; OpenBSD amd64; rv:30.0) Gecko/20100101 Firefox/30.0                                                                3\n",
       "Mozilla/5.0 (compatible; Konqueror/4.1; OpenBSD) KHTML/4.1.4 (like Gecko)                                                            3\n",
       "Mozilla/5.0 (X11; FreeBSD amd64; rv:38.0) Gecko/20100101 Firefox/38.0                                                                3\n",
       "Mozilla/5.0 (X11; FreeBSD i386; rv:28.0) Gecko/20100101 Firefox/28.0 SeaMonkey/2.25                                                  3\n",
       "Mozilla/5.0 (en-us) AppleWebKit/537.36(KHTML, like Gecko; Google-Adwords-DisplayAds-WebRender;) Chrome/84.0.4147.140Safari/537.36    2\n",
       "RadioS2S/1.1.1                                                                                                                       1\n",
       "Mozilla/5.0 (masking-agent; rv:34.0) Gecko/20100101 Firefox/34.0                                                                     1\n",
       "Mozilla/5.0 (X11; NetBSD i686; rv:84.0) Gecko/20100101 Firefox/84.0                                                                  1\n",
       "Opera/9.80 (SpreadTrum; Opera Mini/4.4.32739/37.8841; U; en) Presto/2.12.423 Version/12.16                                           1\n",
       "Mozilla/5.0 (X11; FreeBSD amd64; rv:68.0) Gecko/20100101 Firefox/68.0                                                                1\n",
       "Mozilla/5.0 (X11; NetBSD i686; rv:83.0) Gecko/20100101 Firefox/83.0                                                                  1\n",
       "Mozilla/5.0 (X11; FreeBSD amd64; rv:54.0) Gecko/20100101 Firefox/54.0                                                                1\n",
       "Mozilla/5.0  (compatible; parse.ly scraper/0.14;  http://parsely.com)  AppleWebKit/53  (KHTML, like Gecko)  Chrome/65.0.87           1\n",
       "Name: useragent, dtype: int64"
      ]
     },
     "execution_count": 95,
     "metadata": {},
     "output_type": "execute_result"
    }
   ],
   "source": [
    "otheruseragents['useragent'].value_counts()"
   ]
  },
  {
   "cell_type": "markdown",
   "metadata": {},
   "source": [
    "Set user type for the remainder of the non-subscribers to: Non-Subscriber (normal)"
   ]
  },
  {
   "cell_type": "code",
   "execution_count": 96,
   "metadata": {},
   "outputs": [
    {
     "data": {
      "text/plain": [
       "Non-Subscriber (normal)                    2377145\n",
       "Subscriber (normal)                        1003257\n",
       "Bot                                         120502\n",
       "Non-Subscriber (non-expd Session)            45178\n",
       "Non-Subscriber (proxy)                       29839\n",
       "Subscriber (non-expd Session)                26916\n",
       "Bot (proxy)                                  25804\n",
       "Probable bot                                 18521\n",
       "Subscriber (proxy)                            8949\n",
       "Non-Subscriber (non-expd Session/proxy)       1649\n",
       "Probable bot (Subscriber)                      966\n",
       "Subscriber (non-expd Session/proxy)            421\n",
       "Name: user_type, dtype: int64"
      ]
     },
     "execution_count": 96,
     "metadata": {},
     "output_type": "execute_result"
    }
   ],
   "source": [
    "events.loc[(events['user_type'].isnull()), 'user_type'] = 'Non-Subscriber (normal)'\n",
    "events['user_type'].value_counts()"
   ]
  },
  {
   "cell_type": "markdown",
   "metadata": {},
   "source": [
    "Set user type for the remainder of the subscribers to: Subscriber (normal)"
   ]
  },
  {
   "cell_type": "code",
   "execution_count": null,
   "metadata": {},
   "outputs": [],
   "source": []
  }
 ],
 "metadata": {
  "kernelspec": {
   "display_name": "Python 3",
   "language": "python",
   "name": "python3"
  },
  "language_info": {
   "codemirror_mode": {
    "name": "ipython",
    "version": 3
   },
   "file_extension": ".py",
   "mimetype": "text/x-python",
   "name": "python",
   "nbconvert_exporter": "python",
   "pygments_lexer": "ipython3",
   "version": "3.8.3"
  }
 },
 "nbformat": 4,
 "nbformat_minor": 4
}
